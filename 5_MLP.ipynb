{
  "nbformat": 4,
  "nbformat_minor": 0,
  "metadata": {
    "colab": {
      "name": "5_MLP.ipynb",
      "provenance": [],
      "collapsed_sections": [],
      "include_colab_link": true
    },
    "kernelspec": {
      "name": "python3",
      "display_name": "Python 3"
    },
    "accelerator": "GPU"
  },
  "cells": [
    {
      "cell_type": "markdown",
      "metadata": {
        "id": "view-in-github",
        "colab_type": "text"
      },
      "source": [
        "<a href=\"https://colab.research.google.com/github/leeminq1/python_ai_colab/blob/main/5_MLP.ipynb\" target=\"_parent\"><img src=\"https://colab.research.google.com/assets/colab-badge.svg\" alt=\"Open In Colab\"/></a>"
      ]
    },
    {
      "cell_type": "markdown",
      "source": [
        "# Keras: a library for deep learning (the easiest)\n",
        "\n",
        "\n",
        "https://keras.io/api/"
      ],
      "metadata": {
        "id": "uXAre6q6y3VG"
      }
    },
    {
      "cell_type": "code",
      "source": [
        "import numpy as np\n",
        "from tensorflow import keras\n",
        "from tensorflow.keras import layers"
      ],
      "metadata": {
        "id": "qF6zjmamzAtz"
      },
      "execution_count": 2,
      "outputs": []
    },
    {
      "cell_type": "markdown",
      "metadata": {
        "id": "wwg3JWBQZuNt"
      },
      "source": [
        "### MLP (multi-layer perceptron, fully-connected)\n",
        "#### - regression, classification"
      ]
    },
    {
      "cell_type": "markdown",
      "metadata": {
        "id": "oRXhGVcBcOsz"
      },
      "source": [
        "### 1. Regression\n",
        "#### - use the last score as prediction score\n",
        "#### - Boston housing price dataset (regression)\n"
      ]
    },
    {
      "cell_type": "code",
      "metadata": {
        "id": "hvUUxKErcP1t",
        "colab": {
          "base_uri": "https://localhost:8080/"
        },
        "outputId": "32b2dc40-9772-4752-d8c1-99ed5a40939e"
      },
      "source": [
        "## Dataset load (https://keras.io/api/datasets/boston_housing/)\n",
        "(X_train, y_train), (X_test, y_test) =keras.datasets.boston_housing.load_data(\n",
        "    path=\"boston_housing.npz\", test_split=0.2, seed=113\n",
        ")\n"
      ],
      "execution_count": 3,
      "outputs": [
        {
          "output_type": "stream",
          "name": "stdout",
          "text": [
            "Downloading data from https://storage.googleapis.com/tensorflow/tf-keras-datasets/boston_housing.npz\n",
            "57344/57026 [==============================] - 0s 0us/step\n",
            "65536/57026 [==================================] - 0s 0us/step\n"
          ]
        }
      ]
    },
    {
      "cell_type": "code",
      "source": [
        "## data shape\n",
        "print(X_train.shape)\n",
        "print(X_test.shape)\n",
        "print(y_train.shape)\n",
        "print(y_test.shape)"
      ],
      "metadata": {
        "id": "QjOz-HeBKRiB",
        "colab": {
          "base_uri": "https://localhost:8080/"
        },
        "outputId": "4c880fe6-4c79-45e3-e4f6-7846f709391e"
      },
      "execution_count": 5,
      "outputs": [
        {
          "output_type": "stream",
          "name": "stdout",
          "text": [
            "(404, 13)\n",
            "(102, 13)\n",
            "(404,)\n",
            "(102,)\n"
          ]
        }
      ]
    },
    {
      "cell_type": "code",
      "source": [
        "## Data sample\n",
        "y_train[0]\n"
      ],
      "metadata": {
        "id": "tdc57Ya5P4LD",
        "colab": {
          "base_uri": "https://localhost:8080/"
        },
        "outputId": "71bbd990-1fef-4f04-81c1-373e9babeffb"
      },
      "execution_count": 7,
      "outputs": [
        {
          "output_type": "execute_result",
          "data": {
            "text/plain": [
              "15.2"
            ]
          },
          "metadata": {},
          "execution_count": 7
        }
      ]
    },
    {
      "cell_type": "code",
      "metadata": {
        "id": "Tixdf84Cc8Oi",
        "colab": {
          "base_uri": "https://localhost:8080/"
        },
        "outputId": "eb1ad0cf-e0a6-42cc-8a7c-ae061a775640"
      },
      "source": [
        "## Model (https://keras.io/guides/sequential_model/)\n",
        "model = keras.Sequential(\n",
        "    [\n",
        "        layers.Dense(6, activation=\"relu\", name=\"layer1\",input_dim=13),\n",
        "        layers.Dense(3, activation=\"relu\", name=\"layer2\"),\n",
        "        layers.Dense(1,name=\"layer3\"),\n",
        "    ]\n",
        ")\n",
        "model.summary()"
      ],
      "execution_count": 8,
      "outputs": [
        {
          "output_type": "stream",
          "name": "stdout",
          "text": [
            "Model: \"sequential\"\n",
            "_________________________________________________________________\n",
            " Layer (type)                Output Shape              Param #   \n",
            "=================================================================\n",
            " layer1 (Dense)              (None, 6)                 84        \n",
            "                                                                 \n",
            " layer2 (Dense)              (None, 3)                 21        \n",
            "                                                                 \n",
            " layer3 (Dense)              (None, 1)                 4         \n",
            "                                                                 \n",
            "=================================================================\n",
            "Total params: 109\n",
            "Trainable params: 109\n",
            "Non-trainable params: 0\n",
            "_________________________________________________________________\n"
          ]
        }
      ]
    },
    {
      "cell_type": "code",
      "metadata": {
        "id": "zngpBtGMdnB2",
        "colab": {
          "base_uri": "https://localhost:8080/"
        },
        "outputId": "593e7f72-7182-4d59-d62e-9474bd1dc742"
      },
      "source": [
        "## Train (https://keras.io/api/models/model_training_apis/)\n",
        "batch_size = 16 \n",
        "epochs = 200\n",
        "\n",
        "## compile\n",
        "# 러닝 rate / loss / optimaizer 머 쓸건지 정함\n",
        "model.compile(optimizer=keras.optimizers.Adam(learning_rate=1e-3),\n",
        "              loss=keras.losses.MeanSquaredError())\n",
        "\n",
        "## fit\n",
        "model.fit(x=X_train,y=y_train,batch_size=batch_size,epochs=epochs,validation_split=0.1)\n"
      ],
      "execution_count": 10,
      "outputs": [
        {
          "output_type": "stream",
          "name": "stdout",
          "text": [
            "Epoch 1/200\n",
            "23/23 [==============================] - 3s 11ms/step - loss: 589.8611 - val_loss: 490.6507\n",
            "Epoch 2/200\n",
            "23/23 [==============================] - 0s 4ms/step - loss: 517.2059 - val_loss: 444.1240\n",
            "Epoch 3/200\n",
            "23/23 [==============================] - 0s 5ms/step - loss: 423.1861 - val_loss: 233.4456\n",
            "Epoch 4/200\n",
            "23/23 [==============================] - 0s 5ms/step - loss: 266.3398 - val_loss: 111.2544\n",
            "Epoch 5/200\n",
            "23/23 [==============================] - 0s 5ms/step - loss: 182.0485 - val_loss: 69.6169\n",
            "Epoch 6/200\n",
            "23/23 [==============================] - 0s 4ms/step - loss: 139.6757 - val_loss: 60.8821\n",
            "Epoch 7/200\n",
            "23/23 [==============================] - 0s 4ms/step - loss: 121.5915 - val_loss: 57.0223\n",
            "Epoch 8/200\n",
            "23/23 [==============================] - 0s 5ms/step - loss: 111.9341 - val_loss: 56.8944\n",
            "Epoch 9/200\n",
            "23/23 [==============================] - 0s 5ms/step - loss: 105.1487 - val_loss: 49.1824\n",
            "Epoch 10/200\n",
            "23/23 [==============================] - 0s 5ms/step - loss: 98.3034 - val_loss: 49.5541\n",
            "Epoch 11/200\n",
            "23/23 [==============================] - 0s 5ms/step - loss: 94.5660 - val_loss: 50.0843\n",
            "Epoch 12/200\n",
            "23/23 [==============================] - 0s 4ms/step - loss: 92.3115 - val_loss: 44.0442\n",
            "Epoch 13/200\n",
            "23/23 [==============================] - 0s 5ms/step - loss: 90.1697 - val_loss: 46.0076\n",
            "Epoch 14/200\n",
            "23/23 [==============================] - 0s 5ms/step - loss: 86.8586 - val_loss: 45.4554\n",
            "Epoch 15/200\n",
            "23/23 [==============================] - 0s 4ms/step - loss: 85.1436 - val_loss: 47.0610\n",
            "Epoch 16/200\n",
            "23/23 [==============================] - 0s 4ms/step - loss: 84.4320 - val_loss: 44.2864\n",
            "Epoch 17/200\n",
            "23/23 [==============================] - 0s 4ms/step - loss: 83.0626 - val_loss: 41.4227\n",
            "Epoch 18/200\n",
            "23/23 [==============================] - 0s 5ms/step - loss: 83.4465 - val_loss: 42.0227\n",
            "Epoch 19/200\n",
            "23/23 [==============================] - 0s 4ms/step - loss: 81.0170 - val_loss: 47.2808\n",
            "Epoch 20/200\n",
            "23/23 [==============================] - 0s 4ms/step - loss: 80.9211 - val_loss: 40.4596\n",
            "Epoch 21/200\n",
            "23/23 [==============================] - 0s 5ms/step - loss: 78.8889 - val_loss: 43.7612\n",
            "Epoch 22/200\n",
            "23/23 [==============================] - 0s 4ms/step - loss: 78.2538 - val_loss: 42.2665\n",
            "Epoch 23/200\n",
            "23/23 [==============================] - 0s 5ms/step - loss: 78.6338 - val_loss: 40.6832\n",
            "Epoch 24/200\n",
            "23/23 [==============================] - 0s 5ms/step - loss: 77.3054 - val_loss: 49.6857\n",
            "Epoch 25/200\n",
            "23/23 [==============================] - 0s 5ms/step - loss: 76.5012 - val_loss: 38.2485\n",
            "Epoch 26/200\n",
            "23/23 [==============================] - 0s 4ms/step - loss: 76.1729 - val_loss: 38.3711\n",
            "Epoch 27/200\n",
            "23/23 [==============================] - 0s 4ms/step - loss: 73.2908 - val_loss: 40.2758\n",
            "Epoch 28/200\n",
            "23/23 [==============================] - 0s 4ms/step - loss: 73.0343 - val_loss: 37.1544\n",
            "Epoch 29/200\n",
            "23/23 [==============================] - 0s 5ms/step - loss: 72.4420 - val_loss: 39.3630\n",
            "Epoch 30/200\n",
            "23/23 [==============================] - 0s 5ms/step - loss: 71.7636 - val_loss: 38.3426\n",
            "Epoch 31/200\n",
            "23/23 [==============================] - 0s 5ms/step - loss: 71.0434 - val_loss: 39.1449\n",
            "Epoch 32/200\n",
            "23/23 [==============================] - 0s 4ms/step - loss: 70.8694 - val_loss: 41.6344\n",
            "Epoch 33/200\n",
            "23/23 [==============================] - 0s 4ms/step - loss: 70.5111 - val_loss: 36.7014\n",
            "Epoch 34/200\n",
            "23/23 [==============================] - 0s 4ms/step - loss: 68.8790 - val_loss: 36.0656\n",
            "Epoch 35/200\n",
            "23/23 [==============================] - 0s 4ms/step - loss: 68.3670 - val_loss: 36.2851\n",
            "Epoch 36/200\n",
            "23/23 [==============================] - 0s 4ms/step - loss: 66.5494 - val_loss: 35.0315\n",
            "Epoch 37/200\n",
            "23/23 [==============================] - 0s 4ms/step - loss: 67.5722 - val_loss: 35.3949\n",
            "Epoch 38/200\n",
            "23/23 [==============================] - 0s 4ms/step - loss: 68.4391 - val_loss: 35.6164\n",
            "Epoch 39/200\n",
            "23/23 [==============================] - 0s 5ms/step - loss: 69.4583 - val_loss: 37.6626\n",
            "Epoch 40/200\n",
            "23/23 [==============================] - 0s 4ms/step - loss: 64.2956 - val_loss: 34.4932\n",
            "Epoch 41/200\n",
            "23/23 [==============================] - 0s 4ms/step - loss: 66.3862 - val_loss: 36.5061\n",
            "Epoch 42/200\n",
            "23/23 [==============================] - 0s 4ms/step - loss: 64.9836 - val_loss: 34.2481\n",
            "Epoch 43/200\n",
            "23/23 [==============================] - 0s 4ms/step - loss: 62.7941 - val_loss: 37.7317\n",
            "Epoch 44/200\n",
            "23/23 [==============================] - 0s 5ms/step - loss: 62.6451 - val_loss: 37.1780\n",
            "Epoch 45/200\n",
            "23/23 [==============================] - 0s 5ms/step - loss: 61.5897 - val_loss: 35.9100\n",
            "Epoch 46/200\n",
            "23/23 [==============================] - 0s 4ms/step - loss: 60.8836 - val_loss: 34.3935\n",
            "Epoch 47/200\n",
            "23/23 [==============================] - 0s 5ms/step - loss: 60.2585 - val_loss: 35.6831\n",
            "Epoch 48/200\n",
            "23/23 [==============================] - 0s 5ms/step - loss: 60.9767 - val_loss: 37.3059\n",
            "Epoch 49/200\n",
            "23/23 [==============================] - 0s 5ms/step - loss: 59.2065 - val_loss: 34.1505\n",
            "Epoch 50/200\n",
            "23/23 [==============================] - 0s 5ms/step - loss: 60.1852 - val_loss: 34.4702\n",
            "Epoch 51/200\n",
            "23/23 [==============================] - 0s 4ms/step - loss: 57.6306 - val_loss: 34.4230\n",
            "Epoch 52/200\n",
            "23/23 [==============================] - 0s 5ms/step - loss: 56.5647 - val_loss: 37.4821\n",
            "Epoch 53/200\n",
            "23/23 [==============================] - 0s 4ms/step - loss: 57.8937 - val_loss: 34.7878\n",
            "Epoch 54/200\n",
            "23/23 [==============================] - 0s 5ms/step - loss: 57.2353 - val_loss: 34.7193\n",
            "Epoch 55/200\n",
            "23/23 [==============================] - 0s 4ms/step - loss: 54.9841 - val_loss: 36.3888\n",
            "Epoch 56/200\n",
            "23/23 [==============================] - 0s 4ms/step - loss: 56.1952 - val_loss: 35.2701\n",
            "Epoch 57/200\n",
            "23/23 [==============================] - 0s 5ms/step - loss: 55.3309 - val_loss: 36.6868\n",
            "Epoch 58/200\n",
            "23/23 [==============================] - 0s 4ms/step - loss: 53.6896 - val_loss: 35.1345\n",
            "Epoch 59/200\n",
            "23/23 [==============================] - 0s 5ms/step - loss: 54.5388 - val_loss: 36.2223\n",
            "Epoch 60/200\n",
            "23/23 [==============================] - 0s 5ms/step - loss: 53.0721 - val_loss: 35.3020\n",
            "Epoch 61/200\n",
            "23/23 [==============================] - 0s 4ms/step - loss: 52.4244 - val_loss: 35.4418\n",
            "Epoch 62/200\n",
            "23/23 [==============================] - 0s 4ms/step - loss: 51.4491 - val_loss: 36.2421\n",
            "Epoch 63/200\n",
            "23/23 [==============================] - 0s 4ms/step - loss: 52.5929 - val_loss: 36.3077\n",
            "Epoch 64/200\n",
            "23/23 [==============================] - 0s 4ms/step - loss: 52.4791 - val_loss: 40.9066\n",
            "Epoch 65/200\n",
            "23/23 [==============================] - 0s 5ms/step - loss: 52.4903 - val_loss: 35.9674\n",
            "Epoch 66/200\n",
            "23/23 [==============================] - 0s 4ms/step - loss: 50.6737 - val_loss: 36.1609\n",
            "Epoch 67/200\n",
            "23/23 [==============================] - 0s 4ms/step - loss: 50.1864 - val_loss: 36.4652\n",
            "Epoch 68/200\n",
            "23/23 [==============================] - 0s 5ms/step - loss: 48.4958 - val_loss: 36.2893\n",
            "Epoch 69/200\n",
            "23/23 [==============================] - 0s 5ms/step - loss: 48.5675 - val_loss: 36.7483\n",
            "Epoch 70/200\n",
            "23/23 [==============================] - 0s 5ms/step - loss: 48.3144 - val_loss: 36.5563\n",
            "Epoch 71/200\n",
            "23/23 [==============================] - 0s 4ms/step - loss: 46.8605 - val_loss: 37.2197\n",
            "Epoch 72/200\n",
            "23/23 [==============================] - 0s 4ms/step - loss: 46.2220 - val_loss: 38.6201\n",
            "Epoch 73/200\n",
            "23/23 [==============================] - 0s 5ms/step - loss: 46.5668 - val_loss: 37.3776\n",
            "Epoch 74/200\n",
            "23/23 [==============================] - 0s 5ms/step - loss: 47.4251 - val_loss: 36.8323\n",
            "Epoch 75/200\n",
            "23/23 [==============================] - 0s 4ms/step - loss: 43.7416 - val_loss: 32.7891\n",
            "Epoch 76/200\n",
            "23/23 [==============================] - 0s 5ms/step - loss: 43.0347 - val_loss: 35.1209\n",
            "Epoch 77/200\n",
            "23/23 [==============================] - 0s 5ms/step - loss: 42.4244 - val_loss: 31.8352\n",
            "Epoch 78/200\n",
            "23/23 [==============================] - 0s 4ms/step - loss: 41.3889 - val_loss: 29.9221\n",
            "Epoch 79/200\n",
            "23/23 [==============================] - 0s 4ms/step - loss: 39.1426 - val_loss: 29.6159\n",
            "Epoch 80/200\n",
            "23/23 [==============================] - 0s 4ms/step - loss: 38.7376 - val_loss: 30.3130\n",
            "Epoch 81/200\n",
            "23/23 [==============================] - 0s 4ms/step - loss: 38.6429 - val_loss: 31.5184\n",
            "Epoch 82/200\n",
            "23/23 [==============================] - 0s 4ms/step - loss: 37.4814 - val_loss: 31.8053\n",
            "Epoch 83/200\n",
            "23/23 [==============================] - 0s 4ms/step - loss: 37.3116 - val_loss: 27.9531\n",
            "Epoch 84/200\n",
            "23/23 [==============================] - 0s 4ms/step - loss: 35.6831 - val_loss: 27.8947\n",
            "Epoch 85/200\n",
            "23/23 [==============================] - 0s 4ms/step - loss: 35.0719 - val_loss: 32.6730\n",
            "Epoch 86/200\n",
            "23/23 [==============================] - 0s 4ms/step - loss: 35.6505 - val_loss: 31.8493\n",
            "Epoch 87/200\n",
            "23/23 [==============================] - 0s 5ms/step - loss: 35.1601 - val_loss: 31.0224\n",
            "Epoch 88/200\n",
            "23/23 [==============================] - 0s 5ms/step - loss: 33.8116 - val_loss: 27.6625\n",
            "Epoch 89/200\n",
            "23/23 [==============================] - 0s 4ms/step - loss: 34.1953 - val_loss: 27.4751\n",
            "Epoch 90/200\n",
            "23/23 [==============================] - 0s 4ms/step - loss: 32.8314 - val_loss: 27.6824\n",
            "Epoch 91/200\n",
            "23/23 [==============================] - 0s 4ms/step - loss: 33.1758 - val_loss: 28.1785\n",
            "Epoch 92/200\n",
            "23/23 [==============================] - 0s 4ms/step - loss: 32.8835 - val_loss: 28.1304\n",
            "Epoch 93/200\n",
            "23/23 [==============================] - 0s 4ms/step - loss: 33.9315 - val_loss: 30.2359\n",
            "Epoch 94/200\n",
            "23/23 [==============================] - 0s 5ms/step - loss: 34.3837 - val_loss: 29.8645\n",
            "Epoch 95/200\n",
            "23/23 [==============================] - 0s 5ms/step - loss: 32.7608 - val_loss: 30.6714\n",
            "Epoch 96/200\n",
            "23/23 [==============================] - 0s 5ms/step - loss: 34.5469 - val_loss: 30.5952\n",
            "Epoch 97/200\n",
            "23/23 [==============================] - 0s 5ms/step - loss: 35.8553 - val_loss: 30.3075\n",
            "Epoch 98/200\n",
            "23/23 [==============================] - 0s 4ms/step - loss: 32.7780 - val_loss: 28.9152\n",
            "Epoch 99/200\n",
            "23/23 [==============================] - 0s 4ms/step - loss: 31.9758 - val_loss: 30.2210\n",
            "Epoch 100/200\n",
            "23/23 [==============================] - 0s 5ms/step - loss: 31.4412 - val_loss: 31.2618\n",
            "Epoch 101/200\n",
            "23/23 [==============================] - 0s 5ms/step - loss: 34.3911 - val_loss: 29.8066\n",
            "Epoch 102/200\n",
            "23/23 [==============================] - 0s 5ms/step - loss: 32.4286 - val_loss: 29.5496\n",
            "Epoch 103/200\n",
            "23/23 [==============================] - 0s 5ms/step - loss: 31.9236 - val_loss: 30.4918\n",
            "Epoch 104/200\n",
            "23/23 [==============================] - 0s 5ms/step - loss: 31.9880 - val_loss: 30.5086\n",
            "Epoch 105/200\n",
            "23/23 [==============================] - 0s 5ms/step - loss: 30.5754 - val_loss: 32.5736\n",
            "Epoch 106/200\n",
            "23/23 [==============================] - 0s 4ms/step - loss: 35.5363 - val_loss: 29.7474\n",
            "Epoch 107/200\n",
            "23/23 [==============================] - 0s 4ms/step - loss: 32.3878 - val_loss: 30.5639\n",
            "Epoch 108/200\n",
            "23/23 [==============================] - 0s 5ms/step - loss: 31.0331 - val_loss: 30.0309\n",
            "Epoch 109/200\n",
            "23/23 [==============================] - 0s 5ms/step - loss: 30.3951 - val_loss: 31.1957\n",
            "Epoch 110/200\n",
            "23/23 [==============================] - 0s 4ms/step - loss: 31.2741 - val_loss: 29.9462\n",
            "Epoch 111/200\n",
            "23/23 [==============================] - 0s 4ms/step - loss: 32.8185 - val_loss: 31.2455\n",
            "Epoch 112/200\n",
            "23/23 [==============================] - 0s 4ms/step - loss: 31.8448 - val_loss: 30.4661\n",
            "Epoch 113/200\n",
            "23/23 [==============================] - 0s 4ms/step - loss: 30.5908 - val_loss: 29.6969\n",
            "Epoch 114/200\n",
            "23/23 [==============================] - 0s 5ms/step - loss: 30.5143 - val_loss: 31.8375\n",
            "Epoch 115/200\n",
            "23/23 [==============================] - 0s 4ms/step - loss: 29.8551 - val_loss: 33.8074\n",
            "Epoch 116/200\n",
            "23/23 [==============================] - 0s 5ms/step - loss: 30.2820 - val_loss: 30.3422\n",
            "Epoch 117/200\n",
            "23/23 [==============================] - 0s 4ms/step - loss: 32.6653 - val_loss: 29.7610\n",
            "Epoch 118/200\n",
            "23/23 [==============================] - 0s 5ms/step - loss: 32.9734 - val_loss: 29.9212\n",
            "Epoch 119/200\n",
            "23/23 [==============================] - 0s 4ms/step - loss: 29.6334 - val_loss: 33.2414\n",
            "Epoch 120/200\n",
            "23/23 [==============================] - 0s 4ms/step - loss: 31.7318 - val_loss: 33.4327\n",
            "Epoch 121/200\n",
            "23/23 [==============================] - 0s 4ms/step - loss: 30.7083 - val_loss: 31.1870\n",
            "Epoch 122/200\n",
            "23/23 [==============================] - 0s 5ms/step - loss: 30.5796 - val_loss: 30.8189\n",
            "Epoch 123/200\n",
            "23/23 [==============================] - 0s 5ms/step - loss: 31.4567 - val_loss: 30.6373\n",
            "Epoch 124/200\n",
            "23/23 [==============================] - 0s 5ms/step - loss: 30.6593 - val_loss: 30.8793\n",
            "Epoch 125/200\n",
            "23/23 [==============================] - 0s 4ms/step - loss: 30.9845 - val_loss: 30.5085\n",
            "Epoch 126/200\n",
            "23/23 [==============================] - 0s 4ms/step - loss: 30.3961 - val_loss: 30.2165\n",
            "Epoch 127/200\n",
            "23/23 [==============================] - 0s 5ms/step - loss: 29.6323 - val_loss: 30.8999\n",
            "Epoch 128/200\n",
            "23/23 [==============================] - 0s 5ms/step - loss: 29.5101 - val_loss: 29.8265\n",
            "Epoch 129/200\n",
            "23/23 [==============================] - 0s 4ms/step - loss: 29.3679 - val_loss: 29.8760\n",
            "Epoch 130/200\n",
            "23/23 [==============================] - 0s 5ms/step - loss: 29.0149 - val_loss: 30.0901\n",
            "Epoch 131/200\n",
            "23/23 [==============================] - 0s 4ms/step - loss: 29.6597 - val_loss: 30.2838\n",
            "Epoch 132/200\n",
            "23/23 [==============================] - 0s 4ms/step - loss: 29.3254 - val_loss: 29.9843\n",
            "Epoch 133/200\n",
            "23/23 [==============================] - 0s 5ms/step - loss: 29.5517 - val_loss: 31.0854\n",
            "Epoch 134/200\n",
            "23/23 [==============================] - 0s 4ms/step - loss: 32.1399 - val_loss: 29.9738\n",
            "Epoch 135/200\n",
            "23/23 [==============================] - 0s 5ms/step - loss: 29.2003 - val_loss: 31.5091\n",
            "Epoch 136/200\n",
            "23/23 [==============================] - 0s 4ms/step - loss: 28.9191 - val_loss: 30.9153\n",
            "Epoch 137/200\n",
            "23/23 [==============================] - 0s 5ms/step - loss: 29.6995 - val_loss: 30.7772\n",
            "Epoch 138/200\n",
            "23/23 [==============================] - 0s 5ms/step - loss: 29.0341 - val_loss: 30.5368\n",
            "Epoch 139/200\n",
            "23/23 [==============================] - 0s 4ms/step - loss: 29.1808 - val_loss: 30.0577\n",
            "Epoch 140/200\n",
            "23/23 [==============================] - 0s 5ms/step - loss: 29.4368 - val_loss: 29.9872\n",
            "Epoch 141/200\n",
            "23/23 [==============================] - 0s 5ms/step - loss: 30.6174 - val_loss: 29.9135\n",
            "Epoch 142/200\n",
            "23/23 [==============================] - 0s 4ms/step - loss: 28.6139 - val_loss: 30.0119\n",
            "Epoch 143/200\n",
            "23/23 [==============================] - 0s 5ms/step - loss: 29.8554 - val_loss: 30.3783\n",
            "Epoch 144/200\n",
            "23/23 [==============================] - 0s 5ms/step - loss: 29.3318 - val_loss: 31.7148\n",
            "Epoch 145/200\n",
            "23/23 [==============================] - 0s 4ms/step - loss: 29.7743 - val_loss: 30.1935\n",
            "Epoch 146/200\n",
            "23/23 [==============================] - 0s 4ms/step - loss: 29.7718 - val_loss: 30.2386\n",
            "Epoch 147/200\n",
            "23/23 [==============================] - 0s 4ms/step - loss: 29.3586 - val_loss: 29.8687\n",
            "Epoch 148/200\n",
            "23/23 [==============================] - 0s 5ms/step - loss: 28.6234 - val_loss: 29.8040\n",
            "Epoch 149/200\n",
            "23/23 [==============================] - 0s 5ms/step - loss: 29.0434 - val_loss: 30.2078\n",
            "Epoch 150/200\n",
            "23/23 [==============================] - 0s 4ms/step - loss: 28.5903 - val_loss: 29.8960\n",
            "Epoch 151/200\n",
            "23/23 [==============================] - 0s 4ms/step - loss: 28.5473 - val_loss: 29.7699\n",
            "Epoch 152/200\n",
            "23/23 [==============================] - 0s 5ms/step - loss: 28.4641 - val_loss: 30.0432\n",
            "Epoch 153/200\n",
            "23/23 [==============================] - 0s 4ms/step - loss: 28.8349 - val_loss: 30.1861\n",
            "Epoch 154/200\n",
            "23/23 [==============================] - 0s 5ms/step - loss: 29.3687 - val_loss: 30.0151\n",
            "Epoch 155/200\n",
            "23/23 [==============================] - 0s 5ms/step - loss: 28.4727 - val_loss: 30.4022\n",
            "Epoch 156/200\n",
            "23/23 [==============================] - 0s 5ms/step - loss: 28.6884 - val_loss: 31.2108\n",
            "Epoch 157/200\n",
            "23/23 [==============================] - 0s 5ms/step - loss: 29.1746 - val_loss: 31.2471\n",
            "Epoch 158/200\n",
            "23/23 [==============================] - 0s 5ms/step - loss: 28.7634 - val_loss: 31.0024\n",
            "Epoch 159/200\n",
            "23/23 [==============================] - 0s 4ms/step - loss: 28.3229 - val_loss: 31.7242\n",
            "Epoch 160/200\n",
            "23/23 [==============================] - 0s 5ms/step - loss: 28.8041 - val_loss: 30.2981\n",
            "Epoch 161/200\n",
            "23/23 [==============================] - 0s 5ms/step - loss: 28.9335 - val_loss: 30.1130\n",
            "Epoch 162/200\n",
            "23/23 [==============================] - 0s 5ms/step - loss: 30.5652 - val_loss: 29.9198\n",
            "Epoch 163/200\n",
            "23/23 [==============================] - 0s 5ms/step - loss: 28.3516 - val_loss: 31.9147\n",
            "Epoch 164/200\n",
            "23/23 [==============================] - 0s 5ms/step - loss: 29.6552 - val_loss: 29.6467\n",
            "Epoch 165/200\n",
            "23/23 [==============================] - 0s 4ms/step - loss: 28.7356 - val_loss: 29.7643\n",
            "Epoch 166/200\n",
            "23/23 [==============================] - 0s 5ms/step - loss: 28.3837 - val_loss: 30.0952\n",
            "Epoch 167/200\n",
            "23/23 [==============================] - 0s 5ms/step - loss: 27.9465 - val_loss: 31.2419\n",
            "Epoch 168/200\n",
            "23/23 [==============================] - 0s 4ms/step - loss: 28.8357 - val_loss: 29.8709\n",
            "Epoch 169/200\n",
            "23/23 [==============================] - 0s 4ms/step - loss: 27.7307 - val_loss: 29.7598\n",
            "Epoch 170/200\n",
            "23/23 [==============================] - 0s 4ms/step - loss: 27.9245 - val_loss: 32.3333\n",
            "Epoch 171/200\n",
            "23/23 [==============================] - 0s 5ms/step - loss: 29.1519 - val_loss: 30.0582\n",
            "Epoch 172/200\n",
            "23/23 [==============================] - 0s 5ms/step - loss: 28.4352 - val_loss: 30.2841\n",
            "Epoch 173/200\n",
            "23/23 [==============================] - 0s 5ms/step - loss: 28.7142 - val_loss: 29.9157\n",
            "Epoch 174/200\n",
            "23/23 [==============================] - 0s 5ms/step - loss: 28.3115 - val_loss: 30.3281\n",
            "Epoch 175/200\n",
            "23/23 [==============================] - 0s 6ms/step - loss: 27.7270 - val_loss: 29.6852\n",
            "Epoch 176/200\n",
            "23/23 [==============================] - 0s 5ms/step - loss: 28.6720 - val_loss: 29.9498\n",
            "Epoch 177/200\n",
            "23/23 [==============================] - 0s 5ms/step - loss: 28.1277 - val_loss: 29.8339\n",
            "Epoch 178/200\n",
            "23/23 [==============================] - 0s 5ms/step - loss: 27.8198 - val_loss: 29.5810\n",
            "Epoch 179/200\n",
            "23/23 [==============================] - 0s 5ms/step - loss: 27.5462 - val_loss: 30.2018\n",
            "Epoch 180/200\n",
            "23/23 [==============================] - 0s 5ms/step - loss: 27.8876 - val_loss: 29.6466\n",
            "Epoch 181/200\n",
            "23/23 [==============================] - 0s 4ms/step - loss: 28.8914 - val_loss: 29.5637\n",
            "Epoch 182/200\n",
            "23/23 [==============================] - 0s 5ms/step - loss: 29.5202 - val_loss: 29.6692\n",
            "Epoch 183/200\n",
            "23/23 [==============================] - 0s 5ms/step - loss: 28.1605 - val_loss: 29.6986\n",
            "Epoch 184/200\n",
            "23/23 [==============================] - 0s 4ms/step - loss: 27.6634 - val_loss: 29.8556\n",
            "Epoch 185/200\n",
            "23/23 [==============================] - 0s 4ms/step - loss: 27.9895 - val_loss: 30.4858\n",
            "Epoch 186/200\n",
            "23/23 [==============================] - 0s 4ms/step - loss: 28.2312 - val_loss: 30.7958\n",
            "Epoch 187/200\n",
            "23/23 [==============================] - 0s 5ms/step - loss: 28.2263 - val_loss: 30.6390\n",
            "Epoch 188/200\n",
            "23/23 [==============================] - 0s 4ms/step - loss: 28.1633 - val_loss: 29.8422\n",
            "Epoch 189/200\n",
            "23/23 [==============================] - 0s 5ms/step - loss: 27.7116 - val_loss: 30.8390\n",
            "Epoch 190/200\n",
            "23/23 [==============================] - 0s 5ms/step - loss: 27.5802 - val_loss: 30.2889\n",
            "Epoch 191/200\n",
            "23/23 [==============================] - 0s 5ms/step - loss: 29.2862 - val_loss: 29.7168\n",
            "Epoch 192/200\n",
            "23/23 [==============================] - 0s 5ms/step - loss: 28.4072 - val_loss: 33.0137\n",
            "Epoch 193/200\n",
            "23/23 [==============================] - 0s 5ms/step - loss: 27.3756 - val_loss: 29.8762\n",
            "Epoch 194/200\n",
            "23/23 [==============================] - 0s 5ms/step - loss: 27.1350 - val_loss: 31.2099\n",
            "Epoch 195/200\n",
            "23/23 [==============================] - 0s 4ms/step - loss: 28.5321 - val_loss: 29.6519\n",
            "Epoch 196/200\n",
            "23/23 [==============================] - 0s 5ms/step - loss: 28.4439 - val_loss: 31.2165\n",
            "Epoch 197/200\n",
            "23/23 [==============================] - 0s 4ms/step - loss: 27.8878 - val_loss: 29.8083\n",
            "Epoch 198/200\n",
            "23/23 [==============================] - 0s 5ms/step - loss: 27.3505 - val_loss: 34.2452\n",
            "Epoch 199/200\n",
            "23/23 [==============================] - 0s 4ms/step - loss: 28.5902 - val_loss: 29.5426\n",
            "Epoch 200/200\n",
            "23/23 [==============================] - 0s 5ms/step - loss: 27.7176 - val_loss: 30.2724\n"
          ]
        },
        {
          "output_type": "execute_result",
          "data": {
            "text/plain": [
              "<keras.callbacks.History at 0x7f6df0431dd0>"
            ]
          },
          "metadata": {},
          "execution_count": 10
        }
      ]
    },
    {
      "cell_type": "code",
      "metadata": {
        "id": "ZKLsdeCMiHut",
        "colab": {
          "base_uri": "https://localhost:8080/"
        },
        "outputId": "797eef36-edd7-4001-f54c-9130a9380067"
      },
      "source": [
        "## evaluate on the test set.(https://keras.io/api/models/model_training_apis/)\n",
        "model.evaluate(\n",
        "    x=X_test,\n",
        "    y=y_test,\n",
        "    verbose=1\n",
        ")"
      ],
      "execution_count": 11,
      "outputs": [
        {
          "output_type": "stream",
          "name": "stdout",
          "text": [
            "4/4 [==============================] - 0s 4ms/step - loss: 27.1917\n"
          ]
        },
        {
          "output_type": "execute_result",
          "data": {
            "text/plain": [
              "27.191665649414062"
            ]
          },
          "metadata": {},
          "execution_count": 11
        }
      ]
    },
    {
      "cell_type": "code",
      "source": [
        "## prediction on new sample (https://keras.io/api/models/model_training_apis/)\n",
        "\n",
        "model.predict(X_test[0].reshape(-1,13))"
      ],
      "metadata": {
        "id": "7X0VUuz40K27",
        "colab": {
          "base_uri": "https://localhost:8080/"
        },
        "outputId": "3768411d-dea0-4ead-cf35-458715e1dfcb"
      },
      "execution_count": 13,
      "outputs": [
        {
          "output_type": "execute_result",
          "data": {
            "text/plain": [
              "array([[6.581277]], dtype=float32)"
            ]
          },
          "metadata": {},
          "execution_count": 13
        }
      ]
    },
    {
      "cell_type": "markdown",
      "metadata": {
        "id": "uAbWjsZX9GsP"
      },
      "source": [
        "### 2. Classification\n",
        "#### - use softmax layer at the end of network to produce \"probability\".\n",
        "\n",
        "#### - MNIST dataset\n",
        "#### - images of numbers (0~9) -> classification"
      ]
    },
    {
      "cell_type": "code",
      "metadata": {
        "id": "5zK2d0oG9c0s"
      },
      "source": [
        "## Download MNIST dataset (https://keras.io/api/datasets/mnist/)\n",
        "(X_train, y_train), (X_test, y_test) =keras.datasets.mnist.load_data(path=\"mnist.npz\")\n"
      ],
      "execution_count": 11,
      "outputs": []
    },
    {
      "cell_type": "code",
      "source": [
        "# shape\n",
        "print(X_train.shape)\n",
        "print(y_train.shape)\n",
        "print(X_test.shape)\n",
        "print(y_test.shape)"
      ],
      "metadata": {
        "colab": {
          "base_uri": "https://localhost:8080/"
        },
        "id": "ogbmtvqHplKN",
        "outputId": "add32332-9b5c-4399-a49e-f611f82aafa8"
      },
      "execution_count": 12,
      "outputs": [
        {
          "output_type": "stream",
          "name": "stdout",
          "text": [
            "(60000, 28, 28)\n",
            "(60000,)\n",
            "(10000, 28, 28)\n",
            "(10000,)\n"
          ]
        }
      ]
    },
    {
      "cell_type": "code",
      "source": [
        "# Change the shape of data from (W, W) to (W*W, )\n",
        "X_train = X_train.reshape((-1, 28*28))\n",
        "X_test = X_test.reshape((-1, 28*28))\n",
        "\n",
        "print(X_train.shape)\n",
        "print(y_train.shape)\n",
        "print(X_test.shape)\n",
        "print(y_test.shape)"
      ],
      "metadata": {
        "id": "W5e_yaKlxNR_",
        "colab": {
          "base_uri": "https://localhost:8080/"
        },
        "outputId": "f1952baf-034a-4ace-f5fb-b99a5bca9e82"
      },
      "execution_count": 13,
      "outputs": [
        {
          "output_type": "stream",
          "name": "stdout",
          "text": [
            "(60000, 784)\n",
            "(60000,)\n",
            "(10000, 784)\n",
            "(10000,)\n"
          ]
        }
      ]
    },
    {
      "cell_type": "code",
      "source": [
        "# from matplotlib import pyplot as plt\n",
        "# plt.figure()\n",
        "# plt.imshow(X_train[0])\n",
        "# plt.show()"
      ],
      "metadata": {
        "id": "L7y8gp6zk3Pm"
      },
      "execution_count": 7,
      "outputs": []
    },
    {
      "cell_type": "code",
      "source": [
        "# convert class vectors to binary class matrices (google it!: https://www.educative.io/edpresso/how-to-perform-one-hot-encoding-using-keras)\n",
        "# output shape 맞춰줌\n",
        "# 현재는 output에 숫자 1 / 2 /3 이런식으로 들어가 있는데, output 0,1 인 ont hot vector 로 바꿔줘야한다.\n",
        "# y_train[0]=5 인 것을 [0,0,0,0,1,0,0] 이런식으로 바꿔줌\n",
        "# from keras.utils import to_categorical\n",
        "# 총 label이 10개이므로, 10으로 변경해줌\n",
        "y_train = keras.utils.to_categorical(y_train,10)\n",
        "y_test = keras.utils.to_categorical(y_test,10)\n",
        "\n",
        "print(y_train.shape)\n",
        "print(y_train[0])"
      ],
      "metadata": {
        "id": "c1EBdLAHxXf5",
        "colab": {
          "base_uri": "https://localhost:8080/"
        },
        "outputId": "25a35683-02c6-4090-9956-c05acc95354e"
      },
      "execution_count": 14,
      "outputs": [
        {
          "output_type": "stream",
          "name": "stdout",
          "text": [
            "(60000, 10)\n",
            "[0. 0. 0. 0. 0. 1. 0. 0. 0. 0.]\n"
          ]
        }
      ]
    },
    {
      "cell_type": "code",
      "metadata": {
        "id": "CTEgUbPk9o2Z",
        "colab": {
          "base_uri": "https://localhost:8080/"
        },
        "outputId": "5414e915-b9e6-4894-91a0-612648881f53"
      },
      "source": [
        "## Model (https://keras.io/guides/sequential_model/)\n",
        "model = keras.Sequential(\n",
        "    [\n",
        "        layers.Dense(200, activation=\"relu\", name=\"layer1\",input_dim=784),\n",
        "        layers.Dense(100, activation=\"relu\", name=\"layer2\"),\n",
        "        layers.Dense(10,activation=\"softmax\",name=\"layer3\"),\n",
        "    ]\n",
        ")\n",
        "model.summary()\n"
      ],
      "execution_count": 15,
      "outputs": [
        {
          "output_type": "stream",
          "name": "stdout",
          "text": [
            "Model: \"sequential_1\"\n",
            "_________________________________________________________________\n",
            " Layer (type)                Output Shape              Param #   \n",
            "=================================================================\n",
            " layer1 (Dense)              (None, 200)               157000    \n",
            "                                                                 \n",
            " layer2 (Dense)              (None, 100)               20100     \n",
            "                                                                 \n",
            " layer3 (Dense)              (None, 10)                1010      \n",
            "                                                                 \n",
            "=================================================================\n",
            "Total params: 178,110\n",
            "Trainable params: 178,110\n",
            "Non-trainable params: 0\n",
            "_________________________________________________________________\n"
          ]
        }
      ]
    },
    {
      "cell_type": "code",
      "metadata": {
        "id": "lGzW1cFaD-xP",
        "colab": {
          "base_uri": "https://localhost:8080/"
        },
        "outputId": "9857681a-84da-4e16-a9d9-26b68a5939e0"
      },
      "source": [
        "## Train (https://keras.io/api/models/model_training_apis/)\n",
        "batch_size = 64\n",
        "epochs = 50\n",
        "\n",
        "## compile\n",
        "# 러닝 rate / loss / optimaizer 머 쓸건지 정함\n",
        "model.compile(optimizer=keras.optimizers.Adam(learning_rate=0.001), loss='categorical_crossentropy', metrics=['accuracy']) # keras.losses.MeanSq\n",
        "## fit\n",
        "hist = model.fit(x=X_train, y=y_train, batch_size=batch_size, epochs=epochs, validation_split=0.1)"
      ],
      "execution_count": 16,
      "outputs": [
        {
          "output_type": "stream",
          "name": "stdout",
          "text": [
            "Epoch 1/50\n",
            "844/844 [==============================] - 5s 3ms/step - loss: 2.3693 - accuracy: 0.8734 - val_loss: 0.4439 - val_accuracy: 0.9195\n",
            "Epoch 2/50\n",
            "844/844 [==============================] - 2s 3ms/step - loss: 0.3343 - accuracy: 0.9318 - val_loss: 0.2799 - val_accuracy: 0.9388\n",
            "Epoch 3/50\n",
            "844/844 [==============================] - 3s 3ms/step - loss: 0.2075 - accuracy: 0.9485 - val_loss: 0.2187 - val_accuracy: 0.9513\n",
            "Epoch 4/50\n",
            "844/844 [==============================] - 3s 3ms/step - loss: 0.1565 - accuracy: 0.9578 - val_loss: 0.1793 - val_accuracy: 0.9573\n",
            "Epoch 5/50\n",
            "844/844 [==============================] - 2s 3ms/step - loss: 0.1374 - accuracy: 0.9615 - val_loss: 0.1972 - val_accuracy: 0.9562\n",
            "Epoch 6/50\n",
            "844/844 [==============================] - 2s 3ms/step - loss: 0.1246 - accuracy: 0.9649 - val_loss: 0.1808 - val_accuracy: 0.9545\n",
            "Epoch 7/50\n",
            "844/844 [==============================] - 2s 3ms/step - loss: 0.1180 - accuracy: 0.9667 - val_loss: 0.1456 - val_accuracy: 0.9630\n",
            "Epoch 8/50\n",
            "844/844 [==============================] - 3s 3ms/step - loss: 0.1080 - accuracy: 0.9703 - val_loss: 0.1554 - val_accuracy: 0.9640\n",
            "Epoch 9/50\n",
            "844/844 [==============================] - 3s 3ms/step - loss: 0.0966 - accuracy: 0.9722 - val_loss: 0.1617 - val_accuracy: 0.9597\n",
            "Epoch 10/50\n",
            "844/844 [==============================] - 2s 3ms/step - loss: 0.0873 - accuracy: 0.9750 - val_loss: 0.1408 - val_accuracy: 0.9687\n",
            "Epoch 11/50\n",
            "844/844 [==============================] - 3s 3ms/step - loss: 0.0830 - accuracy: 0.9766 - val_loss: 0.1506 - val_accuracy: 0.9667\n",
            "Epoch 12/50\n",
            "844/844 [==============================] - 2s 3ms/step - loss: 0.0730 - accuracy: 0.9790 - val_loss: 0.1857 - val_accuracy: 0.9652\n",
            "Epoch 13/50\n",
            "844/844 [==============================] - 3s 3ms/step - loss: 0.0747 - accuracy: 0.9786 - val_loss: 0.1535 - val_accuracy: 0.9693\n",
            "Epoch 14/50\n",
            "844/844 [==============================] - 2s 3ms/step - loss: 0.0757 - accuracy: 0.9790 - val_loss: 0.1294 - val_accuracy: 0.9735\n",
            "Epoch 15/50\n",
            "844/844 [==============================] - 3s 3ms/step - loss: 0.0610 - accuracy: 0.9825 - val_loss: 0.1567 - val_accuracy: 0.9690\n",
            "Epoch 16/50\n",
            "844/844 [==============================] - 2s 3ms/step - loss: 0.0610 - accuracy: 0.9829 - val_loss: 0.1414 - val_accuracy: 0.9707\n",
            "Epoch 17/50\n",
            "844/844 [==============================] - 3s 3ms/step - loss: 0.0550 - accuracy: 0.9847 - val_loss: 0.1260 - val_accuracy: 0.9752\n",
            "Epoch 18/50\n",
            "844/844 [==============================] - 3s 3ms/step - loss: 0.0483 - accuracy: 0.9867 - val_loss: 0.1458 - val_accuracy: 0.9705\n",
            "Epoch 19/50\n",
            "844/844 [==============================] - 3s 3ms/step - loss: 0.0582 - accuracy: 0.9849 - val_loss: 0.1738 - val_accuracy: 0.9717\n",
            "Epoch 20/50\n",
            "844/844 [==============================] - 2s 3ms/step - loss: 0.0569 - accuracy: 0.9850 - val_loss: 0.1382 - val_accuracy: 0.9735\n",
            "Epoch 21/50\n",
            "844/844 [==============================] - 2s 3ms/step - loss: 0.0498 - accuracy: 0.9874 - val_loss: 0.1993 - val_accuracy: 0.9687\n",
            "Epoch 22/50\n",
            "844/844 [==============================] - 3s 3ms/step - loss: 0.0516 - accuracy: 0.9866 - val_loss: 0.1582 - val_accuracy: 0.9715\n",
            "Epoch 23/50\n",
            "844/844 [==============================] - 3s 3ms/step - loss: 0.0441 - accuracy: 0.9881 - val_loss: 0.1530 - val_accuracy: 0.9728\n",
            "Epoch 24/50\n",
            "844/844 [==============================] - 3s 3ms/step - loss: 0.0429 - accuracy: 0.9893 - val_loss: 0.1371 - val_accuracy: 0.9757\n",
            "Epoch 25/50\n",
            "844/844 [==============================] - 2s 3ms/step - loss: 0.0402 - accuracy: 0.9894 - val_loss: 0.1187 - val_accuracy: 0.9773\n",
            "Epoch 26/50\n",
            "844/844 [==============================] - 2s 3ms/step - loss: 0.0432 - accuracy: 0.9890 - val_loss: 0.1733 - val_accuracy: 0.9717\n",
            "Epoch 27/50\n",
            "844/844 [==============================] - 2s 3ms/step - loss: 0.0381 - accuracy: 0.9898 - val_loss: 0.1763 - val_accuracy: 0.9742\n",
            "Epoch 28/50\n",
            "844/844 [==============================] - 3s 3ms/step - loss: 0.0466 - accuracy: 0.9887 - val_loss: 0.1670 - val_accuracy: 0.9740\n",
            "Epoch 29/50\n",
            "844/844 [==============================] - 2s 3ms/step - loss: 0.0392 - accuracy: 0.9904 - val_loss: 0.1701 - val_accuracy: 0.9752\n",
            "Epoch 30/50\n",
            "844/844 [==============================] - 3s 3ms/step - loss: 0.0382 - accuracy: 0.9909 - val_loss: 0.1863 - val_accuracy: 0.9748\n",
            "Epoch 31/50\n",
            "844/844 [==============================] - 3s 3ms/step - loss: 0.0352 - accuracy: 0.9915 - val_loss: 0.1728 - val_accuracy: 0.9750\n",
            "Epoch 32/50\n",
            "844/844 [==============================] - 2s 3ms/step - loss: 0.0408 - accuracy: 0.9906 - val_loss: 0.2300 - val_accuracy: 0.9683\n",
            "Epoch 33/50\n",
            "844/844 [==============================] - 2s 3ms/step - loss: 0.0402 - accuracy: 0.9914 - val_loss: 0.1824 - val_accuracy: 0.9722\n",
            "Epoch 34/50\n",
            "844/844 [==============================] - 2s 3ms/step - loss: 0.0335 - accuracy: 0.9921 - val_loss: 0.1808 - val_accuracy: 0.9758\n",
            "Epoch 35/50\n",
            "844/844 [==============================] - 3s 3ms/step - loss: 0.0405 - accuracy: 0.9917 - val_loss: 0.1844 - val_accuracy: 0.9758\n",
            "Epoch 36/50\n",
            "844/844 [==============================] - 2s 3ms/step - loss: 0.0262 - accuracy: 0.9939 - val_loss: 0.1907 - val_accuracy: 0.9740\n",
            "Epoch 37/50\n",
            "844/844 [==============================] - 3s 3ms/step - loss: 0.0355 - accuracy: 0.9922 - val_loss: 0.2078 - val_accuracy: 0.9725\n",
            "Epoch 38/50\n",
            "844/844 [==============================] - 3s 3ms/step - loss: 0.0413 - accuracy: 0.9917 - val_loss: 0.2209 - val_accuracy: 0.9725\n",
            "Epoch 39/50\n",
            "844/844 [==============================] - 2s 3ms/step - loss: 0.0289 - accuracy: 0.9936 - val_loss: 0.2003 - val_accuracy: 0.9748\n",
            "Epoch 40/50\n",
            "844/844 [==============================] - 2s 3ms/step - loss: 0.0300 - accuracy: 0.9934 - val_loss: 0.2165 - val_accuracy: 0.9737\n",
            "Epoch 41/50\n",
            "844/844 [==============================] - 3s 3ms/step - loss: 0.0329 - accuracy: 0.9928 - val_loss: 0.2208 - val_accuracy: 0.9753\n",
            "Epoch 42/50\n",
            "844/844 [==============================] - 2s 3ms/step - loss: 0.0273 - accuracy: 0.9940 - val_loss: 0.2143 - val_accuracy: 0.9732\n",
            "Epoch 43/50\n",
            "844/844 [==============================] - 3s 3ms/step - loss: 0.0357 - accuracy: 0.9929 - val_loss: 0.2580 - val_accuracy: 0.9697\n",
            "Epoch 44/50\n",
            "844/844 [==============================] - 3s 3ms/step - loss: 0.0335 - accuracy: 0.9930 - val_loss: 0.2149 - val_accuracy: 0.9757\n",
            "Epoch 45/50\n",
            "844/844 [==============================] - 3s 3ms/step - loss: 0.0317 - accuracy: 0.9929 - val_loss: 0.2833 - val_accuracy: 0.9757\n",
            "Epoch 46/50\n",
            "844/844 [==============================] - 2s 3ms/step - loss: 0.0420 - accuracy: 0.9920 - val_loss: 0.2567 - val_accuracy: 0.9773\n",
            "Epoch 47/50\n",
            "844/844 [==============================] - 3s 3ms/step - loss: 0.0315 - accuracy: 0.9935 - val_loss: 0.2802 - val_accuracy: 0.9755\n",
            "Epoch 48/50\n",
            "844/844 [==============================] - 3s 3ms/step - loss: 0.0334 - accuracy: 0.9933 - val_loss: 0.2515 - val_accuracy: 0.9752\n",
            "Epoch 49/50\n",
            "844/844 [==============================] - 2s 3ms/step - loss: 0.0336 - accuracy: 0.9939 - val_loss: 0.2791 - val_accuracy: 0.9735\n",
            "Epoch 50/50\n",
            "844/844 [==============================] - 3s 3ms/step - loss: 0.0250 - accuracy: 0.9943 - val_loss: 0.2669 - val_accuracy: 0.9760\n"
          ]
        }
      ]
    },
    {
      "cell_type": "code",
      "metadata": {
        "id": "5TruvpcHI9Pv",
        "colab": {
          "base_uri": "https://localhost:8080/",
          "height": 269
        },
        "outputId": "b36ecb12-8d07-410a-9869-1b39984c6c10"
      },
      "source": [
        "## plot loss and accuracy to check if the model is converged.\n",
        "# plot을 위해 hist에 저장하여 plot 한다.\n",
        "val_accuracy = hist.history['val_accuracy']\n",
        "train_accuracy = hist.history['accuracy']\n",
        "\n",
        "# x축을 epochs\n",
        "from matplotlib import pyplot as plt\n",
        "plt.figure()\n",
        "plt.plot(np.arange(epochs),val_accuracy,label=\"val_accuracy\")\n",
        "plt.plot(np.arange(epochs),train_accuracy,label=\"train_accuracy\")\n",
        "plt.legend()\n",
        "plt.show()"
      ],
      "execution_count": 22,
      "outputs": [
        {
          "output_type": "display_data",
          "data": {
            "text/plain": [
              "<Figure size 432x288 with 1 Axes>"
            ],
            "image/png": "[encoded data removed]"
          },
          "metadata": {
            "needs_background": "light"
          }
        }
      ]
    },
    {
      "cell_type": "code",
      "metadata": {
        "id": "1WXq3K5IKMg9",
        "colab": {
          "base_uri": "https://localhost:8080/"
        },
        "outputId": "9e21fa83-d86b-4a55-c09c-957c80b64ebf"
      },
      "source": [
        "## evaluate on the test set\n",
        "## you should get acc higher than 0.96\n",
        "model.evaluate(X_test,y_test,verbose=1)\n"
      ],
      "execution_count": 23,
      "outputs": [
        {
          "output_type": "stream",
          "name": "stdout",
          "text": [
            "313/313 [==============================] - 1s 3ms/step - loss: 0.2385 - accuracy: 0.9771\n"
          ]
        },
        {
          "output_type": "execute_result",
          "data": {
            "text/plain": [
              "[0.2385353446006775, 0.9771000146865845]"
            ]
          },
          "metadata": {},
          "execution_count": 23
        }
      ]
    },
    {
      "cell_type": "code",
      "source": [
        "## predict\n"
      ],
      "metadata": {
        "id": "t70X2jKqg7km"
      },
      "execution_count": null,
      "outputs": []
    },
    {
      "cell_type": "code",
      "source": [
        ""
      ],
      "metadata": {
        "id": "2zFMu1yXgpH2"
      },
      "execution_count": null,
      "outputs": []
    },
    {
      "cell_type": "code",
      "source": [
        ""
      ],
      "metadata": {
        "id": "Rt9igzuOhXSn"
      },
      "execution_count": null,
      "outputs": []
    },
    {
      "cell_type": "markdown",
      "source": [
        "### 3. Input Normalization\n",
        "#### - Make the input features normalized\n",
        "#### - why? - weight initialization\n",
        "\n",
        "\n",
        "#### - Usually adopt z-score (standard score)\n",
        "#### -> z = (x-μ)/σ"
      ],
      "metadata": {
        "id": "4d-tpXzhyxOA"
      }
    },
    {
      "cell_type": "markdown",
      "source": [
        "## Classification"
      ],
      "metadata": {
        "id": "jZL5a7sf2TbN"
      }
    },
    {
      "cell_type": "code",
      "source": [
        "## Download MNIST dataset\n",
        "(X_train, y_train), (X_test, y_test) =keras.datasets.mnist.load_data(path=\"mnist.npz\")"
      ],
      "metadata": {
        "id": "ghYdTE5l2VM-"
      },
      "execution_count": 24,
      "outputs": []
    },
    {
      "cell_type": "code",
      "source": [
        "# Change the shape of data from (W, W) to (W*W, )\n",
        "X_train = X_train.reshape((-1, 28*28))\n",
        "X_test = X_test.reshape((-1, 28*28))\n",
        "\n",
        "print(X_train.shape)\n",
        "print(X_test.shape)\n",
        "print(y_train.shape)\n",
        "print(y_test.shape)"
      ],
      "metadata": {
        "id": "nCKcd19YGfXu",
        "colab": {
          "base_uri": "https://localhost:8080/"
        },
        "outputId": "25e521a1-807f-4deb-aec6-223c5bea5bda"
      },
      "execution_count": 25,
      "outputs": [
        {
          "output_type": "stream",
          "name": "stdout",
          "text": [
            "(60000, 784)\n",
            "(10000, 784)\n",
            "(60000,)\n",
            "(10000,)\n"
          ]
        }
      ]
    },
    {
      "cell_type": "code",
      "source": [
        "# calculate the sample mean and std\n",
        "mu = X_train.mean()\n",
        "sig = X_train.std()+0.000000001\n",
        "\n",
        "# normalize (z-score)\n",
        "X_train = (X_train - mu) / sig\n",
        "print(X_train[0])\n",
        "\n",
        "# train set과 동일한 평균과 표준편차로 test_set도 변경해줘야한다.\n",
        "\n",
        "X_test = (X_test - mu) / sig # note! : use the same statistic with the training set!"
      ],
      "metadata": {
        "id": "SbK7s4nK2ZLs",
        "colab": {
          "base_uri": "https://localhost:8080/"
        },
        "outputId": "f911aadb-c94f-4e91-f6b9-dd60267a41ec"
      },
      "execution_count": 26,
      "outputs": [
        {
          "output_type": "stream",
          "name": "stdout",
          "text": [
            "[-0.42407389 -0.42407389 -0.42407389 -0.42407389 -0.42407389 -0.42407389\n",
            " -0.42407389 -0.42407389 -0.42407389 -0.42407389 -0.42407389 -0.42407389\n",
            " -0.42407389 -0.42407389 -0.42407389 -0.42407389 -0.42407389 -0.42407389\n",
            " -0.42407389 -0.42407389 -0.42407389 -0.42407389 -0.42407389 -0.42407389\n",
            " -0.42407389 -0.42407389 -0.42407389 -0.42407389 -0.42407389 -0.42407389\n",
            " -0.42407389 -0.42407389 -0.42407389 -0.42407389 -0.42407389 -0.42407389\n",
            " -0.42407389 -0.42407389 -0.42407389 -0.42407389 -0.42407389 -0.42407389\n",
            " -0.42407389 -0.42407389 -0.42407389 -0.42407389 -0.42407389 -0.42407389\n",
            " -0.42407389 -0.42407389 -0.42407389 -0.42407389 -0.42407389 -0.42407389\n",
            " -0.42407389 -0.42407389 -0.42407389 -0.42407389 -0.42407389 -0.42407389\n",
            " -0.42407389 -0.42407389 -0.42407389 -0.42407389 -0.42407389 -0.42407389\n",
            " -0.42407389 -0.42407389 -0.42407389 -0.42407389 -0.42407389 -0.42407389\n",
            " -0.42407389 -0.42407389 -0.42407389 -0.42407389 -0.42407389 -0.42407389\n",
            " -0.42407389 -0.42407389 -0.42407389 -0.42407389 -0.42407389 -0.42407389\n",
            " -0.42407389 -0.42407389 -0.42407389 -0.42407389 -0.42407389 -0.42407389\n",
            " -0.42407389 -0.42407389 -0.42407389 -0.42407389 -0.42407389 -0.42407389\n",
            " -0.42407389 -0.42407389 -0.42407389 -0.42407389 -0.42407389 -0.42407389\n",
            " -0.42407389 -0.42407389 -0.42407389 -0.42407389 -0.42407389 -0.42407389\n",
            " -0.42407389 -0.42407389 -0.42407389 -0.42407389 -0.42407389 -0.42407389\n",
            " -0.42407389 -0.42407389 -0.42407389 -0.42407389 -0.42407389 -0.42407389\n",
            " -0.42407389 -0.42407389 -0.42407389 -0.42407389 -0.42407389 -0.42407389\n",
            " -0.42407389 -0.42407389 -0.42407389 -0.42407389 -0.42407389 -0.42407389\n",
            " -0.42407389 -0.42407389 -0.42407389 -0.42407389 -0.42407389 -0.42407389\n",
            " -0.42407389 -0.42407389 -0.42407389 -0.42407389 -0.42407389 -0.42407389\n",
            " -0.42407389 -0.42407389 -0.42407389 -0.42407389 -0.42407389 -0.42407389\n",
            " -0.42407389 -0.42407389 -0.38589016 -0.1949715  -0.1949715  -0.1949715\n",
            "  1.17964286  1.30692197  1.80331049 -0.09314822  1.68875929  2.82154335\n",
            "  2.71972006  1.19237077 -0.42407389 -0.42407389 -0.42407389 -0.42407389\n",
            " -0.42407389 -0.42407389 -0.42407389 -0.42407389 -0.42407389 -0.42407389\n",
            " -0.42407389 -0.42407389 -0.04223657  0.03413089  0.77234972  1.53602436\n",
            "  1.73967093  2.79608752  2.79608752  2.79608752  2.79608752  2.79608752\n",
            "  2.43970602  1.76512675  2.79608752  2.65608051  2.0578687   0.39051239\n",
            " -0.42407389 -0.42407389 -0.42407389 -0.42407389 -0.42407389 -0.42407389\n",
            " -0.42407389 -0.42407389 -0.42407389 -0.42407389 -0.42407389  0.19959373\n",
            "  2.60516886  2.79608752  2.79608752  2.79608752  2.79608752  2.79608752\n",
            "  2.79608752  2.79608752  2.79608752  2.7706317   0.7596218   0.61961479\n",
            "  0.61961479  0.28868911  0.07231462 -0.42407389 -0.42407389 -0.42407389\n",
            " -0.42407389 -0.42407389 -0.42407389 -0.42407389 -0.42407389 -0.42407389\n",
            " -0.42407389 -0.42407389 -0.42407389 -0.1949715   2.36333856  2.79608752\n",
            "  2.79608752  2.79608752  2.79608752  2.79608752  2.09605243  1.89240586\n",
            "  2.71972006  2.6433526  -0.42407389 -0.42407389 -0.42407389 -0.42407389\n",
            " -0.42407389 -0.42407389 -0.42407389 -0.42407389 -0.42407389 -0.42407389\n",
            " -0.42407389 -0.42407389 -0.42407389 -0.42407389 -0.42407389 -0.42407389\n",
            " -0.42407389 -0.42407389  0.59415897  1.56148018  0.93781256  2.79608752\n",
            "  2.79608752  2.18514781 -0.28406688 -0.42407389  0.12322627  1.53602436\n",
            " -0.42407389 -0.42407389 -0.42407389 -0.42407389 -0.42407389 -0.42407389\n",
            " -0.42407389 -0.42407389 -0.42407389 -0.42407389 -0.42407389 -0.42407389\n",
            " -0.42407389 -0.42407389 -0.42407389 -0.42407389 -0.42407389 -0.42407389\n",
            " -0.42407389 -0.24588314 -0.41134598  1.53602436  2.79608752  0.72143807\n",
            " -0.42407389 -0.42407389 -0.42407389 -0.42407389 -0.42407389 -0.42407389\n",
            " -0.42407389 -0.42407389 -0.42407389 -0.42407389 -0.42407389 -0.42407389\n",
            " -0.42407389 -0.42407389 -0.42407389 -0.42407389 -0.42407389 -0.42407389\n",
            " -0.42407389 -0.42407389 -0.42407389 -0.42407389 -0.42407389 -0.42407389\n",
            " -0.42407389  1.3451057   2.79608752  1.99422915 -0.39861807 -0.42407389\n",
            " -0.42407389 -0.42407389 -0.42407389 -0.42407389 -0.42407389 -0.42407389\n",
            " -0.42407389 -0.42407389 -0.42407389 -0.42407389 -0.42407389 -0.42407389\n",
            " -0.42407389 -0.42407389 -0.42407389 -0.42407389 -0.42407389 -0.42407389\n",
            " -0.42407389 -0.42407389 -0.42407389 -0.42407389 -0.42407389 -0.28406688\n",
            "  1.99422915  2.79608752  0.46687986 -0.42407389 -0.42407389 -0.42407389\n",
            " -0.42407389 -0.42407389 -0.42407389 -0.42407389 -0.42407389 -0.42407389\n",
            " -0.42407389 -0.42407389 -0.42407389 -0.42407389 -0.42407389 -0.42407389\n",
            " -0.42407389 -0.42407389 -0.42407389 -0.42407389 -0.42407389 -0.42407389\n",
            " -0.42407389 -0.42407389 -0.42407389 -0.42407389  0.02140298  2.6433526\n",
            "  2.43970602  1.61239182  0.95054047 -0.41134598 -0.42407389 -0.42407389\n",
            " -0.42407389 -0.42407389 -0.42407389 -0.42407389 -0.42407389 -0.42407389\n",
            " -0.42407389 -0.42407389 -0.42407389 -0.42407389 -0.42407389 -0.42407389\n",
            " -0.42407389 -0.42407389 -0.42407389 -0.42407389 -0.42407389 -0.42407389\n",
            " -0.42407389 -0.42407389 -0.42407389  0.60688688  2.63062468  2.79608752\n",
            "  2.79608752  1.09054748 -0.10587613 -0.42407389 -0.42407389 -0.42407389\n",
            " -0.42407389 -0.42407389 -0.42407389 -0.42407389 -0.42407389 -0.42407389\n",
            " -0.42407389 -0.42407389 -0.42407389 -0.42407389 -0.42407389 -0.42407389\n",
            " -0.42407389 -0.42407389 -0.42407389 -0.42407389 -0.42407389 -0.42407389\n",
            " -0.42407389 -0.42407389  0.14868209  1.9433175   2.79608752  2.79608752\n",
            "  1.48511272 -0.0804203  -0.42407389 -0.42407389 -0.42407389 -0.42407389\n",
            " -0.42407389 -0.42407389 -0.42407389 -0.42407389 -0.42407389 -0.42407389\n",
            " -0.42407389 -0.42407389 -0.42407389 -0.42407389 -0.42407389 -0.42407389\n",
            " -0.42407389 -0.42407389 -0.42407389 -0.42407389 -0.42407389 -0.42407389\n",
            " -0.42407389 -0.22042732  0.7596218   2.78335961  2.79608752  1.95604541\n",
            " -0.42407389 -0.42407389 -0.42407389 -0.42407389 -0.42407389 -0.42407389\n",
            " -0.42407389 -0.42407389 -0.42407389 -0.42407389 -0.42407389 -0.42407389\n",
            " -0.42407389 -0.42407389 -0.42407389 -0.42407389 -0.42407389 -0.42407389\n",
            " -0.42407389 -0.42407389 -0.42407389 -0.42407389 -0.42407389 -0.42407389\n",
            " -0.42407389  2.74517588  2.79608752  2.74517588  0.39051239 -0.42407389\n",
            " -0.42407389 -0.42407389 -0.42407389 -0.42407389 -0.42407389 -0.42407389\n",
            " -0.42407389 -0.42407389 -0.42407389 -0.42407389 -0.42407389 -0.42407389\n",
            " -0.42407389 -0.42407389 -0.42407389 -0.42407389 -0.42407389 -0.42407389\n",
            " -0.42407389 -0.42407389  0.16141     1.2305545   1.90513377  2.79608752\n",
            "  2.79608752  2.21060363 -0.39861807 -0.42407389 -0.42407389 -0.42407389\n",
            " -0.42407389 -0.42407389 -0.42407389 -0.42407389 -0.42407389 -0.42407389\n",
            " -0.42407389 -0.42407389 -0.42407389 -0.42407389 -0.42407389 -0.42407389\n",
            " -0.42407389 -0.42407389 -0.42407389 -0.42407389  0.07231462  1.4596569\n",
            "  2.49061767  2.79608752  2.79608752  2.79608752  2.75790379  1.89240586\n",
            " -0.42407389 -0.42407389 -0.42407389 -0.42407389 -0.42407389 -0.42407389\n",
            " -0.42407389 -0.42407389 -0.42407389 -0.42407389 -0.42407389 -0.42407389\n",
            " -0.42407389 -0.42407389 -0.42407389 -0.42407389 -0.42407389 -0.42407389\n",
            " -0.11860404  1.02690793  2.38879438  2.79608752  2.79608752  2.79608752\n",
            "  2.79608752  2.13423617  0.56870314 -0.42407389 -0.42407389 -0.42407389\n",
            " -0.42407389 -0.42407389 -0.42407389 -0.42407389 -0.42407389 -0.42407389\n",
            " -0.42407389 -0.42407389 -0.42407389 -0.42407389 -0.42407389 -0.42407389\n",
            " -0.42407389 -0.42407389 -0.13133195  0.41596821  2.28697109  2.79608752\n",
            "  2.79608752  2.79608752  2.79608752  2.09605243  0.60688688 -0.39861807\n",
            " -0.42407389 -0.42407389 -0.42407389 -0.42407389 -0.42407389 -0.42407389\n",
            " -0.42407389 -0.42407389 -0.42407389 -0.42407389 -0.42407389 -0.42407389\n",
            " -0.42407389 -0.42407389 -0.42407389 -0.42407389 -0.1949715   1.75239884\n",
            "  2.36333856  2.79608752  2.79608752  2.79608752  2.79608752  2.0578687\n",
            "  0.59415897 -0.3095227  -0.42407389 -0.42407389 -0.42407389 -0.42407389\n",
            " -0.42407389 -0.42407389 -0.42407389 -0.42407389 -0.42407389 -0.42407389\n",
            " -0.42407389 -0.42407389 -0.42407389 -0.42407389 -0.42407389 -0.42407389\n",
            "  0.2759612   1.76512675  2.45243393  2.79608752  2.79608752  2.79608752\n",
            "  2.79608752  2.68153633  1.26873823 -0.28406688 -0.42407389 -0.42407389\n",
            " -0.42407389 -0.42407389 -0.42407389 -0.42407389 -0.42407389 -0.42407389\n",
            " -0.42407389 -0.42407389 -0.42407389 -0.42407389 -0.42407389 -0.42407389\n",
            " -0.42407389 -0.42407389 -0.42407389 -0.42407389  1.30692197  2.79608752\n",
            "  2.79608752  2.79608752  2.27424318  1.29419406  1.25601032 -0.22042732\n",
            " -0.42407389 -0.42407389 -0.42407389 -0.42407389 -0.42407389 -0.42407389\n",
            " -0.42407389 -0.42407389 -0.42407389 -0.42407389 -0.42407389 -0.42407389\n",
            " -0.42407389 -0.42407389 -0.42407389 -0.42407389 -0.42407389 -0.42407389\n",
            " -0.42407389 -0.42407389 -0.42407389 -0.42407389 -0.42407389 -0.42407389\n",
            " -0.42407389 -0.42407389 -0.42407389 -0.42407389 -0.42407389 -0.42407389\n",
            " -0.42407389 -0.42407389 -0.42407389 -0.42407389 -0.42407389 -0.42407389\n",
            " -0.42407389 -0.42407389 -0.42407389 -0.42407389 -0.42407389 -0.42407389\n",
            " -0.42407389 -0.42407389 -0.42407389 -0.42407389 -0.42407389 -0.42407389\n",
            " -0.42407389 -0.42407389 -0.42407389 -0.42407389 -0.42407389 -0.42407389\n",
            " -0.42407389 -0.42407389 -0.42407389 -0.42407389 -0.42407389 -0.42407389\n",
            " -0.42407389 -0.42407389 -0.42407389 -0.42407389 -0.42407389 -0.42407389\n",
            " -0.42407389 -0.42407389 -0.42407389 -0.42407389 -0.42407389 -0.42407389\n",
            " -0.42407389 -0.42407389 -0.42407389 -0.42407389 -0.42407389 -0.42407389\n",
            " -0.42407389 -0.42407389 -0.42407389 -0.42407389 -0.42407389 -0.42407389\n",
            " -0.42407389 -0.42407389 -0.42407389 -0.42407389 -0.42407389 -0.42407389\n",
            " -0.42407389 -0.42407389 -0.42407389 -0.42407389 -0.42407389 -0.42407389\n",
            " -0.42407389 -0.42407389 -0.42407389 -0.42407389]\n"
          ]
        }
      ]
    },
    {
      "cell_type": "code",
      "source": [
        "# convert class vectors to binary class matrices\n"
      ],
      "metadata": {
        "id": "bU4tXwM84b2E"
      },
      "execution_count": null,
      "outputs": []
    },
    {
      "cell_type": "code",
      "source": [
        "## Model\n"
      ],
      "metadata": {
        "id": "WXl-f6Sg4ddU"
      },
      "execution_count": null,
      "outputs": []
    },
    {
      "cell_type": "code",
      "source": [
        "## Train\n"
      ],
      "metadata": {
        "id": "WJ2plfNc4gJ1"
      },
      "execution_count": null,
      "outputs": []
    },
    {
      "cell_type": "code",
      "source": [
        "## evaluate on the test set\n",
        "## you should get acc higher than 0.97\n"
      ],
      "metadata": {
        "id": "U_lMqrYz4jC8"
      },
      "execution_count": null,
      "outputs": []
    },
    {
      "cell_type": "code",
      "source": [
        ""
      ],
      "metadata": {
        "id": "uKh-bRKm5FXF"
      },
      "execution_count": null,
      "outputs": []
    }
  ]
}