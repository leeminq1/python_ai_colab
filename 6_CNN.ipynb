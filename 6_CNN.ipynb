{
  "nbformat": 4,
  "nbformat_minor": 0,
  "metadata": {
    "colab": {
      "name": "6_CNN.ipynb",
      "provenance": [],
      "collapsed_sections": [],
      "include_colab_link": true
    },
    "kernelspec": {
      "name": "python3",
      "display_name": "Python 3"
    },
    "accelerator": "GPU"
  },
  "cells": [
    {
      "cell_type": "markdown",
      "metadata": {
        "id": "view-in-github",
        "colab_type": "text"
      },
      "source": [
        "<a href=\"https://colab.research.google.com/github/leeminq1/python_ai_colab/blob/main/6_CNN.ipynb\" target=\"_parent\"><img src=\"https://colab.research.google.com/assets/colab-badge.svg\" alt=\"Open In Colab\"/></a>"
      ]
    },
    {
      "cell_type": "markdown",
      "metadata": {
        "id": "wwg3JWBQZuNt"
      },
      "source": [
        "### CNN (Convolutional Neural Network)\n",
        "#### - for images!\n",
        "#### - inductive bias for localization + weight sharing"
      ]
    },
    {
      "cell_type": "markdown",
      "metadata": {
        "id": "oRXhGVcBcOsz"
      },
      "source": [
        "### 1. Classification on MNIST dataset\n",
        "#### - use Conv layer to extract feature map from images\n",
        "#### - use dense layer to make scores for each class\n",
        "#### - use softmax activation at the end of network to produce \"probability\"."
      ]
    },
    {
      "cell_type": "code",
      "metadata": {
        "id": "hvUUxKErcP1t",
        "colab": {
          "base_uri": "https://localhost:8080/"
        },
        "outputId": "6455db19-e704-452d-b3c8-5f8bdd115399"
      },
      "source": [
        "import numpy as np\n",
        "from tensorflow import keras\n",
        "from tensorflow.keras import layers\n",
        "\n",
        "# Download MNIST dataset\n",
        "(X_train, y_train), (X_test, y_test) = keras.datasets.mnist.load_data()\n",
        "\n",
        "# calculate the sample mean and std\n",
        "# calculate the sample mean and std\n",
        "mu = X_train.mean()\n",
        "# 0으로 나누는 것을 방지하기 위해서 매우 작은 값을 더해준다.\n",
        "sig = X_train.std()+0.000000001\n",
        "\n",
        "# normalize (z-score)\n",
        "X_train = (X_train - mu) / sig\n",
        "# print(X_train[0])\n",
        "\n",
        "# train set과 동일한 평균과 표준편차로 test_set도 변경해줘야한다.\n",
        "\n",
        "X_test = (X_test - mu) / sig # note! : use the same statistic with the training set!\n",
        "\n",
        "\n",
        "# Change the shape of data from (W, W) to (W*W, )\n",
        "# 여기서는 마지막에 1은 흑백사진이므로 채널을 맞춰주기 위해서 써준다.\n",
        "X_train = X_train.reshape((-1, 28,28,1))\n",
        "X_test = X_test.reshape((-1, 28,28,1))\n",
        "\n",
        "\n",
        "# convert class vectors to binary class matrices (https://www.educative.io/edpresso/how-to-perform-one-hot-encoding-using-keras)\n",
        "y_train = keras.utils.to_categorical(y_train,10)\n",
        "y_test = keras.utils.to_categorical(y_test,10)\n",
        "\n",
        "print(X_train.shape)\n",
        "print(y_train.shape)\n",
        "print(X_test.shape)\n",
        "print(y_test.shape)"
      ],
      "execution_count": 1,
      "outputs": [
        {
          "output_type": "stream",
          "name": "stdout",
          "text": [
            "Downloading data from https://storage.googleapis.com/tensorflow/tf-keras-datasets/mnist.npz\n",
            "11493376/11490434 [==============================] - 0s 0us/step\n",
            "11501568/11490434 [==============================] - 0s 0us/step\n",
            "[[-0.42407389 -0.42407389 -0.42407389 -0.42407389 -0.42407389 -0.42407389\n",
            "  -0.42407389 -0.42407389 -0.42407389 -0.42407389 -0.42407389 -0.42407389\n",
            "  -0.42407389 -0.42407389 -0.42407389 -0.42407389 -0.42407389 -0.42407389\n",
            "  -0.42407389 -0.42407389 -0.42407389 -0.42407389 -0.42407389 -0.42407389\n",
            "  -0.42407389 -0.42407389 -0.42407389 -0.42407389]\n",
            " [-0.42407389 -0.42407389 -0.42407389 -0.42407389 -0.42407389 -0.42407389\n",
            "  -0.42407389 -0.42407389 -0.42407389 -0.42407389 -0.42407389 -0.42407389\n",
            "  -0.42407389 -0.42407389 -0.42407389 -0.42407389 -0.42407389 -0.42407389\n",
            "  -0.42407389 -0.42407389 -0.42407389 -0.42407389 -0.42407389 -0.42407389\n",
            "  -0.42407389 -0.42407389 -0.42407389 -0.42407389]\n",
            " [-0.42407389 -0.42407389 -0.42407389 -0.42407389 -0.42407389 -0.42407389\n",
            "  -0.42407389 -0.42407389 -0.42407389 -0.42407389 -0.42407389 -0.42407389\n",
            "  -0.42407389 -0.42407389 -0.42407389 -0.42407389 -0.42407389 -0.42407389\n",
            "  -0.42407389 -0.42407389 -0.42407389 -0.42407389 -0.42407389 -0.42407389\n",
            "  -0.42407389 -0.42407389 -0.42407389 -0.42407389]\n",
            " [-0.42407389 -0.42407389 -0.42407389 -0.42407389 -0.42407389 -0.42407389\n",
            "  -0.42407389 -0.42407389 -0.42407389 -0.42407389 -0.42407389 -0.42407389\n",
            "  -0.42407389 -0.42407389 -0.42407389 -0.42407389 -0.42407389 -0.42407389\n",
            "  -0.42407389 -0.42407389 -0.42407389 -0.42407389 -0.42407389 -0.42407389\n",
            "  -0.42407389 -0.42407389 -0.42407389 -0.42407389]\n",
            " [-0.42407389 -0.42407389 -0.42407389 -0.42407389 -0.42407389 -0.42407389\n",
            "  -0.42407389 -0.42407389 -0.42407389 -0.42407389 -0.42407389 -0.42407389\n",
            "  -0.42407389 -0.42407389 -0.42407389 -0.42407389 -0.42407389 -0.42407389\n",
            "  -0.42407389 -0.42407389 -0.42407389 -0.42407389 -0.42407389 -0.42407389\n",
            "  -0.42407389 -0.42407389 -0.42407389 -0.42407389]\n",
            " [-0.42407389 -0.42407389 -0.42407389 -0.42407389 -0.42407389 -0.42407389\n",
            "  -0.42407389 -0.42407389 -0.42407389 -0.42407389 -0.42407389 -0.42407389\n",
            "  -0.38589016 -0.1949715  -0.1949715  -0.1949715   1.17964286  1.30692197\n",
            "   1.80331049 -0.09314822  1.68875929  2.82154335  2.71972006  1.19237077\n",
            "  -0.42407389 -0.42407389 -0.42407389 -0.42407389]\n",
            " [-0.42407389 -0.42407389 -0.42407389 -0.42407389 -0.42407389 -0.42407389\n",
            "  -0.42407389 -0.42407389 -0.04223657  0.03413089  0.77234972  1.53602436\n",
            "   1.73967093  2.79608752  2.79608752  2.79608752  2.79608752  2.79608752\n",
            "   2.43970602  1.76512675  2.79608752  2.65608051  2.0578687   0.39051239\n",
            "  -0.42407389 -0.42407389 -0.42407389 -0.42407389]\n",
            " [-0.42407389 -0.42407389 -0.42407389 -0.42407389 -0.42407389 -0.42407389\n",
            "  -0.42407389  0.19959373  2.60516886  2.79608752  2.79608752  2.79608752\n",
            "   2.79608752  2.79608752  2.79608752  2.79608752  2.79608752  2.7706317\n",
            "   0.7596218   0.61961479  0.61961479  0.28868911  0.07231462 -0.42407389\n",
            "  -0.42407389 -0.42407389 -0.42407389 -0.42407389]\n",
            " [-0.42407389 -0.42407389 -0.42407389 -0.42407389 -0.42407389 -0.42407389\n",
            "  -0.42407389 -0.1949715   2.36333856  2.79608752  2.79608752  2.79608752\n",
            "   2.79608752  2.79608752  2.09605243  1.89240586  2.71972006  2.6433526\n",
            "  -0.42407389 -0.42407389 -0.42407389 -0.42407389 -0.42407389 -0.42407389\n",
            "  -0.42407389 -0.42407389 -0.42407389 -0.42407389]\n",
            " [-0.42407389 -0.42407389 -0.42407389 -0.42407389 -0.42407389 -0.42407389\n",
            "  -0.42407389 -0.42407389  0.59415897  1.56148018  0.93781256  2.79608752\n",
            "   2.79608752  2.18514781 -0.28406688 -0.42407389  0.12322627  1.53602436\n",
            "  -0.42407389 -0.42407389 -0.42407389 -0.42407389 -0.42407389 -0.42407389\n",
            "  -0.42407389 -0.42407389 -0.42407389 -0.42407389]\n",
            " [-0.42407389 -0.42407389 -0.42407389 -0.42407389 -0.42407389 -0.42407389\n",
            "  -0.42407389 -0.42407389 -0.42407389 -0.24588314 -0.41134598  1.53602436\n",
            "   2.79608752  0.72143807 -0.42407389 -0.42407389 -0.42407389 -0.42407389\n",
            "  -0.42407389 -0.42407389 -0.42407389 -0.42407389 -0.42407389 -0.42407389\n",
            "  -0.42407389 -0.42407389 -0.42407389 -0.42407389]\n",
            " [-0.42407389 -0.42407389 -0.42407389 -0.42407389 -0.42407389 -0.42407389\n",
            "  -0.42407389 -0.42407389 -0.42407389 -0.42407389 -0.42407389  1.3451057\n",
            "   2.79608752  1.99422915 -0.39861807 -0.42407389 -0.42407389 -0.42407389\n",
            "  -0.42407389 -0.42407389 -0.42407389 -0.42407389 -0.42407389 -0.42407389\n",
            "  -0.42407389 -0.42407389 -0.42407389 -0.42407389]\n",
            " [-0.42407389 -0.42407389 -0.42407389 -0.42407389 -0.42407389 -0.42407389\n",
            "  -0.42407389 -0.42407389 -0.42407389 -0.42407389 -0.42407389 -0.28406688\n",
            "   1.99422915  2.79608752  0.46687986 -0.42407389 -0.42407389 -0.42407389\n",
            "  -0.42407389 -0.42407389 -0.42407389 -0.42407389 -0.42407389 -0.42407389\n",
            "  -0.42407389 -0.42407389 -0.42407389 -0.42407389]\n",
            " [-0.42407389 -0.42407389 -0.42407389 -0.42407389 -0.42407389 -0.42407389\n",
            "  -0.42407389 -0.42407389 -0.42407389 -0.42407389 -0.42407389 -0.42407389\n",
            "   0.02140298  2.6433526   2.43970602  1.61239182  0.95054047 -0.41134598\n",
            "  -0.42407389 -0.42407389 -0.42407389 -0.42407389 -0.42407389 -0.42407389\n",
            "  -0.42407389 -0.42407389 -0.42407389 -0.42407389]\n",
            " [-0.42407389 -0.42407389 -0.42407389 -0.42407389 -0.42407389 -0.42407389\n",
            "  -0.42407389 -0.42407389 -0.42407389 -0.42407389 -0.42407389 -0.42407389\n",
            "  -0.42407389  0.60688688  2.63062468  2.79608752  2.79608752  1.09054748\n",
            "  -0.10587613 -0.42407389 -0.42407389 -0.42407389 -0.42407389 -0.42407389\n",
            "  -0.42407389 -0.42407389 -0.42407389 -0.42407389]\n",
            " [-0.42407389 -0.42407389 -0.42407389 -0.42407389 -0.42407389 -0.42407389\n",
            "  -0.42407389 -0.42407389 -0.42407389 -0.42407389 -0.42407389 -0.42407389\n",
            "  -0.42407389 -0.42407389  0.14868209  1.9433175   2.79608752  2.79608752\n",
            "   1.48511272 -0.0804203  -0.42407389 -0.42407389 -0.42407389 -0.42407389\n",
            "  -0.42407389 -0.42407389 -0.42407389 -0.42407389]\n",
            " [-0.42407389 -0.42407389 -0.42407389 -0.42407389 -0.42407389 -0.42407389\n",
            "  -0.42407389 -0.42407389 -0.42407389 -0.42407389 -0.42407389 -0.42407389\n",
            "  -0.42407389 -0.42407389 -0.42407389 -0.22042732  0.7596218   2.78335961\n",
            "   2.79608752  1.95604541 -0.42407389 -0.42407389 -0.42407389 -0.42407389\n",
            "  -0.42407389 -0.42407389 -0.42407389 -0.42407389]\n",
            " [-0.42407389 -0.42407389 -0.42407389 -0.42407389 -0.42407389 -0.42407389\n",
            "  -0.42407389 -0.42407389 -0.42407389 -0.42407389 -0.42407389 -0.42407389\n",
            "  -0.42407389 -0.42407389 -0.42407389 -0.42407389 -0.42407389  2.74517588\n",
            "   2.79608752  2.74517588  0.39051239 -0.42407389 -0.42407389 -0.42407389\n",
            "  -0.42407389 -0.42407389 -0.42407389 -0.42407389]\n",
            " [-0.42407389 -0.42407389 -0.42407389 -0.42407389 -0.42407389 -0.42407389\n",
            "  -0.42407389 -0.42407389 -0.42407389 -0.42407389 -0.42407389 -0.42407389\n",
            "  -0.42407389 -0.42407389  0.16141     1.2305545   1.90513377  2.79608752\n",
            "   2.79608752  2.21060363 -0.39861807 -0.42407389 -0.42407389 -0.42407389\n",
            "  -0.42407389 -0.42407389 -0.42407389 -0.42407389]\n",
            " [-0.42407389 -0.42407389 -0.42407389 -0.42407389 -0.42407389 -0.42407389\n",
            "  -0.42407389 -0.42407389 -0.42407389 -0.42407389 -0.42407389 -0.42407389\n",
            "   0.07231462  1.4596569   2.49061767  2.79608752  2.79608752  2.79608752\n",
            "   2.75790379  1.89240586 -0.42407389 -0.42407389 -0.42407389 -0.42407389\n",
            "  -0.42407389 -0.42407389 -0.42407389 -0.42407389]\n",
            " [-0.42407389 -0.42407389 -0.42407389 -0.42407389 -0.42407389 -0.42407389\n",
            "  -0.42407389 -0.42407389 -0.42407389 -0.42407389 -0.11860404  1.02690793\n",
            "   2.38879438  2.79608752  2.79608752  2.79608752  2.79608752  2.13423617\n",
            "   0.56870314 -0.42407389 -0.42407389 -0.42407389 -0.42407389 -0.42407389\n",
            "  -0.42407389 -0.42407389 -0.42407389 -0.42407389]\n",
            " [-0.42407389 -0.42407389 -0.42407389 -0.42407389 -0.42407389 -0.42407389\n",
            "  -0.42407389 -0.42407389 -0.13133195  0.41596821  2.28697109  2.79608752\n",
            "   2.79608752  2.79608752  2.79608752  2.09605243  0.60688688 -0.39861807\n",
            "  -0.42407389 -0.42407389 -0.42407389 -0.42407389 -0.42407389 -0.42407389\n",
            "  -0.42407389 -0.42407389 -0.42407389 -0.42407389]\n",
            " [-0.42407389 -0.42407389 -0.42407389 -0.42407389 -0.42407389 -0.42407389\n",
            "  -0.1949715   1.75239884  2.36333856  2.79608752  2.79608752  2.79608752\n",
            "   2.79608752  2.0578687   0.59415897 -0.3095227  -0.42407389 -0.42407389\n",
            "  -0.42407389 -0.42407389 -0.42407389 -0.42407389 -0.42407389 -0.42407389\n",
            "  -0.42407389 -0.42407389 -0.42407389 -0.42407389]\n",
            " [-0.42407389 -0.42407389 -0.42407389 -0.42407389  0.2759612   1.76512675\n",
            "   2.45243393  2.79608752  2.79608752  2.79608752  2.79608752  2.68153633\n",
            "   1.26873823 -0.28406688 -0.42407389 -0.42407389 -0.42407389 -0.42407389\n",
            "  -0.42407389 -0.42407389 -0.42407389 -0.42407389 -0.42407389 -0.42407389\n",
            "  -0.42407389 -0.42407389 -0.42407389 -0.42407389]\n",
            " [-0.42407389 -0.42407389 -0.42407389 -0.42407389  1.30692197  2.79608752\n",
            "   2.79608752  2.79608752  2.27424318  1.29419406  1.25601032 -0.22042732\n",
            "  -0.42407389 -0.42407389 -0.42407389 -0.42407389 -0.42407389 -0.42407389\n",
            "  -0.42407389 -0.42407389 -0.42407389 -0.42407389 -0.42407389 -0.42407389\n",
            "  -0.42407389 -0.42407389 -0.42407389 -0.42407389]\n",
            " [-0.42407389 -0.42407389 -0.42407389 -0.42407389 -0.42407389 -0.42407389\n",
            "  -0.42407389 -0.42407389 -0.42407389 -0.42407389 -0.42407389 -0.42407389\n",
            "  -0.42407389 -0.42407389 -0.42407389 -0.42407389 -0.42407389 -0.42407389\n",
            "  -0.42407389 -0.42407389 -0.42407389 -0.42407389 -0.42407389 -0.42407389\n",
            "  -0.42407389 -0.42407389 -0.42407389 -0.42407389]\n",
            " [-0.42407389 -0.42407389 -0.42407389 -0.42407389 -0.42407389 -0.42407389\n",
            "  -0.42407389 -0.42407389 -0.42407389 -0.42407389 -0.42407389 -0.42407389\n",
            "  -0.42407389 -0.42407389 -0.42407389 -0.42407389 -0.42407389 -0.42407389\n",
            "  -0.42407389 -0.42407389 -0.42407389 -0.42407389 -0.42407389 -0.42407389\n",
            "  -0.42407389 -0.42407389 -0.42407389 -0.42407389]\n",
            " [-0.42407389 -0.42407389 -0.42407389 -0.42407389 -0.42407389 -0.42407389\n",
            "  -0.42407389 -0.42407389 -0.42407389 -0.42407389 -0.42407389 -0.42407389\n",
            "  -0.42407389 -0.42407389 -0.42407389 -0.42407389 -0.42407389 -0.42407389\n",
            "  -0.42407389 -0.42407389 -0.42407389 -0.42407389 -0.42407389 -0.42407389\n",
            "  -0.42407389 -0.42407389 -0.42407389 -0.42407389]]\n",
            "(60000, 28, 28, 1)\n",
            "(60000, 10)\n",
            "(10000, 28, 28, 1)\n",
            "(10000, 10)\n"
          ]
        }
      ]
    },
    {
      "cell_type": "code",
      "source": [
        "## data sample\n",
        "from matplotlib import pyplot as plt\n",
        "plt.figure()\n",
        "plt.imshow(X_train[0].reshape(28,28))\n",
        "plt.show()"
      ],
      "metadata": {
        "id": "NUu4rp-eLwsn",
        "colab": {
          "base_uri": "https://localhost:8080/",
          "height": 265
        },
        "outputId": "9a4810e0-33a4-4694-e597-0892167efbfe"
      },
      "execution_count": 2,
      "outputs": [
        {
          "output_type": "display_data",
          "data": {
            "text/plain": [
              "<Figure size 432x288 with 1 Axes>"
            ],
            "image/png": "[encoded data removed]"
          },
          "metadata": {
            "needs_background": "light"
          }
        }
      ]
    },
    {
      "cell_type": "code",
      "metadata": {
        "id": "CTEgUbPk9o2Z",
        "colab": {
          "base_uri": "https://localhost:8080/"
        },
        "outputId": "79886046-286c-40d5-ba1a-88c1e73a6f73"
      },
      "source": [
        "## Model (https://keras.io/api/layers/)\n",
        "## 2-layer CNN with MLP\n",
        "# check the #parameters! (only 10% of MLP)\n",
        "# filter의 갯수만큼 output의 갯수가 나옴 , 여기서 filter는 동일 (3,3) 짜리 필터의 갯수를 몇개쓸것인가에 대한것임\n",
        "# pooling layer를 쓰는 이유는 demesion reducton과 max값인 것이 예측하는 데 더 많은 정보가 들어있다고 생각함\n",
        "\n",
        "\n",
        "model = keras.Sequential(\n",
        "    [\n",
        "      keras.layers.Conv2D(\n",
        "        filters=32,\n",
        "        kernel_size=(3,3),\n",
        "        strides=(1, 1),\n",
        "        padding=\"valid\",\n",
        "        activation='relu',\n",
        "        input_shape=(28,28,1)\n",
        "      ),\n",
        "      keras.layers.Conv2D(\n",
        "        filters=32,\n",
        "        kernel_size=(3,3),\n",
        "        strides=(1, 1),\n",
        "        padding=\"valid\",\n",
        "        activation='relu',\n",
        "      ),\n",
        "     keras.layers.MaxPooling2D(\n",
        "       pool_size=(2, 2), strides=None, padding=\"valid\"\n",
        "       ),\n",
        "     layers.Flatten(),\n",
        "    #  hidden layer를 써도 됨\n",
        "    #  layers.Dense(100,activation='relu'),\n",
        "     layers.Dense(10,activation='softmax')\n",
        "    ],\n",
        "    \n",
        ")\n",
        "\n",
        "model.summary()"
      ],
      "execution_count": 7,
      "outputs": [
        {
          "output_type": "stream",
          "name": "stdout",
          "text": [
            "Model: \"sequential_3\"\n",
            "_________________________________________________________________\n",
            " Layer (type)                Output Shape              Param #   \n",
            "=================================================================\n",
            " conv2d_8 (Conv2D)           (None, 26, 26, 32)        320       \n",
            "                                                                 \n",
            " conv2d_9 (Conv2D)           (None, 24, 24, 32)        9248      \n",
            "                                                                 \n",
            " max_pooling2d_4 (MaxPooling  (None, 12, 12, 32)       0         \n",
            " 2D)                                                             \n",
            "                                                                 \n",
            " flatten_3 (Flatten)         (None, 4608)              0         \n",
            "                                                                 \n",
            " dense_1 (Dense)             (None, 10)                46090     \n",
            "                                                                 \n",
            "=================================================================\n",
            "Total params: 55,658\n",
            "Trainable params: 55,658\n",
            "Non-trainable params: 0\n",
            "_________________________________________________________________\n"
          ]
        }
      ]
    },
    {
      "cell_type": "code",
      "metadata": {
        "id": "lGzW1cFaD-xP",
        "colab": {
          "base_uri": "https://localhost:8080/"
        },
        "outputId": "57eb1000-6f58-44e5-c673-abcd2afcd42f"
      },
      "source": [
        "## Train (https://keras.io/api/models/model_training_apis/)\n",
        "batch_size = 64\n",
        "epochs = 50\n",
        "\n",
        "## compile\n",
        "# 러닝 rate / loss / optimaizer 머 쓸건지 정함\n",
        "model.compile(optimizer=keras.optimizers.Adam(learning_rate=0.001), loss='categorical_crossentropy', metrics=['accuracy']) # keras.losses.MeanSq\n",
        "## fit\n",
        "hist = model.fit(x=X_train, y=y_train, batch_size=batch_size, epochs=epochs, validation_split=0.1)"
      ],
      "execution_count": 8,
      "outputs": [
        {
          "output_type": "stream",
          "name": "stdout",
          "text": [
            "Epoch 1/50\n",
            "844/844 [==============================] - 18s 10ms/step - loss: 0.1556 - accuracy: 0.9546 - val_loss: 0.0641 - val_accuracy: 0.9842\n",
            "Epoch 2/50\n",
            "844/844 [==============================] - 8s 9ms/step - loss: 0.0527 - accuracy: 0.9835 - val_loss: 0.0495 - val_accuracy: 0.9857\n",
            "Epoch 3/50\n",
            "844/844 [==============================] - 8s 9ms/step - loss: 0.0376 - accuracy: 0.9884 - val_loss: 0.0455 - val_accuracy: 0.9878\n",
            "Epoch 4/50\n",
            "844/844 [==============================] - 8s 9ms/step - loss: 0.0283 - accuracy: 0.9909 - val_loss: 0.0426 - val_accuracy: 0.9892\n",
            "Epoch 5/50\n",
            "844/844 [==============================] - 8s 9ms/step - loss: 0.0217 - accuracy: 0.9925 - val_loss: 0.0495 - val_accuracy: 0.9880\n",
            "Epoch 6/50\n",
            "844/844 [==============================] - 8s 9ms/step - loss: 0.0177 - accuracy: 0.9940 - val_loss: 0.0617 - val_accuracy: 0.9863\n",
            "Epoch 7/50\n",
            "844/844 [==============================] - 8s 10ms/step - loss: 0.0133 - accuracy: 0.9958 - val_loss: 0.0487 - val_accuracy: 0.9885\n",
            "Epoch 8/50\n",
            "844/844 [==============================] - 8s 9ms/step - loss: 0.0105 - accuracy: 0.9967 - val_loss: 0.0535 - val_accuracy: 0.9903\n",
            "Epoch 9/50\n",
            "844/844 [==============================] - 8s 9ms/step - loss: 0.0087 - accuracy: 0.9969 - val_loss: 0.0591 - val_accuracy: 0.9887\n",
            "Epoch 10/50\n",
            "844/844 [==============================] - 8s 9ms/step - loss: 0.0109 - accuracy: 0.9963 - val_loss: 0.0568 - val_accuracy: 0.9890\n",
            "Epoch 11/50\n",
            "844/844 [==============================] - 8s 9ms/step - loss: 0.0059 - accuracy: 0.9980 - val_loss: 0.0541 - val_accuracy: 0.9902\n",
            "Epoch 12/50\n",
            "844/844 [==============================] - 8s 9ms/step - loss: 0.0054 - accuracy: 0.9982 - val_loss: 0.0622 - val_accuracy: 0.9893\n",
            "Epoch 13/50\n",
            "844/844 [==============================] - 8s 9ms/step - loss: 0.0064 - accuracy: 0.9978 - val_loss: 0.0687 - val_accuracy: 0.9888\n",
            "Epoch 14/50\n",
            "844/844 [==============================] - 8s 9ms/step - loss: 0.0056 - accuracy: 0.9981 - val_loss: 0.0642 - val_accuracy: 0.9882\n",
            "Epoch 15/50\n",
            "844/844 [==============================] - 8s 9ms/step - loss: 0.0029 - accuracy: 0.9991 - val_loss: 0.0753 - val_accuracy: 0.9887\n",
            "Epoch 16/50\n",
            "844/844 [==============================] - 8s 9ms/step - loss: 0.0038 - accuracy: 0.9989 - val_loss: 0.0750 - val_accuracy: 0.9900\n",
            "Epoch 17/50\n",
            "844/844 [==============================] - 8s 9ms/step - loss: 0.0062 - accuracy: 0.9978 - val_loss: 0.0633 - val_accuracy: 0.9898\n",
            "Epoch 18/50\n",
            "844/844 [==============================] - 8s 9ms/step - loss: 0.0028 - accuracy: 0.9990 - val_loss: 0.0789 - val_accuracy: 0.9892\n",
            "Epoch 19/50\n",
            "844/844 [==============================] - 8s 9ms/step - loss: 0.0032 - accuracy: 0.9990 - val_loss: 0.0922 - val_accuracy: 0.9885\n",
            "Epoch 20/50\n",
            "844/844 [==============================] - 8s 9ms/step - loss: 0.0036 - accuracy: 0.9989 - val_loss: 0.0745 - val_accuracy: 0.9905\n",
            "Epoch 21/50\n",
            "844/844 [==============================] - 8s 9ms/step - loss: 0.0031 - accuracy: 0.9990 - val_loss: 0.0806 - val_accuracy: 0.9890\n",
            "Epoch 22/50\n",
            "844/844 [==============================] - 8s 9ms/step - loss: 0.0018 - accuracy: 0.9994 - val_loss: 0.0844 - val_accuracy: 0.9903\n",
            "Epoch 23/50\n",
            "844/844 [==============================] - 8s 9ms/step - loss: 0.0045 - accuracy: 0.9986 - val_loss: 0.0729 - val_accuracy: 0.9885\n",
            "Epoch 24/50\n",
            "844/844 [==============================] - 8s 9ms/step - loss: 0.0030 - accuracy: 0.9989 - val_loss: 0.0761 - val_accuracy: 0.9898\n",
            "Epoch 25/50\n",
            "844/844 [==============================] - 8s 9ms/step - loss: 0.0021 - accuracy: 0.9994 - val_loss: 0.0726 - val_accuracy: 0.9907\n",
            "Epoch 26/50\n",
            "844/844 [==============================] - 8s 9ms/step - loss: 0.0032 - accuracy: 0.9989 - val_loss: 0.0886 - val_accuracy: 0.9887\n",
            "Epoch 27/50\n",
            "844/844 [==============================] - 8s 9ms/step - loss: 0.0025 - accuracy: 0.9992 - val_loss: 0.0868 - val_accuracy: 0.9898\n",
            "Epoch 28/50\n",
            "844/844 [==============================] - 8s 10ms/step - loss: 0.0019 - accuracy: 0.9993 - val_loss: 0.0929 - val_accuracy: 0.9900\n",
            "Epoch 29/50\n",
            "844/844 [==============================] - 8s 9ms/step - loss: 0.0028 - accuracy: 0.9991 - val_loss: 0.0861 - val_accuracy: 0.9903\n",
            "Epoch 30/50\n",
            "844/844 [==============================] - 8s 9ms/step - loss: 0.0026 - accuracy: 0.9991 - val_loss: 0.1034 - val_accuracy: 0.9893\n",
            "Epoch 31/50\n",
            "844/844 [==============================] - 8s 9ms/step - loss: 0.0020 - accuracy: 0.9993 - val_loss: 0.1109 - val_accuracy: 0.9892\n",
            "Epoch 32/50\n",
            "844/844 [==============================] - 8s 9ms/step - loss: 0.0017 - accuracy: 0.9995 - val_loss: 0.1016 - val_accuracy: 0.9890\n",
            "Epoch 33/50\n",
            "844/844 [==============================] - 8s 9ms/step - loss: 0.0023 - accuracy: 0.9992 - val_loss: 0.1046 - val_accuracy: 0.9900\n",
            "Epoch 34/50\n",
            "844/844 [==============================] - 8s 9ms/step - loss: 0.0020 - accuracy: 0.9994 - val_loss: 0.0958 - val_accuracy: 0.9892\n",
            "Epoch 35/50\n",
            "844/844 [==============================] - 8s 10ms/step - loss: 0.0019 - accuracy: 0.9994 - val_loss: 0.1105 - val_accuracy: 0.9890\n",
            "Epoch 36/50\n",
            "844/844 [==============================] - 8s 9ms/step - loss: 0.0024 - accuracy: 0.9994 - val_loss: 0.1056 - val_accuracy: 0.9902\n",
            "Epoch 37/50\n",
            "844/844 [==============================] - 8s 9ms/step - loss: 0.0025 - accuracy: 0.9994 - val_loss: 0.1025 - val_accuracy: 0.9905\n",
            "Epoch 38/50\n",
            "844/844 [==============================] - 8s 9ms/step - loss: 0.0014 - accuracy: 0.9994 - val_loss: 0.1368 - val_accuracy: 0.9880\n",
            "Epoch 39/50\n",
            "844/844 [==============================] - 8s 9ms/step - loss: 0.0024 - accuracy: 0.9991 - val_loss: 0.0999 - val_accuracy: 0.9900\n",
            "Epoch 40/50\n",
            "844/844 [==============================] - 8s 9ms/step - loss: 2.2669e-04 - accuracy: 0.9999 - val_loss: 0.1122 - val_accuracy: 0.9907\n",
            "Epoch 41/50\n",
            "844/844 [==============================] - 8s 9ms/step - loss: 0.0019 - accuracy: 0.9994 - val_loss: 0.0917 - val_accuracy: 0.9900\n",
            "Epoch 42/50\n",
            "844/844 [==============================] - 8s 10ms/step - loss: 0.0011 - accuracy: 0.9996 - val_loss: 0.1120 - val_accuracy: 0.9897\n",
            "Epoch 43/50\n",
            "844/844 [==============================] - 8s 10ms/step - loss: 0.0033 - accuracy: 0.9990 - val_loss: 0.1158 - val_accuracy: 0.9883\n",
            "Epoch 44/50\n",
            "844/844 [==============================] - 8s 9ms/step - loss: 0.0012 - accuracy: 0.9997 - val_loss: 0.1085 - val_accuracy: 0.9890\n",
            "Epoch 45/50\n",
            "844/844 [==============================] - 8s 10ms/step - loss: 6.8112e-04 - accuracy: 0.9997 - val_loss: 0.1211 - val_accuracy: 0.9892\n",
            "Epoch 46/50\n",
            "844/844 [==============================] - 9s 11ms/step - loss: 0.0018 - accuracy: 0.9994 - val_loss: 0.1115 - val_accuracy: 0.9897\n",
            "Epoch 47/50\n",
            "844/844 [==============================] - 12s 14ms/step - loss: 0.0019 - accuracy: 0.9993 - val_loss: 0.1163 - val_accuracy: 0.9892\n",
            "Epoch 48/50\n",
            "844/844 [==============================] - 8s 10ms/step - loss: 0.0020 - accuracy: 0.9995 - val_loss: 0.1169 - val_accuracy: 0.9890\n",
            "Epoch 49/50\n",
            "844/844 [==============================] - 8s 10ms/step - loss: 0.0024 - accuracy: 0.9994 - val_loss: 0.1081 - val_accuracy: 0.9900\n",
            "Epoch 50/50\n",
            "844/844 [==============================] - 8s 10ms/step - loss: 0.0013 - accuracy: 0.9996 - val_loss: 0.1024 - val_accuracy: 0.9908\n"
          ]
        }
      ]
    },
    {
      "cell_type": "code",
      "metadata": {
        "id": "5TruvpcHI9Pv",
        "colab": {
          "base_uri": "https://localhost:8080/",
          "height": 265
        },
        "outputId": "cb26d777-074d-4147-a139-9bddb57f7fbf"
      },
      "source": [
        "## plot loss and accuracy to check if the model is converged.\n",
        "val_accuracy = hist.history['val_accuracy']\n",
        "train_accuracy = hist.history['accuracy']\n",
        "\n",
        "# x축을 epochs\n",
        "from matplotlib import pyplot as plt\n",
        "plt.figure()\n",
        "plt.plot(np.arange(epochs),val_accuracy,label=\"val_accuracy\")\n",
        "plt.plot(np.arange(epochs),train_accuracy,label=\"train_accuracy\")\n",
        "plt.legend()\n",
        "plt.show()"
      ],
      "execution_count": 9,
      "outputs": [
        {
          "output_type": "display_data",
          "data": {
            "text/plain": [
              "<Figure size 432x288 with 1 Axes>"
            ],
            "image/png": "[encoded data removed]"
          },
          "metadata": {
            "needs_background": "light"
          }
        }
      ]
    },
    {
      "cell_type": "code",
      "metadata": {
        "id": "1WXq3K5IKMg9",
        "colab": {
          "base_uri": "https://localhost:8080/"
        },
        "outputId": "8a8849ea-bf4e-40da-b117-bac1e7ed5911"
      },
      "source": [
        "## evaluate on the test set.\n",
        "## you should get acc higher than 0.98\n",
        "model.evaluate(X_test, y_test, verbose=1)\n",
        "\n",
        "## When we used MLP for classification of images, we got 0.98 on the test set using 178,110 parameters.\n",
        "## When we used CNN for classification of images, We get 0.99 on the test set using only 17,578 parameters !!"
      ],
      "execution_count": 10,
      "outputs": [
        {
          "output_type": "stream",
          "name": "stdout",
          "text": [
            "313/313 [==============================] - 1s 4ms/step - loss: 0.1114 - accuracy: 0.9880\n"
          ]
        },
        {
          "output_type": "execute_result",
          "data": {
            "text/plain": [
              "[0.11141573637723923, 0.9879999756813049]"
            ]
          },
          "metadata": {},
          "execution_count": 10
        }
      ]
    },
    {
      "cell_type": "markdown",
      "metadata": {
        "id": "Yi4rsO393tWV"
      },
      "source": [
        "### 2. Classification on CIFAR-10 dataset (Kaggle Competition!)\n",
        "#### - a. load dataset: https://keras.io/api/datasets/cifar10/\n",
        "#### - b. pre-processing\n",
        "#### - c. define your CNN model (Google it!) \n",
        "#### Batch Normalization (https://keras.io/api/layers/normalization_layers/batch_normalization/)\n",
        "####     Same Padding (https://keras.io/api/layers/convolution_layers/convolution2d/)\n",
        "#### - d. Train your model\n",
        "#### - e. Tune hyperparamters of your model on the validation set\n",
        "#### - f. Evaluate your model on the test set.\n",
        "\n",
        "\\\n",
        "#### - GOAL : you should achieve accuracy higher than 0.75 with less than 100,000 parameters\n",
        "#### make your team name as \"date_name\" (ex. 20220307_WonbinKweon)  ('team'탭에 가면 변경가능)\n",
        "(https://www.kaggle.com/c/cifar-10-classification1234/host/all-submissions)"
      ]
    },
    {
      "cell_type": "code",
      "metadata": {
        "id": "v0Os84NuLRf3",
        "colab": {
          "base_uri": "https://localhost:8080/"
        },
        "outputId": "85651ec5-33b7-412a-c4ab-6f08d9bd0d4e"
      },
      "source": [
        "import numpy as np\n",
        "from tensorflow import keras\n",
        "from tensorflow.keras import layers\n",
        "\n",
        "# Download CIFAR dataset\n",
        "(X_train, y_train), (X_test, y_test) =keras.datasets.cifar10.load_data()\n",
        "\n",
        "# calculate the sample mean and std\n",
        "mu = X_train.mean()\n",
        "# 0으로 나누는 것을 방지하기 위해서 매우 작은 값을 더해준다.\n",
        "sig = X_train.std()+0.000000001\n",
        "\n",
        "# normalize (z-score)\n",
        "X_train = (X_train - mu) / sig\n",
        "# print(X_train[0])\n",
        "\n",
        "# train set과 동일한 평균과 표준편차로 test_set도 변경해줘야한다.\n",
        "\n",
        "X_test = (X_test - mu) / sig # note! : use the same statistic with the training set!\n",
        "\n",
        "\n",
        "# convert class vectors to binary class matrices\n",
        "y_train = keras.utils.to_categorical(y_train,10)\n",
        "y_test = keras.utils.to_categorical(y_test,10)\n",
        "\n",
        "print(X_train.shape)\n",
        "print(y_train.shape)\n",
        "print(X_test.shape)\n",
        "print(y_test.shape)"
      ],
      "execution_count": 1,
      "outputs": [
        {
          "output_type": "stream",
          "name": "stdout",
          "text": [
            "Downloading data from https://www.cs.toronto.edu/~kriz/cifar-10-python.tar.gz\n",
            "170500096/170498071 [==============================] - 2s 0us/step\n",
            "170508288/170498071 [==============================] - 2s 0us/step\n",
            "(50000, 32, 32, 3)\n",
            "(50000, 1)\n",
            "(10000, 32, 32, 3)\n",
            "(10000, 1)\n",
            "(50000, 32, 32, 3)\n",
            "(50000, 10)\n",
            "(10000, 32, 32, 3)\n",
            "(10000, 10)\n"
          ]
        }
      ]
    },
    {
      "cell_type": "code",
      "metadata": {
        "id": "rpxR_8eB4TF9",
        "colab": {
          "base_uri": "https://localhost:8080/"
        },
        "outputId": "e6ccf15e-734e-47c2-9fe1-f482c7bae49c"
      },
      "source": [
        "## b. Model\n",
        "model = keras.Sequential(\n",
        "    [ \n",
        "      # conv 1\n",
        "      layers.Conv2D(filters=32, kernel_size=(3,3),strides=(1, 1),padding=\"same\",input_shape=(32,32,3)),\n",
        "      layers.BatchNormalization(),\n",
        "      layers.Activation('relu'),\n",
        "      # conv 2\n",
        "      layers.Conv2D(filters=32, kernel_size=(3,3),strides=(1, 1),padding=\"same\",input_shape=(32,32,3)),\n",
        "      layers.BatchNormalization(),\n",
        "      layers.Activation('relu'),\n",
        "      #  Pooling \n",
        "     layers.MaxPooling2D(\n",
        "       pool_size=(2, 2), strides=None, padding=\"same\" ),\n",
        "      # conv 1\n",
        "      layers.Conv2D(filters=32, kernel_size=(3,3),strides=(1, 1),padding=\"same\",input_shape=(32,32,3)),\n",
        "      layers.BatchNormalization(),\n",
        "      layers.Activation('relu'),\n",
        "      # conv 2\n",
        "      layers.Conv2D(filters=32, kernel_size=(3,3),strides=(1, 1),padding=\"same\",input_shape=(32,32,3)),\n",
        "      layers.BatchNormalization(),\n",
        "      layers.Activation('relu'),\n",
        "      #  Pooling \n",
        "     layers.MaxPooling2D(\n",
        "       pool_size=(2, 2), strides=None, padding=\"same\" ),\n",
        "     # conv 1\n",
        "      layers.Conv2D(filters=32, kernel_size=(3,3),strides=(1, 1),padding=\"same\",input_shape=(32,32,3)),\n",
        "      layers.BatchNormalization(),\n",
        "      layers.Activation('relu'),\n",
        "      # conv 2\n",
        "      layers.Conv2D(filters=32, kernel_size=(3,3),strides=(1, 1),padding=\"same\",input_shape=(32,32,3)),\n",
        "      layers.BatchNormalization(),\n",
        "      layers.Activation('relu'),\n",
        "      #  Pooling \n",
        "     layers.MaxPooling2D(\n",
        "       pool_size=(2, 2), strides=None, padding=\"same\" ),\n",
        "      # conv 1\n",
        "      layers.Conv2D(filters=16, kernel_size=(3,3),strides=(1, 1),padding=\"same\",input_shape=(32,32,3)),\n",
        "      layers.BatchNormalization(),\n",
        "      layers.Activation('relu'),\n",
        "      # conv 2\n",
        "      layers.Conv2D(filters=16, kernel_size=(3,3),strides=(1, 1),padding=\"same\",input_shape=(32,32,3)),\n",
        "      layers.BatchNormalization(),\n",
        "      layers.Activation('relu'),\n",
        "      #  Pooling \n",
        "     layers.MaxPooling2D(\n",
        "       pool_size=(2, 2), strides=None, padding=\"same\" ),\n",
        "      # conv 1\n",
        "      layers.Conv2D(filters=32, kernel_size=(3,3),strides=(1, 1),padding=\"same\",input_shape=(32,32,3)),\n",
        "      layers.BatchNormalization(),\n",
        "      layers.Activation('relu'),\n",
        "      # conv 2\n",
        "      layers.Conv2D(filters=32, kernel_size=(3,3),strides=(1, 1),padding=\"same\",input_shape=(32,32,3)),\n",
        "      layers.BatchNormalization(),\n",
        "      layers.Activation('relu'),\n",
        "      #  Pooling \n",
        "     layers.MaxPooling2D(\n",
        "      pool_size=(2, 2), strides=None, padding=\"same\" ),\n",
        "     \n",
        "      layers.Flatten(),\n",
        "    #  hidden layer를 써도 됨\n",
        "       layers.Dense(100,activation='relu'),\n",
        "       layers.Dense(10,activation='softmax')\n",
        "    ]\n",
        ")\n",
        "\n",
        "model.summary()"
      ],
      "execution_count": 31,
      "outputs": [
        {
          "output_type": "stream",
          "name": "stdout",
          "text": [
            "Model: \"sequential_14\"\n",
            "_________________________________________________________________\n",
            " Layer (type)                Output Shape              Param #   \n",
            "=================================================================\n",
            " conv2d_95 (Conv2D)          (None, 32, 32, 48)        1344      \n",
            "                                                                 \n",
            " batch_normalization_94 (Bat  (None, 32, 32, 48)       192       \n",
            " chNormalization)                                                \n",
            "                                                                 \n",
            " activation_94 (Activation)  (None, 32, 32, 48)        0         \n",
            "                                                                 \n",
            " conv2d_96 (Conv2D)          (None, 32, 32, 48)        20784     \n",
            "                                                                 \n",
            " batch_normalization_95 (Bat  (None, 32, 32, 48)       192       \n",
            " chNormalization)                                                \n",
            "                                                                 \n",
            " activation_95 (Activation)  (None, 32, 32, 48)        0         \n",
            "                                                                 \n",
            " max_pooling2d_50 (MaxPoolin  (None, 16, 16, 48)       0         \n",
            " g2D)                                                            \n",
            "                                                                 \n",
            " conv2d_97 (Conv2D)          (None, 16, 16, 32)        13856     \n",
            "                                                                 \n",
            " batch_normalization_96 (Bat  (None, 16, 16, 32)       128       \n",
            " chNormalization)                                                \n",
            "                                                                 \n",
            " activation_96 (Activation)  (None, 16, 16, 32)        0         \n",
            "                                                                 \n",
            " conv2d_98 (Conv2D)          (None, 16, 16, 32)        9248      \n",
            "                                                                 \n",
            " batch_normalization_97 (Bat  (None, 16, 16, 32)       128       \n",
            " chNormalization)                                                \n",
            "                                                                 \n",
            " activation_97 (Activation)  (None, 16, 16, 32)        0         \n",
            "                                                                 \n",
            " max_pooling2d_51 (MaxPoolin  (None, 8, 8, 32)         0         \n",
            " g2D)                                                            \n",
            "                                                                 \n",
            " conv2d_99 (Conv2D)          (None, 8, 8, 32)          9248      \n",
            "                                                                 \n",
            " batch_normalization_98 (Bat  (None, 8, 8, 32)         128       \n",
            " chNormalization)                                                \n",
            "                                                                 \n",
            " activation_98 (Activation)  (None, 8, 8, 32)          0         \n",
            "                                                                 \n",
            " conv2d_100 (Conv2D)         (None, 8, 8, 32)          9248      \n",
            "                                                                 \n",
            " batch_normalization_99 (Bat  (None, 8, 8, 32)         128       \n",
            " chNormalization)                                                \n",
            "                                                                 \n",
            " activation_99 (Activation)  (None, 8, 8, 32)          0         \n",
            "                                                                 \n",
            " max_pooling2d_52 (MaxPoolin  (None, 4, 4, 32)         0         \n",
            " g2D)                                                            \n",
            "                                                                 \n",
            " conv2d_101 (Conv2D)         (None, 4, 4, 16)          4624      \n",
            "                                                                 \n",
            " batch_normalization_100 (Ba  (None, 4, 4, 16)         64        \n",
            " tchNormalization)                                               \n",
            "                                                                 \n",
            " activation_100 (Activation)  (None, 4, 4, 16)         0         \n",
            "                                                                 \n",
            " conv2d_102 (Conv2D)         (None, 4, 4, 16)          2320      \n",
            "                                                                 \n",
            " batch_normalization_101 (Ba  (None, 4, 4, 16)         64        \n",
            " tchNormalization)                                               \n",
            "                                                                 \n",
            " activation_101 (Activation)  (None, 4, 4, 16)         0         \n",
            "                                                                 \n",
            " max_pooling2d_53 (MaxPoolin  (None, 2, 2, 16)         0         \n",
            " g2D)                                                            \n",
            "                                                                 \n",
            " conv2d_103 (Conv2D)         (None, 2, 2, 32)          4640      \n",
            "                                                                 \n",
            " batch_normalization_102 (Ba  (None, 2, 2, 32)         128       \n",
            " tchNormalization)                                               \n",
            "                                                                 \n",
            " activation_102 (Activation)  (None, 2, 2, 32)         0         \n",
            "                                                                 \n",
            " conv2d_104 (Conv2D)         (None, 2, 2, 32)          9248      \n",
            "                                                                 \n",
            " batch_normalization_103 (Ba  (None, 2, 2, 32)         128       \n",
            " tchNormalization)                                               \n",
            "                                                                 \n",
            " activation_103 (Activation)  (None, 2, 2, 32)         0         \n",
            "                                                                 \n",
            " max_pooling2d_54 (MaxPoolin  (None, 1, 1, 32)         0         \n",
            " g2D)                                                            \n",
            "                                                                 \n",
            " flatten_16 (Flatten)        (None, 32)                0         \n",
            "                                                                 \n",
            " dense_18 (Dense)            (None, 100)               3300      \n",
            "                                                                 \n",
            " dense_19 (Dense)            (None, 10)                1010      \n",
            "                                                                 \n",
            "=================================================================\n",
            "Total params: 90,150\n",
            "Trainable params: 89,510\n",
            "Non-trainable params: 640\n",
            "_________________________________________________________________\n"
          ]
        }
      ]
    },
    {
      "cell_type": "code",
      "metadata": {
        "id": "wlgu4MEk5n0-",
        "colab": {
          "base_uri": "https://localhost:8080/"
        },
        "outputId": "3a6323d1-8b35-40a2-bdb1-8fbde121f5b1"
      },
      "source": [
        "## Train\n",
        "batch_size = 32\n",
        "epochs = 20\n",
        "\n",
        "## compile\n",
        "# 러닝 rate / loss / optimaizer 머 쓸건지 정함\n",
        "model.compile(optimizer=keras.optimizers.Adam(learning_rate=0.001), loss='categorical_crossentropy', metrics=['accuracy']) # keras.losses.MeanSq\n",
        "## fit\n",
        "hist = model.fit(x=X_train, y=y_train, batch_size=batch_size, epochs=epochs, validation_split=0.1)\n"
      ],
      "execution_count": 33,
      "outputs": [
        {
          "output_type": "stream",
          "name": "stdout",
          "text": [
            "Epoch 1/20\n",
            "1407/1407 [==============================] - 26s 17ms/step - loss: 0.1957 - accuracy: 0.9312 - val_loss: 1.0345 - val_accuracy: 0.7662\n",
            "Epoch 2/20\n",
            "1407/1407 [==============================] - 23s 16ms/step - loss: 0.1925 - accuracy: 0.9310 - val_loss: 0.9565 - val_accuracy: 0.7622\n",
            "Epoch 3/20\n",
            "1407/1407 [==============================] - 23s 16ms/step - loss: 0.1912 - accuracy: 0.9318 - val_loss: 1.0556 - val_accuracy: 0.7560\n",
            "Epoch 4/20\n",
            "1407/1407 [==============================] - 22s 16ms/step - loss: 0.1908 - accuracy: 0.9329 - val_loss: 0.8643 - val_accuracy: 0.7804\n",
            "Epoch 5/20\n",
            "1407/1407 [==============================] - 22s 16ms/step - loss: 0.1844 - accuracy: 0.9349 - val_loss: 0.9226 - val_accuracy: 0.7790\n",
            "Epoch 6/20\n",
            "1407/1407 [==============================] - 22s 16ms/step - loss: 0.1854 - accuracy: 0.9340 - val_loss: 0.9247 - val_accuracy: 0.7812\n",
            "Epoch 7/20\n",
            "1407/1407 [==============================] - 22s 16ms/step - loss: 0.1802 - accuracy: 0.9355 - val_loss: 1.0171 - val_accuracy: 0.7734\n",
            "Epoch 8/20\n",
            "1407/1407 [==============================] - 22s 16ms/step - loss: 0.1739 - accuracy: 0.9380 - val_loss: 0.9904 - val_accuracy: 0.7586\n",
            "Epoch 9/20\n",
            "1407/1407 [==============================] - 22s 16ms/step - loss: 0.1690 - accuracy: 0.9412 - val_loss: 1.1689 - val_accuracy: 0.7408\n",
            "Epoch 10/20\n",
            "1407/1407 [==============================] - 22s 16ms/step - loss: 0.1643 - accuracy: 0.9418 - val_loss: 0.9380 - val_accuracy: 0.7772\n",
            "Epoch 11/20\n",
            "1407/1407 [==============================] - 22s 16ms/step - loss: 0.1594 - accuracy: 0.9438 - val_loss: 0.9514 - val_accuracy: 0.7712\n",
            "Epoch 12/20\n",
            "1407/1407 [==============================] - 22s 16ms/step - loss: 0.1597 - accuracy: 0.9429 - val_loss: 1.0932 - val_accuracy: 0.7544\n",
            "Epoch 13/20\n",
            "1407/1407 [==============================] - 23s 16ms/step - loss: 0.1554 - accuracy: 0.9454 - val_loss: 1.0505 - val_accuracy: 0.7680\n",
            "Epoch 14/20\n",
            "1407/1407 [==============================] - 22s 16ms/step - loss: 0.1485 - accuracy: 0.9474 - val_loss: 0.9893 - val_accuracy: 0.7702\n",
            "Epoch 15/20\n",
            "1407/1407 [==============================] - 22s 16ms/step - loss: 0.1513 - accuracy: 0.9474 - val_loss: 0.9861 - val_accuracy: 0.7712\n",
            "Epoch 16/20\n",
            "1407/1407 [==============================] - 23s 17ms/step - loss: 0.1457 - accuracy: 0.9492 - val_loss: 0.9742 - val_accuracy: 0.7762\n",
            "Epoch 17/20\n",
            "1407/1407 [==============================] - 23s 16ms/step - loss: 0.1460 - accuracy: 0.9490 - val_loss: 1.0271 - val_accuracy: 0.7690\n",
            "Epoch 18/20\n",
            "1407/1407 [==============================] - 23s 16ms/step - loss: 0.1406 - accuracy: 0.9505 - val_loss: 1.0554 - val_accuracy: 0.7702\n",
            "Epoch 19/20\n",
            "1407/1407 [==============================] - 22s 16ms/step - loss: 0.1371 - accuracy: 0.9519 - val_loss: 1.0765 - val_accuracy: 0.7750\n",
            "Epoch 20/20\n",
            "1407/1407 [==============================] - 24s 17ms/step - loss: 0.1317 - accuracy: 0.9535 - val_loss: 1.0500 - val_accuracy: 0.7756\n"
          ]
        }
      ]
    },
    {
      "cell_type": "code",
      "source": [
        "## plot loss and accuracy to check if the model is converged.\n",
        "val_accuracy = hist.history['val_accuracy']\n",
        "train_accuracy = hist.history['accuracy']\n",
        "\n",
        "# x축을 epochs\n",
        "from matplotlib import pyplot as plt\n",
        "plt.figure()\n",
        "plt.plot(np.arange(epochs),val_accuracy,label=\"val_accuracy\")\n",
        "plt.plot(np.arange(epochs),train_accuracy,label=\"train_accuracy\")\n",
        "plt.legend()\n",
        "plt.show()"
      ],
      "metadata": {
        "colab": {
          "base_uri": "https://localhost:8080/",
          "height": 265
        },
        "id": "XJkLN3ApYiPO",
        "outputId": "7d15fef3-2b57-4082-c571-ddd75e0648ed"
      },
      "execution_count": 34,
      "outputs": [
        {
          "output_type": "display_data",
          "data": {
            "text/plain": [
              "<Figure size 432x288 with 1 Axes>"
            ],
            "image/png": "[encoded data removed]"
          },
          "metadata": {
            "needs_background": "light"
          }
        }
      ]
    },
    {
      "cell_type": "code",
      "metadata": {
        "id": "AKDGQd3k7gbp",
        "colab": {
          "base_uri": "https://localhost:8080/"
        },
        "outputId": "d1173386-52c7-4c5c-a2aa-9ee1a0924fa2"
      },
      "source": [
        "## evaluate on the test set.\n",
        "## you should get acc higher than 0.75\n",
        "model.evaluate(X_test, y_test, verbose=1)"
      ],
      "execution_count": 35,
      "outputs": [
        {
          "output_type": "stream",
          "name": "stdout",
          "text": [
            "313/313 [==============================] - 3s 8ms/step - loss: 1.0412 - accuracy: 0.7653\n"
          ]
        },
        {
          "output_type": "execute_result",
          "data": {
            "text/plain": [
              "[1.0412043333053589, 0.7652999758720398]"
            ]
          },
          "metadata": {},
          "execution_count": 35
        }
      ]
    },
    {
      "cell_type": "code",
      "source": [
        "## Submission for Kaggle\n",
        "import pandas as pd\n",
        "\n",
        "# predict results\n",
        "results = model.predict(X_test)\n",
        "\n",
        "# select the indix with the maximum probability\n",
        "results = np.argmax(results,axis = 1)\n",
        "\n",
        "results = pd.Series(results,name=\"Category\")\n",
        "\n",
        "\n",
        "submission = pd.concat([pd.Series(range(1,10001),name = \"Id\"),results],axis = 1)\n",
        "\n",
        "submission.to_csv(\"Cifar10_classification.csv\",index=False)"
      ],
      "metadata": {
        "id": "0Et7v9Av-Y7s"
      },
      "execution_count": 36,
      "outputs": []
    },
    {
      "cell_type": "code",
      "source": [
        ""
      ],
      "metadata": {
        "id": "MDaS6EPYbUOD"
      },
      "execution_count": null,
      "outputs": []
    }
  ]
}