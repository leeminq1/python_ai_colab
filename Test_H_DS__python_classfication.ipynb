{
  "nbformat": 4,
  "nbformat_minor": 0,
  "metadata": {
    "colab": {
      "name": "HDAT_DS_전동화선행개발3팀_이민규연구원_python (1).ipynb",
      "provenance": [],
      "collapsed_sections": []
    },
    "kernelspec": {
      "name": "python3",
      "display_name": "Python 3"
    },
    "language_info": {
      "name": "python"
    },
    "gpuClass": "standard",
    "accelerator": "GPU"
  },
  "cells": [
    {
      "cell_type": "code",
      "source": [
        "from google.colab import drive\n",
        "drive.mount('/gdrive', force_remount=True)"
      ],
      "metadata": {
        "colab": {
          "base_uri": "https://localhost:8080/"
        },
        "id": "h9pDo8hVOJQ4",
        "outputId": "71313d4a-34c4-495b-e7b3-ada63797a059"
      },
      "execution_count": 1,
      "outputs": [
        {
          "output_type": "stream",
          "name": "stdout",
          "text": [
            "Mounted at /gdrive\n"
          ]
        }
      ]
    },
    {
      "cell_type": "code",
      "execution_count": 8,
      "metadata": {
        "id": "8cULItqUG8xv"
      },
      "outputs": [],
      "source": [
        "import pandas as pd\n",
        "import numpy as np\n",
        "import matplotlib.pyplot as plt\n",
        "import matplotlib as mpl\n",
        "import seaborn as sns\n",
        "\n",
        "# Classification\n",
        "from sklearn.linear_model import LogisticRegression\n",
        "from sklearn.neighbors import KNeighborsClassifier\n",
        "from sklearn.svm import LinearSVC, SVC\n",
        "from sklearn.tree import DecisionTreeClassifier\n",
        "from sklearn.naive_bayes import GaussianNB\n",
        "from sklearn.ensemble import RandomForestClassifier, GradientBoostingClassifier\n",
        "\n",
        "# Model selection\n",
        "from sklearn.model_selection import train_test_split,cross_validate\n",
        "from sklearn.model_selection import KFold\n",
        "from sklearn.model_selection import GridSearchCV"
      ]
    },
    {
      "cell_type": "code",
      "source": [
        "\n",
        "from sklearn.metrics import accuracy_score, precision_score, recall_score, roc_auc_score\n",
        "from sklearn.metrics import f1_score, confusion_matrix, precision_recall_curve, roc_curve\n",
        "\n",
        "# metric function\n",
        "def get_clf_eval(y_test, y_pred):\n",
        "#     confusion = confusion_matrix(y_test, y_pred)\n",
        "    accuracy = accuracy_score(y_test, y_pred)\n",
        "    precision = precision_score(y_test, y_pred,average='micro')\n",
        "    recall = recall_score(y_test, y_pred,average='micro')\n",
        "    F1 = f1_score(y_test, y_pred,average='micro')\n",
        "    \n",
        "#     print('오차행렬:\\n', confusion)\n",
        "    print('\\n정확도: {:.4f}'.format(accuracy))\n",
        "    print('정밀도: {:.4f}'.format(precision))\n",
        "    print('재현율: {:.4f}'.format(recall))\n",
        "    print('F1: {:.4f}'.format(F1))"
      ],
      "metadata": {
        "id": "_Pc7CYpJScXr"
      },
      "execution_count": null,
      "outputs": []
    },
    {
      "cell_type": "code",
      "source": [
        "## 데이터 로드\n",
        "train = pd.read_csv('../gdrive/MyDrive/train.csv')\n",
        "test = pd.read_csv('../gdrive/MyDrive/test.csv')\n",
        "submission = pd.read_csv('../gdrive/MyDrive/sample_submission.csv')\n",
        "\n",
        "print(train.shape)\n",
        "print(test.shape)\n",
        "print(submission.shape)"
      ],
      "metadata": {
        "colab": {
          "base_uri": "https://localhost:8080/"
        },
        "id": "4oiXcrsXN73s",
        "outputId": "4715c9b5-f7e3-40e0-f5a4-ca1d70aac1bf"
      },
      "execution_count": 4,
      "outputs": [
        {
          "output_type": "stream",
          "name": "stdout",
          "text": [
            "(119888, 43)\n",
            "(452746, 42)\n",
            "(452746, 2)\n"
          ]
        }
      ]
    },
    {
      "cell_type": "code",
      "source": [
        "train.isnull().sum()"
      ],
      "metadata": {
        "colab": {
          "base_uri": "https://localhost:8080/"
        },
        "id": "uJjnlKVabfnw",
        "outputId": "121ce2d2-7ea6-42e9-a472-9ae134bae566"
      },
      "execution_count": null,
      "outputs": [
        {
          "output_type": "execute_result",
          "data": {
            "text/plain": [
              "id            0\n",
              "S_Angle       0\n",
              "B_PRES        0\n",
              "B_FLAG        0\n",
              "LAT_ACCEL     0\n",
              "LONG_ACCEL    0\n",
              "YAW_RATE      0\n",
              "E_Status      0\n",
              "B_Depth       0\n",
              "A_Depth       0\n",
              "E_Speed       0\n",
              "V_Speed       0\n",
              "G_Status      0\n",
              "WHL_SPD_FL    0\n",
              "WHL_SPD_FR    0\n",
              "WHL_SPD_RL    0\n",
              "WHL_SPD_RR    0\n",
              "BA_SoC        0\n",
              "HL_High       0\n",
              "HL_Low        0\n",
              "DriveMode     0\n",
              "F_Economy     0\n",
              "HevMode       0\n",
              "E_Col_Temp    0\n",
              "Inhibit_D     0\n",
              "Inhibit_N     0\n",
              "Inhibit_P     0\n",
              "Inhibit_R     0\n",
              "Var_1         0\n",
              "CT            0\n",
              "MS            0\n",
              "MC            0\n",
              "X             0\n",
              "Y             0\n",
              "Z             0\n",
              "BVP           0\n",
              "EDA           0\n",
              "HR            0\n",
              "TEMP          0\n",
              "Var_2         0\n",
              "Var_3         0\n",
              "Var_4         0\n",
              "GPSMode       0\n",
              "dtype: int64"
            ]
          },
          "metadata": {},
          "execution_count": 39
        }
      ]
    },
    {
      "cell_type": "code",
      "source": [
        "test.isnull().sum()"
      ],
      "metadata": {
        "colab": {
          "base_uri": "https://localhost:8080/"
        },
        "id": "wQg7tKk9buri",
        "outputId": "31fab83a-cd8b-4e2f-ff17-d3742ab82fa3"
      },
      "execution_count": null,
      "outputs": [
        {
          "output_type": "execute_result",
          "data": {
            "text/plain": [
              "id            0\n",
              "S_Angle       0\n",
              "B_PRES        0\n",
              "B_FLAG        0\n",
              "LAT_ACCEL     0\n",
              "LONG_ACCEL    0\n",
              "YAW_RATE      0\n",
              "E_Status      0\n",
              "B_Depth       0\n",
              "A_Depth       0\n",
              "E_Speed       0\n",
              "V_Speed       0\n",
              "G_Status      0\n",
              "WHL_SPD_FL    0\n",
              "WHL_SPD_FR    0\n",
              "WHL_SPD_RL    0\n",
              "WHL_SPD_RR    0\n",
              "BA_SoC        0\n",
              "HL_High       0\n",
              "HL_Low        0\n",
              "DriveMode     0\n",
              "F_Economy     0\n",
              "HevMode       0\n",
              "E_Col_Temp    0\n",
              "Inhibit_D     0\n",
              "Inhibit_N     0\n",
              "Inhibit_P     0\n",
              "Inhibit_R     0\n",
              "Var_1         0\n",
              "CT            0\n",
              "MS            0\n",
              "MC            0\n",
              "X             0\n",
              "Y             0\n",
              "Z             0\n",
              "BVP           0\n",
              "EDA           0\n",
              "HR            0\n",
              "TEMP          0\n",
              "Var_2         0\n",
              "Var_3         0\n",
              "Var_4         0\n",
              "dtype: int64"
            ]
          },
          "metadata": {},
          "execution_count": 6
        }
      ]
    },
    {
      "cell_type": "markdown",
      "source": [
        "### 데이터 분석"
      ],
      "metadata": {
        "id": "9Uvjy-5rZx9J"
      }
    },
    {
      "cell_type": "code",
      "source": [
        "\n",
        "## 데이터 set 만들기\n",
        "X = train.drop(columns=['GPSMode'])\n",
        "y = train['GPSMode']"
      ],
      "metadata": {
        "id": "aLli2EOyZvbb"
      },
      "execution_count": null,
      "outputs": []
    },
    {
      "cell_type": "code",
      "source": [
        "X.columns"
      ],
      "metadata": {
        "colab": {
          "base_uri": "https://localhost:8080/"
        },
        "id": "GU-31nvZdnF5",
        "outputId": "93d0e423-7994-45cc-bd04-fd14f25dc78d"
      },
      "execution_count": null,
      "outputs": [
        {
          "output_type": "execute_result",
          "data": {
            "text/plain": [
              "Index(['id', 'S_Angle', 'B_PRES', 'B_FLAG', 'LAT_ACCEL', 'LONG_ACCEL',\n",
              "       'YAW_RATE', 'E_Status', 'B_Depth', 'A_Depth', 'E_Speed', 'V_Speed',\n",
              "       'G_Status', 'WHL_SPD_FL', 'WHL_SPD_FR', 'WHL_SPD_RL', 'WHL_SPD_RR',\n",
              "       'BA_SoC', 'HL_High', 'HL_Low', 'DriveMode', 'F_Economy', 'HevMode',\n",
              "       'E_Col_Temp', 'Inhibit_D', 'Inhibit_N', 'Inhibit_P', 'Inhibit_R',\n",
              "       'Var_1', 'CT', 'MS', 'MC', 'X', 'Y', 'Z', 'BVP', 'EDA', 'HR', 'TEMP',\n",
              "       'Var_2', 'Var_3', 'Var_4'],\n",
              "      dtype='object')"
            ]
          },
          "metadata": {},
          "execution_count": 5
        }
      ]
    },
    {
      "cell_type": "markdown",
      "source": [
        "### 데이터 EDA"
      ],
      "metadata": {
        "id": "VSVR9VCzoQq-"
      }
    },
    {
      "cell_type": "code",
      "source": [
        "train"
      ],
      "metadata": {
        "colab": {
          "base_uri": "https://localhost:8080/",
          "height": 488
        },
        "id": "eXMSaC3xPYuQ",
        "outputId": "c961670b-1f61-45c9-ff26-1f8914cbb495"
      },
      "execution_count": 5,
      "outputs": [
        {
          "output_type": "execute_result",
          "data": {
            "text/plain": [
              "            id     S_Angle  B_PRES  B_FLAG  LAT_ACCEL  LONG_ACCEL   YAW_RATE  \\\n",
              "0            1    8.500000     0.0       0   0.402857   -0.238571   1.280000   \n",
              "1            2 -106.980000     0.0       0  -2.171250    0.502500 -16.358750   \n",
              "2            3  -10.200000     0.0       0  -0.482857    0.606786  -4.181071   \n",
              "3            4   -1.800000     0.0       0  -0.006250   -0.065000  -0.698750   \n",
              "4            5    1.200000     0.0       0   0.200000    0.480000   0.120000   \n",
              "...        ...         ...     ...     ...        ...         ...        ...   \n",
              "119883  119884    0.836364     0.0       0   0.120000   -0.180000  -0.190000   \n",
              "119884  119885    1.912500    11.6       0  -0.128333    0.151667   0.026667   \n",
              "119885  119886    3.300000     0.0       0   0.018333    0.015000   1.236667   \n",
              "119886  119887    4.197500     4.2       0   0.240000    0.023750   0.073750   \n",
              "119887  119888    0.087500     9.2       0   0.160000    0.070000  -0.020000   \n",
              "\n",
              "        E_Status  B_Depth  A_Depth  ...          Y          Z      BVP  \\\n",
              "0              0        0        0  ...  18.666667 -13.666667 -158.055   \n",
              "1              0        0       18  ...   7.500000  -0.500000    3.560   \n",
              "2              0        0       30  ...  15.000000   3.000000   22.460   \n",
              "3              0        0        0  ... -16.666667  55.333333  -58.440   \n",
              "4              1        0       36  ...  -7.000000  48.666667  -46.380   \n",
              "...          ...      ...      ...  ...        ...        ...      ...   \n",
              "119883         0        0        0  ... -11.000000  37.000000   29.130   \n",
              "119884         0       30        0  ... -18.000000  57.000000   48.440   \n",
              "119885         1        0        0  ... -12.000000  38.666667   11.730   \n",
              "119886         0       16        0  ...  -5.750000  59.750000    1.940   \n",
              "119887         0       34        0  ...  -5.000000  52.000000   24.830   \n",
              "\n",
              "             EDA       HR    TEMP      Var_2       Var_3  Var_4  GPSMode  \n",
              "0       0.289273  83.5015  33.000  37.577511  126.887651      6        2  \n",
              "1       0.312594  87.1428  33.110  37.572471  126.888817      7        2  \n",
              "2       0.191277  60.1490  30.750  37.582494  126.937084      8        2  \n",
              "3       0.375430  53.3865  34.090  37.589210  126.913211      7        2  \n",
              "4       0.207473  65.1733  30.810  37.577684  126.930549      8        2  \n",
              "...          ...      ...     ...        ...         ...    ...      ...  \n",
              "119883  0.198863  83.5370  30.450  37.602392  126.967622      0        6  \n",
              "119884  0.331096  72.5345  33.500  37.573635  126.898411      7        2  \n",
              "119885  0.196300  82.3360  30.502  37.608104  126.978324      0        6  \n",
              "119886  0.244427  53.1476  32.810  37.565233  126.910056      8        2  \n",
              "119887  0.375430  61.4390  34.070  37.591742  126.913859      7        2  \n",
              "\n",
              "[119888 rows x 43 columns]"
            ],
            "text/html": [
              "\n",
              "  <div id=\"df-3a1e4cc3-c5a9-4357-81b8-edfb1f1e505a\">\n",
              "    <div class=\"colab-df-container\">\n",
              "      <div>\n",
              "<style scoped>\n",
              "    .dataframe tbody tr th:only-of-type {\n",
              "        vertical-align: middle;\n",
              "    }\n",
              "\n",
              "    .dataframe tbody tr th {\n",
              "        vertical-align: top;\n",
              "    }\n",
              "\n",
              "    .dataframe thead th {\n",
              "        text-align: right;\n",
              "    }\n",
              "</style>\n",
              "<table border=\"1\" class=\"dataframe\">\n",
              "  <thead>\n",
              "    <tr style=\"text-align: right;\">\n",
              "      <th></th>\n",
              "      <th>id</th>\n",
              "      <th>S_Angle</th>\n",
              "      <th>B_PRES</th>\n",
              "      <th>B_FLAG</th>\n",
              "      <th>LAT_ACCEL</th>\n",
              "      <th>LONG_ACCEL</th>\n",
              "      <th>YAW_RATE</th>\n",
              "      <th>E_Status</th>\n",
              "      <th>B_Depth</th>\n",
              "      <th>A_Depth</th>\n",
              "      <th>...</th>\n",
              "      <th>Y</th>\n",
              "      <th>Z</th>\n",
              "      <th>BVP</th>\n",
              "      <th>EDA</th>\n",
              "      <th>HR</th>\n",
              "      <th>TEMP</th>\n",
              "      <th>Var_2</th>\n",
              "      <th>Var_3</th>\n",
              "      <th>Var_4</th>\n",
              "      <th>GPSMode</th>\n",
              "    </tr>\n",
              "  </thead>\n",
              "  <tbody>\n",
              "    <tr>\n",
              "      <th>0</th>\n",
              "      <td>1</td>\n",
              "      <td>8.500000</td>\n",
              "      <td>0.0</td>\n",
              "      <td>0</td>\n",
              "      <td>0.402857</td>\n",
              "      <td>-0.238571</td>\n",
              "      <td>1.280000</td>\n",
              "      <td>0</td>\n",
              "      <td>0</td>\n",
              "      <td>0</td>\n",
              "      <td>...</td>\n",
              "      <td>18.666667</td>\n",
              "      <td>-13.666667</td>\n",
              "      <td>-158.055</td>\n",
              "      <td>0.289273</td>\n",
              "      <td>83.5015</td>\n",
              "      <td>33.000</td>\n",
              "      <td>37.577511</td>\n",
              "      <td>126.887651</td>\n",
              "      <td>6</td>\n",
              "      <td>2</td>\n",
              "    </tr>\n",
              "    <tr>\n",
              "      <th>1</th>\n",
              "      <td>2</td>\n",
              "      <td>-106.980000</td>\n",
              "      <td>0.0</td>\n",
              "      <td>0</td>\n",
              "      <td>-2.171250</td>\n",
              "      <td>0.502500</td>\n",
              "      <td>-16.358750</td>\n",
              "      <td>0</td>\n",
              "      <td>0</td>\n",
              "      <td>18</td>\n",
              "      <td>...</td>\n",
              "      <td>7.500000</td>\n",
              "      <td>-0.500000</td>\n",
              "      <td>3.560</td>\n",
              "      <td>0.312594</td>\n",
              "      <td>87.1428</td>\n",
              "      <td>33.110</td>\n",
              "      <td>37.572471</td>\n",
              "      <td>126.888817</td>\n",
              "      <td>7</td>\n",
              "      <td>2</td>\n",
              "    </tr>\n",
              "    <tr>\n",
              "      <th>2</th>\n",
              "      <td>3</td>\n",
              "      <td>-10.200000</td>\n",
              "      <td>0.0</td>\n",
              "      <td>0</td>\n",
              "      <td>-0.482857</td>\n",
              "      <td>0.606786</td>\n",
              "      <td>-4.181071</td>\n",
              "      <td>0</td>\n",
              "      <td>0</td>\n",
              "      <td>30</td>\n",
              "      <td>...</td>\n",
              "      <td>15.000000</td>\n",
              "      <td>3.000000</td>\n",
              "      <td>22.460</td>\n",
              "      <td>0.191277</td>\n",
              "      <td>60.1490</td>\n",
              "      <td>30.750</td>\n",
              "      <td>37.582494</td>\n",
              "      <td>126.937084</td>\n",
              "      <td>8</td>\n",
              "      <td>2</td>\n",
              "    </tr>\n",
              "    <tr>\n",
              "      <th>3</th>\n",
              "      <td>4</td>\n",
              "      <td>-1.800000</td>\n",
              "      <td>0.0</td>\n",
              "      <td>0</td>\n",
              "      <td>-0.006250</td>\n",
              "      <td>-0.065000</td>\n",
              "      <td>-0.698750</td>\n",
              "      <td>0</td>\n",
              "      <td>0</td>\n",
              "      <td>0</td>\n",
              "      <td>...</td>\n",
              "      <td>-16.666667</td>\n",
              "      <td>55.333333</td>\n",
              "      <td>-58.440</td>\n",
              "      <td>0.375430</td>\n",
              "      <td>53.3865</td>\n",
              "      <td>34.090</td>\n",
              "      <td>37.589210</td>\n",
              "      <td>126.913211</td>\n",
              "      <td>7</td>\n",
              "      <td>2</td>\n",
              "    </tr>\n",
              "    <tr>\n",
              "      <th>4</th>\n",
              "      <td>5</td>\n",
              "      <td>1.200000</td>\n",
              "      <td>0.0</td>\n",
              "      <td>0</td>\n",
              "      <td>0.200000</td>\n",
              "      <td>0.480000</td>\n",
              "      <td>0.120000</td>\n",
              "      <td>1</td>\n",
              "      <td>0</td>\n",
              "      <td>36</td>\n",
              "      <td>...</td>\n",
              "      <td>-7.000000</td>\n",
              "      <td>48.666667</td>\n",
              "      <td>-46.380</td>\n",
              "      <td>0.207473</td>\n",
              "      <td>65.1733</td>\n",
              "      <td>30.810</td>\n",
              "      <td>37.577684</td>\n",
              "      <td>126.930549</td>\n",
              "      <td>8</td>\n",
              "      <td>2</td>\n",
              "    </tr>\n",
              "    <tr>\n",
              "      <th>...</th>\n",
              "      <td>...</td>\n",
              "      <td>...</td>\n",
              "      <td>...</td>\n",
              "      <td>...</td>\n",
              "      <td>...</td>\n",
              "      <td>...</td>\n",
              "      <td>...</td>\n",
              "      <td>...</td>\n",
              "      <td>...</td>\n",
              "      <td>...</td>\n",
              "      <td>...</td>\n",
              "      <td>...</td>\n",
              "      <td>...</td>\n",
              "      <td>...</td>\n",
              "      <td>...</td>\n",
              "      <td>...</td>\n",
              "      <td>...</td>\n",
              "      <td>...</td>\n",
              "      <td>...</td>\n",
              "      <td>...</td>\n",
              "      <td>...</td>\n",
              "    </tr>\n",
              "    <tr>\n",
              "      <th>119883</th>\n",
              "      <td>119884</td>\n",
              "      <td>0.836364</td>\n",
              "      <td>0.0</td>\n",
              "      <td>0</td>\n",
              "      <td>0.120000</td>\n",
              "      <td>-0.180000</td>\n",
              "      <td>-0.190000</td>\n",
              "      <td>0</td>\n",
              "      <td>0</td>\n",
              "      <td>0</td>\n",
              "      <td>...</td>\n",
              "      <td>-11.000000</td>\n",
              "      <td>37.000000</td>\n",
              "      <td>29.130</td>\n",
              "      <td>0.198863</td>\n",
              "      <td>83.5370</td>\n",
              "      <td>30.450</td>\n",
              "      <td>37.602392</td>\n",
              "      <td>126.967622</td>\n",
              "      <td>0</td>\n",
              "      <td>6</td>\n",
              "    </tr>\n",
              "    <tr>\n",
              "      <th>119884</th>\n",
              "      <td>119885</td>\n",
              "      <td>1.912500</td>\n",
              "      <td>11.6</td>\n",
              "      <td>0</td>\n",
              "      <td>-0.128333</td>\n",
              "      <td>0.151667</td>\n",
              "      <td>0.026667</td>\n",
              "      <td>0</td>\n",
              "      <td>30</td>\n",
              "      <td>0</td>\n",
              "      <td>...</td>\n",
              "      <td>-18.000000</td>\n",
              "      <td>57.000000</td>\n",
              "      <td>48.440</td>\n",
              "      <td>0.331096</td>\n",
              "      <td>72.5345</td>\n",
              "      <td>33.500</td>\n",
              "      <td>37.573635</td>\n",
              "      <td>126.898411</td>\n",
              "      <td>7</td>\n",
              "      <td>2</td>\n",
              "    </tr>\n",
              "    <tr>\n",
              "      <th>119885</th>\n",
              "      <td>119886</td>\n",
              "      <td>3.300000</td>\n",
              "      <td>0.0</td>\n",
              "      <td>0</td>\n",
              "      <td>0.018333</td>\n",
              "      <td>0.015000</td>\n",
              "      <td>1.236667</td>\n",
              "      <td>1</td>\n",
              "      <td>0</td>\n",
              "      <td>0</td>\n",
              "      <td>...</td>\n",
              "      <td>-12.000000</td>\n",
              "      <td>38.666667</td>\n",
              "      <td>11.730</td>\n",
              "      <td>0.196300</td>\n",
              "      <td>82.3360</td>\n",
              "      <td>30.502</td>\n",
              "      <td>37.608104</td>\n",
              "      <td>126.978324</td>\n",
              "      <td>0</td>\n",
              "      <td>6</td>\n",
              "    </tr>\n",
              "    <tr>\n",
              "      <th>119886</th>\n",
              "      <td>119887</td>\n",
              "      <td>4.197500</td>\n",
              "      <td>4.2</td>\n",
              "      <td>0</td>\n",
              "      <td>0.240000</td>\n",
              "      <td>0.023750</td>\n",
              "      <td>0.073750</td>\n",
              "      <td>0</td>\n",
              "      <td>16</td>\n",
              "      <td>0</td>\n",
              "      <td>...</td>\n",
              "      <td>-5.750000</td>\n",
              "      <td>59.750000</td>\n",
              "      <td>1.940</td>\n",
              "      <td>0.244427</td>\n",
              "      <td>53.1476</td>\n",
              "      <td>32.810</td>\n",
              "      <td>37.565233</td>\n",
              "      <td>126.910056</td>\n",
              "      <td>8</td>\n",
              "      <td>2</td>\n",
              "    </tr>\n",
              "    <tr>\n",
              "      <th>119887</th>\n",
              "      <td>119888</td>\n",
              "      <td>0.087500</td>\n",
              "      <td>9.2</td>\n",
              "      <td>0</td>\n",
              "      <td>0.160000</td>\n",
              "      <td>0.070000</td>\n",
              "      <td>-0.020000</td>\n",
              "      <td>0</td>\n",
              "      <td>34</td>\n",
              "      <td>0</td>\n",
              "      <td>...</td>\n",
              "      <td>-5.000000</td>\n",
              "      <td>52.000000</td>\n",
              "      <td>24.830</td>\n",
              "      <td>0.375430</td>\n",
              "      <td>61.4390</td>\n",
              "      <td>34.070</td>\n",
              "      <td>37.591742</td>\n",
              "      <td>126.913859</td>\n",
              "      <td>7</td>\n",
              "      <td>2</td>\n",
              "    </tr>\n",
              "  </tbody>\n",
              "</table>\n",
              "<p>119888 rows × 43 columns</p>\n",
              "</div>\n",
              "      <button class=\"colab-df-convert\" onclick=\"convertToInteractive('df-3a1e4cc3-c5a9-4357-81b8-edfb1f1e505a')\"\n",
              "              title=\"Convert this dataframe to an interactive table.\"\n",
              "              style=\"display:none;\">\n",
              "        \n",
              "  <svg xmlns=\"http://www.w3.org/2000/svg\" height=\"24px\"viewBox=\"0 0 24 24\"\n",
              "       width=\"24px\">\n",
              "    <path d=\"M0 0h24v24H0V0z\" fill=\"none\"/>\n",
              "    <path d=\"M18.56 5.44l.94 2.06.94-2.06 2.06-.94-2.06-.94-.94-2.06-.94 2.06-2.06.94zm-11 1L8.5 8.5l.94-2.06 2.06-.94-2.06-.94L8.5 2.5l-.94 2.06-2.06.94zm10 10l.94 2.06.94-2.06 2.06-.94-2.06-.94-.94-2.06-.94 2.06-2.06.94z\"/><path d=\"M17.41 7.96l-1.37-1.37c-.4-.4-.92-.59-1.43-.59-.52 0-1.04.2-1.43.59L10.3 9.45l-7.72 7.72c-.78.78-.78 2.05 0 2.83L4 21.41c.39.39.9.59 1.41.59.51 0 1.02-.2 1.41-.59l7.78-7.78 2.81-2.81c.8-.78.8-2.07 0-2.86zM5.41 20L4 18.59l7.72-7.72 1.47 1.35L5.41 20z\"/>\n",
              "  </svg>\n",
              "      </button>\n",
              "      \n",
              "  <style>\n",
              "    .colab-df-container {\n",
              "      display:flex;\n",
              "      flex-wrap:wrap;\n",
              "      gap: 12px;\n",
              "    }\n",
              "\n",
              "    .colab-df-convert {\n",
              "      background-color: #E8F0FE;\n",
              "      border: none;\n",
              "      border-radius: 50%;\n",
              "      cursor: pointer;\n",
              "      display: none;\n",
              "      fill: #1967D2;\n",
              "      height: 32px;\n",
              "      padding: 0 0 0 0;\n",
              "      width: 32px;\n",
              "    }\n",
              "\n",
              "    .colab-df-convert:hover {\n",
              "      background-color: #E2EBFA;\n",
              "      box-shadow: 0px 1px 2px rgba(60, 64, 67, 0.3), 0px 1px 3px 1px rgba(60, 64, 67, 0.15);\n",
              "      fill: #174EA6;\n",
              "    }\n",
              "\n",
              "    [theme=dark] .colab-df-convert {\n",
              "      background-color: #3B4455;\n",
              "      fill: #D2E3FC;\n",
              "    }\n",
              "\n",
              "    [theme=dark] .colab-df-convert:hover {\n",
              "      background-color: #434B5C;\n",
              "      box-shadow: 0px 1px 3px 1px rgba(0, 0, 0, 0.15);\n",
              "      filter: drop-shadow(0px 1px 2px rgba(0, 0, 0, 0.3));\n",
              "      fill: #FFFFFF;\n",
              "    }\n",
              "  </style>\n",
              "\n",
              "      <script>\n",
              "        const buttonEl =\n",
              "          document.querySelector('#df-3a1e4cc3-c5a9-4357-81b8-edfb1f1e505a button.colab-df-convert');\n",
              "        buttonEl.style.display =\n",
              "          google.colab.kernel.accessAllowed ? 'block' : 'none';\n",
              "\n",
              "        async function convertToInteractive(key) {\n",
              "          const element = document.querySelector('#df-3a1e4cc3-c5a9-4357-81b8-edfb1f1e505a');\n",
              "          const dataTable =\n",
              "            await google.colab.kernel.invokeFunction('convertToInteractive',\n",
              "                                                     [key], {});\n",
              "          if (!dataTable) return;\n",
              "\n",
              "          const docLinkHtml = 'Like what you see? Visit the ' +\n",
              "            '<a target=\"_blank\" href=https://colab.research.google.com/notebooks/data_table.ipynb>data table notebook</a>'\n",
              "            + ' to learn more about interactive tables.';\n",
              "          element.innerHTML = '';\n",
              "          dataTable['output_type'] = 'display_data';\n",
              "          await google.colab.output.renderOutput(dataTable, element);\n",
              "          const docLink = document.createElement('div');\n",
              "          docLink.innerHTML = docLinkHtml;\n",
              "          element.appendChild(docLink);\n",
              "        }\n",
              "      </script>\n",
              "    </div>\n",
              "  </div>\n",
              "  "
            ]
          },
          "metadata": {},
          "execution_count": 5
        }
      ]
    },
    {
      "cell_type": "code",
      "source": [
        "train['Var_2'].plot()"
      ],
      "metadata": {
        "colab": {
          "base_uri": "https://localhost:8080/",
          "height": 286
        },
        "id": "AnOvNeSpQven",
        "outputId": "f916d0c0-f04c-40f0-a152-672e681dd27b"
      },
      "execution_count": 23,
      "outputs": [
        {
          "output_type": "execute_result",
          "data": {
            "text/plain": [
              "<matplotlib.axes._subplots.AxesSubplot at 0x7f1d25b15610>"
            ]
          },
          "metadata": {},
          "execution_count": 23
        },
        {
          "output_type": "display_data",
          "data": {
            "text/plain": [
              "<Figure size 432x288 with 1 Axes>"
            ],
            "image/png": "[encoded data removed]"
          },
          "metadata": {
            "needs_background": "light"
          }
        }
      ]
    },
    {
      "cell_type": "code",
      "source": [
        "# # 1) 차속\n",
        "# # 2) 기어봉위치\n",
        "# # 3) 드라이브 모드\n",
        "# # 4) 하이브리드 모드\n",
        "\n",
        "## seaborn의 histplot, jointplot, pairplot을 이용해 히스토그램 그리기\n",
        "nrows=3\n",
        "ncols=2\n",
        "mpl.rc('font',size=13)\n",
        "fig , axes = plt.subplots(nrows,ncols)\n",
        "plt.tight_layout()\n",
        "fig.set_size_inches(11,15)\n",
        "plt.subplots_adjust(wspace=0.2, hspace=0.2)\n",
        "\n",
        "axes[0,0]=sns.boxplot(x='GPSMode',y='DriveMode' ,data=train,ax=axes[0,0])\n",
        "axes[0,0].set(\n",
        "    title='DriveMode'\n",
        ")\n",
        "\n",
        "axes[0,1]=sns.boxplot(x='Var_1',data=train,ax=axes[0,1])\n",
        "axes[0,1].set(\n",
        "    title='Var_1'\n",
        ")\n",
        "\n",
        "axes[1,0]=sns.histplot(x='Var_2',data=train,ax=axes[1,0],hue='GPSMode')\n",
        "axes[1,0].set(\n",
        "    title='Var_2'\n",
        ")\n",
        "\n",
        "axes[1,1]=sns.boxplot(y='Var_2',data=train,ax=axes[1,1])\n",
        "axes[1,1].set(\n",
        "    title='Var_2'\n",
        ")\n",
        "\n",
        "axes[2,0]=sns.boxplot(y='Var_3',data=train,ax=axes[2,0])\n",
        "axes[2,0].set(\n",
        "    title='Var_3'\n",
        ")\n",
        "\n",
        "axes[2,1]=sns.boxplot(y='Var_4',data=train,ax=axes[2,1])\n",
        "axes[2,1].set(\n",
        "    title='Var_4'\n",
        ")"
      ],
      "metadata": {
        "colab": {
          "base_uri": "https://localhost:8080/",
          "height": 951
        },
        "id": "qFdM4WDyoTbB",
        "outputId": "a32662d2-59e9-4189-d978-6e441c3190cc"
      },
      "execution_count": 43,
      "outputs": [
        {
          "output_type": "execute_result",
          "data": {
            "text/plain": [
              "[Text(0.5, 1.0, 'Var_4')]"
            ]
          },
          "metadata": {},
          "execution_count": 43
        },
        {
          "output_type": "display_data",
          "data": {
            "text/plain": [
              "<Figure size 792x1080 with 6 Axes>"
            ],
            "image/png": "[encoded data removed]"
          },
          "metadata": {
            "needs_background": "light"
          }
        }
      ]
    },
    {
      "cell_type": "code",
      "source": [
        "import numpy as np\n",
        "\n",
        "def get_outlier(df=None, column=None, weight=1.5):\n",
        "  # target 값과 상관관계가 높은 열을 우선적으로 진행\n",
        "  quantile_25 = np.percentile(df[column].values, 25)\n",
        "  quantile_75 = np.percentile(df[column].values, 75)\n",
        "\n",
        "  IQR = quantile_75 - quantile_25\n",
        "  IQR_weight = IQR*weight\n",
        "  \n",
        "  lowest = quantile_25 - IQR_weight\n",
        "  highest = quantile_75 + IQR_weight\n",
        "  \n",
        "  outlier_idx = df[column][ (df[column] < lowest) | (df[column] > highest) ].index\n",
        "  \n",
        "  return outlier_idx ,lowest ,highest\n",
        "\n",
        "# 함수 사용해서 이상치 값 삭제\n",
        "# oulier_idx = get_outlier(df=df, column='A', weight=1.5)\n",
        "# df.drop(outlier_idx, axis=0, inplace=True)"
      ],
      "metadata": {
        "id": "7fP7bPRooTYm"
      },
      "execution_count": 32,
      "outputs": []
    },
    {
      "cell_type": "code",
      "source": [
        "## var_1\n",
        "outlier_idx,lowest,highest = get_outlier(df=train, column='Var_1', weight=1.5)\n",
        "print(lowest)\n",
        "print(highest)"
      ],
      "metadata": {
        "id": "3b5y-l4BoTU2",
        "colab": {
          "base_uri": "https://localhost:8080/"
        },
        "outputId": "9f8aed3a-8dfb-4d9e-e573-e91d142d872c"
      },
      "execution_count": 33,
      "outputs": [
        {
          "output_type": "stream",
          "name": "stdout",
          "text": [
            "17391.550000000003\n",
            "17431.949999999997\n"
          ]
        }
      ]
    },
    {
      "cell_type": "code",
      "source": [
        "train.loc[train['Var_1']>17431.949999999997,'Var_1']=17431.949999999997"
      ],
      "metadata": {
        "id": "KmqsRP8kSTR-"
      },
      "execution_count": 42,
      "outputs": []
    },
    {
      "cell_type": "markdown",
      "source": [
        "## 데이터 분리"
      ],
      "metadata": {
        "id": "2FdO63cRf-5w"
      }
    },
    {
      "cell_type": "code",
      "source": [
        "X_train , X_test , y_train ,y_test = train_test_split(X,y, test_size=0.2)\n",
        "\n",
        "print(\"X_train\",X_train.shape)\n",
        "print(\"X_test\",X_test.shape)\n",
        "print(\"y_train\",y_train.shape)\n",
        "print(\"y_test\",y_test.shape)"
      ],
      "metadata": {
        "colab": {
          "base_uri": "https://localhost:8080/"
        },
        "id": "J4WWnURlgBGw",
        "outputId": "a17cf99a-e931-4b37-d627-bb8aed952370"
      },
      "execution_count": null,
      "outputs": [
        {
          "output_type": "stream",
          "name": "stdout",
          "text": [
            "X_train (95910, 42)\n",
            "X_test (23978, 42)\n",
            "y_train (95910,)\n",
            "y_test (23978,)\n"
          ]
        }
      ]
    },
    {
      "cell_type": "markdown",
      "source": [
        "### 상관관계 분석"
      ],
      "metadata": {
        "id": "b4X4gNPBaZ-j"
      }
    },
    {
      "cell_type": "markdown",
      "source": [
        "### 이상치 확인"
      ],
      "metadata": {
        "id": "4vOEUlfMac25"
      }
    },
    {
      "cell_type": "markdown",
      "source": [
        "##scaling 적용  && one-hot encoding"
      ],
      "metadata": {
        "id": "zIwenawiafH5"
      }
    },
    {
      "cell_type": "code",
      "source": [
        "# X_temp=X.drop(columns=['B_FLAG', 'E_Status','G_Status','HL_High','HL_Low','Inhibit_P','Inhibit_R','Inhibit_N','Inhibit_D','DriveMode','HevMode'], axis=1)\n",
        "# X_temp.columns"
      ],
      "metadata": {
        "colab": {
          "base_uri": "https://localhost:8080/"
        },
        "id": "mtAuhjfEd45h",
        "outputId": "84776d79-afbe-4d42-9d22-f21646c24562"
      },
      "execution_count": null,
      "outputs": [
        {
          "output_type": "execute_result",
          "data": {
            "text/plain": [
              "Index(['id', 'S_Angle', 'B_PRES', 'LAT_ACCEL', 'LONG_ACCEL', 'YAW_RATE',\n",
              "       'B_Depth', 'A_Depth', 'E_Speed', 'V_Speed', 'WHL_SPD_FL', 'WHL_SPD_FR',\n",
              "       'WHL_SPD_RL', 'WHL_SPD_RR', 'BA_SoC', 'F_Economy', 'E_Col_Temp',\n",
              "       'Var_1', 'CT', 'MS', 'MC', 'X', 'Y', 'Z', 'BVP', 'EDA', 'HR', 'TEMP',\n",
              "       'Var_2', 'Var_3', 'Var_4'],\n",
              "      dtype='object')"
            ]
          },
          "metadata": {},
          "execution_count": 19
        }
      ]
    },
    {
      "cell_type": "code",
      "source": [
        "# X_train.columns"
      ],
      "metadata": {
        "colab": {
          "base_uri": "https://localhost:8080/"
        },
        "id": "iv6aCqsIjQjY",
        "outputId": "90c824f7-15d0-4a37-8fae-de55388330e4"
      },
      "execution_count": null,
      "outputs": [
        {
          "output_type": "execute_result",
          "data": {
            "text/plain": [
              "Index(['id', 'S_Angle', 'B_PRES', 'B_FLAG', 'LAT_ACCEL', 'LONG_ACCEL',\n",
              "       'YAW_RATE', 'E_Status', 'B_Depth', 'A_Depth', 'E_Speed', 'V_Speed',\n",
              "       'G_Status', 'WHL_SPD_FL', 'WHL_SPD_FR', 'WHL_SPD_RL', 'WHL_SPD_RR',\n",
              "       'BA_SoC', 'HL_High', 'HL_Low', 'DriveMode', 'F_Economy', 'HevMode',\n",
              "       'E_Col_Temp', 'Inhibit_D', 'Inhibit_N', 'Inhibit_P', 'Inhibit_R',\n",
              "       'Var_1', 'CT', 'MS', 'MC', 'X', 'Y', 'Z', 'BVP', 'EDA', 'HR', 'TEMP',\n",
              "       'Var_2', 'Var_3', 'Var_4'],\n",
              "      dtype='object')"
            ]
          },
          "metadata": {},
          "execution_count": 7
        }
      ]
    },
    {
      "cell_type": "code",
      "source": [
        "## 이산형과 연속형 변수로 분류함\n",
        "X_cat=[ 'B_FLAG', 'E_Status','G_Status','HL_High','HL_Low','Inhibit_P','Inhibit_R','Inhibit_N','Inhibit_D','DriveMode','HevMode']\n",
        "X_num =['S_Angle', 'B_PRES', 'LAT_ACCEL', 'LONG_ACCEL', 'YAW_RATE',\n",
        "       'B_Depth', 'A_Depth', 'E_Speed', 'V_Speed', 'WHL_SPD_FL', 'WHL_SPD_FR',\n",
        "       'WHL_SPD_RL', 'WHL_SPD_RR', 'BA_SoC', 'F_Economy', 'E_Col_Temp',\n",
        "       'Var_1', 'CT', 'MS', 'MC', 'X', 'Y', 'Z', 'BVP', 'EDA', 'HR', 'TEMP',\n",
        "       'Var_2', 'Var_3', 'Var_4']\n",
        "\n",
        "print(\"이산형\",len(X_cat))\n",
        "print(\"연속형\",len(X_num))"
      ],
      "metadata": {
        "colab": {
          "base_uri": "https://localhost:8080/"
        },
        "id": "6f50ZtRWZvZV",
        "outputId": "e44220c0-b75a-4f0d-9e68-2214e7312b9c"
      },
      "execution_count": null,
      "outputs": [
        {
          "output_type": "stream",
          "name": "stdout",
          "text": [
            "이산형 11\n",
            "연속형 30\n"
          ]
        }
      ]
    },
    {
      "cell_type": "code",
      "source": [
        "### scaling of X_train and X_test by X_train_scaler\n",
        "def feature_engineering_scaling(scaler, X_train, X_test):\n",
        "    # preprocessing.MinMaxScaler()\n",
        "    # preprocessing.StandardScaler()\n",
        "    # preprocessing.RobustScaler()\n",
        "    # preprocessing.Normalizer()\n",
        "    scaler = scaler\n",
        "    scaler_fit = scaler.fit(X_train)\n",
        "    X_train_scaling = pd.DataFrame(scaler_fit.transform(X_train), \n",
        "                               index=X_train.index, columns=X_train.columns)\n",
        "    X_test_scaling = pd.DataFrame(scaler_fit.transform(X_test), \n",
        "                               index=X_test.index, columns=X_test.columns)\n",
        "    return X_train_scaling, X_test_scaling"
      ],
      "metadata": {
        "id": "GHRBesfafj-x"
      },
      "execution_count": null,
      "outputs": []
    },
    {
      "cell_type": "code",
      "source": [
        "## 연속현 변수는 scaling 적용함.\n",
        "from sklearn import preprocessing\n",
        "from sklearn.preprocessing import MinMaxScaler, OneHotEncoder\n",
        "\n",
        "### Scaling ###\n",
        "X_train_scaled_num, X_test_scaled_num = feature_engineering_scaling(preprocessing.MinMaxScaler(), X_train[X_num], X_test[X_num])\n",
        "\n",
        "print(\"scaled, X_train\",X_train_scaled_num.shape)\n",
        "print(\"sacled, X_test\",X_test_scaled_num.shape)"
      ],
      "metadata": {
        "colab": {
          "base_uri": "https://localhost:8080/"
        },
        "id": "QcfjWLHsei_-",
        "outputId": "db1447a0-c49f-4b24-cc27-6f47aace6422"
      },
      "execution_count": null,
      "outputs": [
        {
          "output_type": "stream",
          "name": "stdout",
          "text": [
            "scaled, X_train (95910, 30)\n",
            "sacled, X_test (23978, 30)\n"
          ]
        }
      ]
    },
    {
      "cell_type": "code",
      "source": [
        "# 'S_Angle', 'B_PRES', 'LAT_ACCEL', 'LONG_ACCEL', 'YAW_RATE', 'B_Depth',\n",
        "#        'A_Depth', 'E_Speed', 'V_Speed', 'WHL_SPD_FL', 'WHL_SPD_FR',\n",
        "#        'WHL_SPD_RL', 'WHL_SPD_RR', 'BA_SoC', 'F_Economy', 'E_Col_Temp',\n",
        "#        'Var_1', 'CT', 'MS', 'MC', 'X', 'Y', 'Z', 'BVP', 'EDA', 'HR', 'TEMP',\n",
        "#        'Var_2', 'Var_3', 'Var_4', 'B_FLAG_1', 'E_Status_1', 'E_Status_2',\n",
        "#        'E_Status_3', 'E_Status_4', 'E_Status_5', 'G_Status_0', 'G_Status_1',\n",
        "#        'G_Status_2', 'G_Status_3', 'G_Status_4', 'G_Status_5', 'G_Status_6',\n",
        "#        'HL_High_1', 'HL_Low_1', 'Inhibit_P_1', 'Inhibit_R_1', 'Inhibit_N_1',\n",
        "#        'Inhibit_D_1', 'HevMode_1', 'HevMode_2', 'HevMode_3', 'HevMode_4',\n",
        "#        'HevMode_5', 'HevMode_6', 'HevMode_7', 'HevMode_8', 'HevMode_9',\n",
        "#        'HevMode_10'"
      ],
      "metadata": {
        "id": "4ORMOWgstFa2"
      },
      "execution_count": null,
      "outputs": []
    },
    {
      "cell_type": "code",
      "source": [
        "## one-hot encoding\n",
        "X_train_onehot_cat = pd.get_dummies(X_train[X_cat], columns=['B_FLAG', 'E_Status','G_Status','HL_High','HL_Low','Inhibit_P','Inhibit_R','Inhibit_N','Inhibit_D','DriveMode','HevMode'],drop_first=True)\n",
        "X_test_onehot_cat = pd.get_dummies(X_test[X_cat], columns=['B_FLAG', 'E_Status','G_Status','HL_High','HL_Low','Inhibit_P','Inhibit_R','Inhibit_N','Inhibit_D','DriveMode','HevMode'],drop_first=True)\n",
        "\n",
        "\n",
        "X_train_onehot_cat[\"G_Status_0\"]=0\n",
        "X_train_onehot_cat['G_Status_1']=0\n",
        "X_train_onehot_cat['Inhibit_P_1']=0\n",
        "X_train_onehot_cat['Inhibit_R_1']=0\n",
        "X_train_onehot_cat['Inhibit_N_1']=0\n",
        "X_train_onehot_cat['Inhibit_D_1']=0\n",
        "X_train_onehot_cat['HevMode_1']=0\n",
        "X_train_onehot_cat['HevMode_5']=0\n",
        "\n",
        "X_test_onehot_cat[\"G_Status_0\"]=0\n",
        "X_test_onehot_cat['G_Status_1']=0\n",
        "X_test_onehot_cat['Inhibit_P_1']=0\n",
        "X_test_onehot_cat['Inhibit_R_1']=0\n",
        "X_test_onehot_cat['Inhibit_N_1']=0\n",
        "X_test_onehot_cat['Inhibit_D_1']=0\n",
        "X_test_onehot_cat['HevMode_1']=0\n",
        "\n",
        "print(\"one-hot, X_train\",X_train_onehot_cat.shape)\n",
        "print(\"one-hot, X_test\",X_test_onehot_cat.shape)\n",
        "\n",
        "\n",
        "## 여기서 없는 columns 'HevMode_5' 이므로 x_test에 채워줘야함\n"
      ],
      "metadata": {
        "colab": {
          "base_uri": "https://localhost:8080/"
        },
        "id": "etGEH0degqwZ",
        "outputId": "4578a03b-0e29-4f90-bd0a-f85a2dfd45b6"
      },
      "execution_count": null,
      "outputs": [
        {
          "output_type": "stream",
          "name": "stdout",
          "text": [
            "one-hot, X_train (95910, 29)\n",
            "one-hot, X_test (23978, 29)\n"
          ]
        }
      ]
    },
    {
      "cell_type": "code",
      "source": [
        "# X_train_onehot_cat.columns"
      ],
      "metadata": {
        "colab": {
          "base_uri": "https://localhost:8080/"
        },
        "id": "2qd82X5AjWGw",
        "outputId": "de33c473-c653-4c12-d9c2-f047fa7eb3ad"
      },
      "execution_count": null,
      "outputs": [
        {
          "output_type": "execute_result",
          "data": {
            "text/plain": [
              "Index(['B_FLAG_1', 'E_Status_1', 'E_Status_2', 'E_Status_3', 'E_Status_4',\n",
              "       'E_Status_5', 'G_Status_2', 'G_Status_3', 'G_Status_4', 'G_Status_5',\n",
              "       'G_Status_6', 'HL_High_1', 'HL_Low_1', 'HevMode_2', 'HevMode_3',\n",
              "       'HevMode_4', 'HevMode_6', 'HevMode_7', 'HevMode_8', 'HevMode_9',\n",
              "       'HevMode_10', 'G_Status_0', 'G_Status_1', 'Inhibit_P_1', 'Inhibit_R_1',\n",
              "       'Inhibit_N_1', 'Inhibit_D_1', 'HevMode_1'],\n",
              "      dtype='object')"
            ]
          },
          "metadata": {},
          "execution_count": 48
        }
      ]
    },
    {
      "cell_type": "code",
      "source": [
        "#  X_test_onehot_cat.columns"
      ],
      "metadata": {
        "colab": {
          "base_uri": "https://localhost:8080/"
        },
        "id": "2bxI6HXLjX9e",
        "outputId": "316e463a-9a9e-4227-cbcf-e0f991132279"
      },
      "execution_count": null,
      "outputs": [
        {
          "output_type": "execute_result",
          "data": {
            "text/plain": [
              "Index(['B_FLAG_1', 'E_Status_1', 'E_Status_2', 'E_Status_3', 'E_Status_4',\n",
              "       'E_Status_5', 'G_Status_2', 'G_Status_3', 'G_Status_4', 'G_Status_5',\n",
              "       'G_Status_6', 'HL_High_1', 'HL_Low_1', 'HevMode_2', 'HevMode_3',\n",
              "       'HevMode_4', 'HevMode_5', 'HevMode_6', 'HevMode_7', 'HevMode_8',\n",
              "       'HevMode_9', 'HevMode_10', 'G_Status_0', 'G_Status_1', 'Inhibit_P_1',\n",
              "       'Inhibit_R_1', 'Inhibit_N_1', 'Inhibit_D_1', 'HevMode_1'],\n",
              "      dtype='object')"
            ]
          },
          "metadata": {},
          "execution_count": 49
        }
      ]
    },
    {
      "cell_type": "markdown",
      "source": [
        "## 앞에서 나눠준 x 칼럼들 합치기"
      ],
      "metadata": {
        "id": "YSlUE7BHh1B3"
      }
    },
    {
      "cell_type": "code",
      "source": [
        "X_train_scaled = pd.concat([X_train_scaled_num, X_train_onehot_cat] , axis=1)\n",
        "X_test_scaled = pd.concat([X_test_scaled_num, X_test_onehot_cat] , axis=1)\n",
        "\n",
        "print(\"X_train_scaled\",X_train_scaled.shape)\n",
        "print(\"X_test_scaled\",X_test_scaled.shape)"
      ],
      "metadata": {
        "colab": {
          "base_uri": "https://localhost:8080/"
        },
        "id": "XFz1IImsh7Bn",
        "outputId": "384482d2-2a11-4645-892d-a48b7db8d38f"
      },
      "execution_count": null,
      "outputs": [
        {
          "output_type": "stream",
          "name": "stdout",
          "text": [
            "X_train_scaled (95910, 59)\n",
            "X_test_scaled (23978, 59)\n"
          ]
        }
      ]
    },
    {
      "cell_type": "markdown",
      "source": [
        "# Model (Random Forest)"
      ],
      "metadata": {
        "id": "Pm_DH5nZdT64"
      }
    },
    {
      "cell_type": "code",
      "source": [
        "# ## grid search\n",
        "# from sklearn.model_selection import GridSearchCV\n",
        "\n",
        "# params = { 'n_estimators' : [],\n",
        "#            'max_depth' : [3,5],\n",
        "#             }\n",
        "\n",
        "# # RandomForestClassifier 객체 생성 후 GridSearchCV 수행\n",
        "# rf_clf = RandomForestClassifier(random_state = 0)\n",
        "# grid_cv = GridSearchCV(rf_clf, param_grid = params, cv = 5)\n",
        "# grid_cv.fit(X_train_scaled,y_train)\n"
      ],
      "metadata": {
        "colab": {
          "base_uri": "https://localhost:8080/"
        },
        "id": "KbyyVCfGPZ-7",
        "outputId": "bfce4e12-1ed1-4002-df29-23ac67347b56"
      },
      "execution_count": null,
      "outputs": [
        {
          "output_type": "execute_result",
          "data": {
            "text/plain": [
              "GridSearchCV(cv=5, estimator=RandomForestClassifier(random_state=0),\n",
              "             param_grid={'max_depth': [3, 5], 'n_estimators': [10, 100]})"
            ]
          },
          "metadata": {},
          "execution_count": 13
        }
      ]
    },
    {
      "cell_type": "code",
      "source": [
        "print('최적 하이퍼 파라미터: ', grid_cv.best_params_)\n",
        "print('최고 예측 정확도: {:.4f}'.format(grid_cv.best_score_))"
      ],
      "metadata": {
        "colab": {
          "base_uri": "https://localhost:8080/"
        },
        "id": "zcI_ly3kkcko",
        "outputId": "44d97281-af91-4cd1-95e8-230adda29659"
      },
      "execution_count": null,
      "outputs": [
        {
          "output_type": "stream",
          "name": "stdout",
          "text": [
            "최적 하이퍼 파라미터:  {'max_depth': 5, 'n_estimators': 100}\n",
            "최고 예측 정확도: 0.9832\n"
          ]
        }
      ]
    },
    {
      "cell_type": "markdown",
      "source": [
        "# bset params"
      ],
      "metadata": {
        "id": "ursdTGWVkkUh"
      }
    },
    {
      "cell_type": "code",
      "source": [
        "# RandomForestClassifier 객체 생성 후 GridSearchCV 수행\n",
        "rf_clf_best = RandomForestClassifier(n_estimators = 1000 ,max_depth= 3)\n",
        "\n",
        "rf_clf_best.fit(X_train_scaled, y_train)\n"
      ],
      "metadata": {
        "colab": {
          "base_uri": "https://localhost:8080/"
        },
        "id": "o9Q6yqWXki0e",
        "outputId": "32fdb682-8b19-414f-a96f-906b9aebc513"
      },
      "execution_count": null,
      "outputs": [
        {
          "output_type": "execute_result",
          "data": {
            "text/plain": [
              "RandomForestClassifier(max_depth=3, n_estimators=1000)"
            ]
          },
          "metadata": {},
          "execution_count": 52
        }
      ]
    },
    {
      "cell_type": "code",
      "source": [
        "## 예측값확인\n",
        "from sklearn.metrics import classification_report,confusion_matrix,accuracy_score\n",
        "\n",
        "pred=rf_clf_best.predict(X_test_scaled)\n",
        "get_clf_eval(y_test,pred)"
      ],
      "metadata": {
        "id": "OuM3zz-juyXE"
      },
      "execution_count": null,
      "outputs": []
    },
    {
      "cell_type": "code",
      "source": [
        "## feature importance\n",
        "\n",
        "Variable_Importances = pd.DataFrame([rf_clf_best.feature_importances_], \n",
        "                                    columns=X_train_scaled.columns, \n",
        "                                    index=['importance']).T.sort_values(by=['importance'], ascending=False)\n",
        "Variable_Importances.plot.bar(figsize=(12,6), fontsize=15)\n",
        "plt.title('Variable Importances', fontsize=15)\n",
        "plt.grid()\n",
        "plt.show()"
      ],
      "metadata": {
        "id": "fVSe8HuzuzNN"
      },
      "execution_count": null,
      "outputs": []
    },
    {
      "cell_type": "markdown",
      "source": [
        "## MODEL( xgb )"
      ],
      "metadata": {
        "id": "BTcDT72hrtPk"
      }
    },
    {
      "cell_type": "code",
      "source": [
        "import xgboost as xgb ## XGBoost 불러오기\n",
        "from xgboost import plot_importance ## Feature Importance를 불러오기 위함\n",
        "\n",
        "\n",
        "xgb_model = xgb.XGBClassifier(n_estimators=1000, learning_rate=0.01, gamma=0, subsample=0.75,\n",
        "                           colsample_bytree=1, max_depth=5)\n",
        "xgb_model.fit(X_train_scaled,y_train)\n"
      ],
      "metadata": {
        "id": "CHCmZST-rrwl"
      },
      "execution_count": null,
      "outputs": []
    },
    {
      "cell_type": "code",
      "source": [
        "## 예측값확인\n",
        "from sklearn.metrics import classification_report,confusion_matrix,accuracy_score\n",
        "\n",
        "pred=xgb_model.predict(X_test_scaled)\n",
        "print(\"xgboost 모델\")\n",
        "get_clf_eval(y_test,pred)"
      ],
      "metadata": {
        "id": "9xdcdX2OujqE"
      },
      "execution_count": null,
      "outputs": []
    },
    {
      "cell_type": "markdown",
      "source": [
        "# TEST 제출부분"
      ],
      "metadata": {
        "id": "A8aq0qjPZhLI"
      }
    },
    {
      "cell_type": "markdown",
      "source": [
        "### 최종 제출 test 데이터도 Feature 적용함"
      ],
      "metadata": {
        "id": "Jg5xXHxBlPvf"
      }
    },
    {
      "cell_type": "code",
      "source": [
        "## 총 Feautre 합쳐서 55개로 만들어함"
      ],
      "metadata": {
        "id": "n8DqGPrQnN2G"
      },
      "execution_count": null,
      "outputs": []
    },
    {
      "cell_type": "code",
      "source": [
        "test = pd.read_csv('test.csv')\n",
        "\n",
        "X_cat=[ 'B_FLAG', 'E_Status','G_Status','HL_High','HL_Low','Inhibit_P','Inhibit_R','Inhibit_N','Inhibit_D','DriveMode','HevMode']\n",
        "X_num =['S_Angle', 'B_PRES', 'LAT_ACCEL', 'LONG_ACCEL', 'YAW_RATE',\n",
        "       'B_Depth', 'A_Depth', 'E_Speed', 'V_Speed', 'WHL_SPD_FL', 'WHL_SPD_FR',\n",
        "       'WHL_SPD_RL', 'WHL_SPD_RR', 'BA_SoC', 'F_Economy', 'E_Col_Temp',\n",
        "       'Var_1', 'CT', 'MS', 'MC', 'X', 'Y', 'Z', 'BVP', 'EDA', 'HR', 'TEMP',\n",
        "       'Var_2', 'Var_3', 'Var_4']\n",
        "\n"
      ],
      "metadata": {
        "id": "lblhCH7JmmEn"
      },
      "execution_count": null,
      "outputs": []
    },
    {
      "cell_type": "code",
      "source": [
        "## 연속형 scaling\n",
        "\n",
        "scaler = MinMaxScaler()\n",
        "scaler_fit = scaler.fit(test[X_num])\n",
        "test_num = pd.DataFrame(scaler_fit.transform(test[X_num]), index=test[X_num].index, columns=test[X_num].columns)\n",
        "\n",
        "print(\"scaling \",test_num.shape)\n",
        "\n",
        "# ## one-hot encoding\n",
        "test_cat = pd.get_dummies(test[X_cat], columns=['B_FLAG','E_Status','G_Status','HL_High','HL_Low','Inhibit_P','Inhibit_R','Inhibit_N','Inhibit_D','DriveMode','HevMode'],drop_first=True)\n",
        "\n",
        "test_cat['HevMode_5']=0\n",
        "\n",
        "print(\"one-hot, test_cat\",test_cat.shape)\n",
        "\n",
        "## 피처 합치기\n",
        "test_scaled = pd.concat([test_num, test_cat] , axis=1)\n",
        "\n",
        "print(\"test_scaled\", test_scaled.shape)\n"
      ],
      "metadata": {
        "colab": {
          "base_uri": "https://localhost:8080/"
        },
        "id": "3pGcpKt6lO33",
        "outputId": "64f5af1f-bcf0-43ec-84e2-4b0b87cdf78e"
      },
      "execution_count": null,
      "outputs": [
        {
          "output_type": "stream",
          "name": "stdout",
          "text": [
            "scaling  (452746, 30)\n",
            "one-hot, test_cat (452746, 29)\n",
            "test_scaled (452746, 59)\n"
          ]
        }
      ]
    },
    {
      "cell_type": "code",
      "source": [],
      "metadata": {
        "id": "ns-A_KRqs788"
      },
      "execution_count": null,
      "outputs": []
    },
    {
      "cell_type": "code",
      "source": [
        "### 제출 형식 test 데이터로 예측하기\n",
        "pred=rf_clf_best.predict(test_scaled)\n",
        "print(pred.shape)"
      ],
      "metadata": {
        "colab": {
          "base_uri": "https://localhost:8080/",
          "height": 579
        },
        "id": "nKGYA7fFVPvl",
        "outputId": "331bfa37-b245-4187-a3d7-fad399c659fc"
      },
      "execution_count": null,
      "outputs": [
        {
          "output_type": "stream",
          "name": "stderr",
          "text": [
            "/usr/local/lib/python3.7/dist-packages/sklearn/base.py:493: FutureWarning: The feature names should match those that were passed during fit. Starting version 1.2, an error will be raised.\n",
            "Feature names unseen at fit time:\n",
            "- G_Status_0\n",
            "- G_Status_1\n",
            "- HevMode_1\n",
            "- Inhibit_D_1\n",
            "- Inhibit_N_1\n",
            "- ...\n",
            "Feature names must be in the same order as they were in fit.\n",
            "\n",
            "  warnings.warn(message, FutureWarning)\n"
          ]
        },
        {
          "output_type": "error",
          "ename": "ValueError",
          "evalue": "ignored",
          "traceback": [
            "\u001b[0;31m---------------------------------------------------------------------------\u001b[0m",
            "\u001b[0;31mValueError\u001b[0m                                Traceback (most recent call last)",
            "\u001b[0;32m<ipython-input-33-5d085c03e475>\u001b[0m in \u001b[0;36m<module>\u001b[0;34m\u001b[0m\n\u001b[1;32m      1\u001b[0m \u001b[0;31m### 제출 형식 test 데이터로 예측하기\u001b[0m\u001b[0;34m\u001b[0m\u001b[0;34m\u001b[0m\u001b[0;34m\u001b[0m\u001b[0m\n\u001b[0;32m----> 2\u001b[0;31m \u001b[0mpred\u001b[0m\u001b[0;34m=\u001b[0m\u001b[0mrf_clf_best\u001b[0m\u001b[0;34m.\u001b[0m\u001b[0mpredict\u001b[0m\u001b[0;34m(\u001b[0m\u001b[0mtest_scaled\u001b[0m\u001b[0;34m)\u001b[0m\u001b[0;34m\u001b[0m\u001b[0;34m\u001b[0m\u001b[0m\n\u001b[0m\u001b[1;32m      3\u001b[0m \u001b[0mprint\u001b[0m\u001b[0;34m(\u001b[0m\u001b[0mpred\u001b[0m\u001b[0;34m.\u001b[0m\u001b[0mshape\u001b[0m\u001b[0;34m)\u001b[0m\u001b[0;34m\u001b[0m\u001b[0;34m\u001b[0m\u001b[0m\n",
            "\u001b[0;32m/usr/local/lib/python3.7/dist-packages/sklearn/ensemble/_forest.py\u001b[0m in \u001b[0;36mpredict\u001b[0;34m(self, X)\u001b[0m\n\u001b[1;32m    806\u001b[0m             \u001b[0mThe\u001b[0m \u001b[0mpredicted\u001b[0m \u001b[0mclasses\u001b[0m\u001b[0;34m.\u001b[0m\u001b[0;34m\u001b[0m\u001b[0;34m\u001b[0m\u001b[0m\n\u001b[1;32m    807\u001b[0m         \"\"\"\n\u001b[0;32m--> 808\u001b[0;31m         \u001b[0mproba\u001b[0m \u001b[0;34m=\u001b[0m \u001b[0mself\u001b[0m\u001b[0;34m.\u001b[0m\u001b[0mpredict_proba\u001b[0m\u001b[0;34m(\u001b[0m\u001b[0mX\u001b[0m\u001b[0;34m)\u001b[0m\u001b[0;34m\u001b[0m\u001b[0;34m\u001b[0m\u001b[0m\n\u001b[0m\u001b[1;32m    809\u001b[0m \u001b[0;34m\u001b[0m\u001b[0m\n\u001b[1;32m    810\u001b[0m         \u001b[0;32mif\u001b[0m \u001b[0mself\u001b[0m\u001b[0;34m.\u001b[0m\u001b[0mn_outputs_\u001b[0m \u001b[0;34m==\u001b[0m \u001b[0;36m1\u001b[0m\u001b[0;34m:\u001b[0m\u001b[0;34m\u001b[0m\u001b[0;34m\u001b[0m\u001b[0m\n",
            "\u001b[0;32m/usr/local/lib/python3.7/dist-packages/sklearn/ensemble/_forest.py\u001b[0m in \u001b[0;36mpredict_proba\u001b[0;34m(self, X)\u001b[0m\n\u001b[1;32m    848\u001b[0m         \u001b[0mcheck_is_fitted\u001b[0m\u001b[0;34m(\u001b[0m\u001b[0mself\u001b[0m\u001b[0;34m)\u001b[0m\u001b[0;34m\u001b[0m\u001b[0;34m\u001b[0m\u001b[0m\n\u001b[1;32m    849\u001b[0m         \u001b[0;31m# Check data\u001b[0m\u001b[0;34m\u001b[0m\u001b[0;34m\u001b[0m\u001b[0;34m\u001b[0m\u001b[0m\n\u001b[0;32m--> 850\u001b[0;31m         \u001b[0mX\u001b[0m \u001b[0;34m=\u001b[0m \u001b[0mself\u001b[0m\u001b[0;34m.\u001b[0m\u001b[0m_validate_X_predict\u001b[0m\u001b[0;34m(\u001b[0m\u001b[0mX\u001b[0m\u001b[0;34m)\u001b[0m\u001b[0;34m\u001b[0m\u001b[0;34m\u001b[0m\u001b[0m\n\u001b[0m\u001b[1;32m    851\u001b[0m \u001b[0;34m\u001b[0m\u001b[0m\n\u001b[1;32m    852\u001b[0m         \u001b[0;31m# Assign chunk of trees to jobs\u001b[0m\u001b[0;34m\u001b[0m\u001b[0;34m\u001b[0m\u001b[0;34m\u001b[0m\u001b[0m\n",
            "\u001b[0;32m/usr/local/lib/python3.7/dist-packages/sklearn/ensemble/_forest.py\u001b[0m in \u001b[0;36m_validate_X_predict\u001b[0;34m(self, X)\u001b[0m\n\u001b[1;32m    577\u001b[0m         Validate X whenever one tries to predict, apply, predict_proba.\"\"\"\n\u001b[1;32m    578\u001b[0m         \u001b[0mcheck_is_fitted\u001b[0m\u001b[0;34m(\u001b[0m\u001b[0mself\u001b[0m\u001b[0;34m)\u001b[0m\u001b[0;34m\u001b[0m\u001b[0;34m\u001b[0m\u001b[0m\n\u001b[0;32m--> 579\u001b[0;31m         \u001b[0mX\u001b[0m \u001b[0;34m=\u001b[0m \u001b[0mself\u001b[0m\u001b[0;34m.\u001b[0m\u001b[0m_validate_data\u001b[0m\u001b[0;34m(\u001b[0m\u001b[0mX\u001b[0m\u001b[0;34m,\u001b[0m \u001b[0mdtype\u001b[0m\u001b[0;34m=\u001b[0m\u001b[0mDTYPE\u001b[0m\u001b[0;34m,\u001b[0m \u001b[0maccept_sparse\u001b[0m\u001b[0;34m=\u001b[0m\u001b[0;34m\"csr\"\u001b[0m\u001b[0;34m,\u001b[0m \u001b[0mreset\u001b[0m\u001b[0;34m=\u001b[0m\u001b[0;32mFalse\u001b[0m\u001b[0;34m)\u001b[0m\u001b[0;34m\u001b[0m\u001b[0;34m\u001b[0m\u001b[0m\n\u001b[0m\u001b[1;32m    580\u001b[0m         \u001b[0;32mif\u001b[0m \u001b[0missparse\u001b[0m\u001b[0;34m(\u001b[0m\u001b[0mX\u001b[0m\u001b[0;34m)\u001b[0m \u001b[0;32mand\u001b[0m \u001b[0;34m(\u001b[0m\u001b[0mX\u001b[0m\u001b[0;34m.\u001b[0m\u001b[0mindices\u001b[0m\u001b[0;34m.\u001b[0m\u001b[0mdtype\u001b[0m \u001b[0;34m!=\u001b[0m \u001b[0mnp\u001b[0m\u001b[0;34m.\u001b[0m\u001b[0mintc\u001b[0m \u001b[0;32mor\u001b[0m \u001b[0mX\u001b[0m\u001b[0;34m.\u001b[0m\u001b[0mindptr\u001b[0m\u001b[0;34m.\u001b[0m\u001b[0mdtype\u001b[0m \u001b[0;34m!=\u001b[0m \u001b[0mnp\u001b[0m\u001b[0;34m.\u001b[0m\u001b[0mintc\u001b[0m\u001b[0;34m)\u001b[0m\u001b[0;34m:\u001b[0m\u001b[0;34m\u001b[0m\u001b[0;34m\u001b[0m\u001b[0m\n\u001b[1;32m    581\u001b[0m             \u001b[0;32mraise\u001b[0m \u001b[0mValueError\u001b[0m\u001b[0;34m(\u001b[0m\u001b[0;34m\"No support for np.int64 index based sparse matrices\"\u001b[0m\u001b[0;34m)\u001b[0m\u001b[0;34m\u001b[0m\u001b[0;34m\u001b[0m\u001b[0m\n",
            "\u001b[0;32m/usr/local/lib/python3.7/dist-packages/sklearn/base.py\u001b[0m in \u001b[0;36m_validate_data\u001b[0;34m(self, X, y, reset, validate_separately, **check_params)\u001b[0m\n\u001b[1;32m    583\u001b[0m \u001b[0;34m\u001b[0m\u001b[0m\n\u001b[1;32m    584\u001b[0m         \u001b[0;32mif\u001b[0m \u001b[0;32mnot\u001b[0m \u001b[0mno_val_X\u001b[0m \u001b[0;32mand\u001b[0m \u001b[0mcheck_params\u001b[0m\u001b[0;34m.\u001b[0m\u001b[0mget\u001b[0m\u001b[0;34m(\u001b[0m\u001b[0;34m\"ensure_2d\"\u001b[0m\u001b[0;34m,\u001b[0m \u001b[0;32mTrue\u001b[0m\u001b[0;34m)\u001b[0m\u001b[0;34m:\u001b[0m\u001b[0;34m\u001b[0m\u001b[0;34m\u001b[0m\u001b[0m\n\u001b[0;32m--> 585\u001b[0;31m             \u001b[0mself\u001b[0m\u001b[0;34m.\u001b[0m\u001b[0m_check_n_features\u001b[0m\u001b[0;34m(\u001b[0m\u001b[0mX\u001b[0m\u001b[0;34m,\u001b[0m \u001b[0mreset\u001b[0m\u001b[0;34m=\u001b[0m\u001b[0mreset\u001b[0m\u001b[0;34m)\u001b[0m\u001b[0;34m\u001b[0m\u001b[0;34m\u001b[0m\u001b[0m\n\u001b[0m\u001b[1;32m    586\u001b[0m \u001b[0;34m\u001b[0m\u001b[0m\n\u001b[1;32m    587\u001b[0m         \u001b[0;32mreturn\u001b[0m \u001b[0mout\u001b[0m\u001b[0;34m\u001b[0m\u001b[0;34m\u001b[0m\u001b[0m\n",
            "\u001b[0;32m/usr/local/lib/python3.7/dist-packages/sklearn/base.py\u001b[0m in \u001b[0;36m_check_n_features\u001b[0;34m(self, X, reset)\u001b[0m\n\u001b[1;32m    399\u001b[0m         \u001b[0;32mif\u001b[0m \u001b[0mn_features\u001b[0m \u001b[0;34m!=\u001b[0m \u001b[0mself\u001b[0m\u001b[0;34m.\u001b[0m\u001b[0mn_features_in_\u001b[0m\u001b[0;34m:\u001b[0m\u001b[0;34m\u001b[0m\u001b[0;34m\u001b[0m\u001b[0m\n\u001b[1;32m    400\u001b[0m             raise ValueError(\n\u001b[0;32m--> 401\u001b[0;31m                 \u001b[0;34mf\"X has {n_features} features, but {self.__class__.__name__} \"\u001b[0m\u001b[0;34m\u001b[0m\u001b[0;34m\u001b[0m\u001b[0m\n\u001b[0m\u001b[1;32m    402\u001b[0m                 \u001b[0;34mf\"is expecting {self.n_features_in_} features as input.\"\u001b[0m\u001b[0;34m\u001b[0m\u001b[0;34m\u001b[0m\u001b[0m\n\u001b[1;32m    403\u001b[0m             )\n",
            "\u001b[0;31mValueError\u001b[0m: X has 59 features, but RandomForestClassifier is expecting 52 features as input."
          ]
        }
      ]
    },
    {
      "cell_type": "code",
      "source": [
        "submission = pd.read_csv('sample_submission.csv')\n",
        "submission['GPSMode'] = pred\n",
        "# submission을 csv 파일로 다운 받습니다.\n",
        "submission.to_csv('base_line.csv', index=False)"
      ],
      "metadata": {
        "id": "TAO1MaN6V9eC"
      },
      "execution_count": null,
      "outputs": []
    },
    {
      "cell_type": "code",
      "source": [],
      "metadata": {
        "id": "uerq9K44VPtT"
      },
      "execution_count": null,
      "outputs": []
    }
  ]
}