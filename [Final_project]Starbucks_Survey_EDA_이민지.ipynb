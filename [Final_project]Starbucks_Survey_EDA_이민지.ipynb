{
  "cells": [
    {
      "cell_type": "markdown",
      "metadata": {
        "id": "VJ75qHbGU0LM"
      },
      "source": [
        "## 스타벅스 이벤트 관련 고객 설문 데이터\n",
        "\n",
        "- 스타벅스 고객들의 이벤트 관련 설문에 응답한 데이터의 일부입니다.\n",
        "\n",
        "\n",
        "- 해당 데이터에서 고객들이 이벤트에 대한 응답을 어떻게 하는지, 찾고 고객 프로모션 개선방안에 대한 인사이트를 찾습니다."
      ]
    },
    {
      "cell_type": "markdown",
      "metadata": {
        "id": "0zMeRqCzU0LP"
      },
      "source": [
        "### 0. Data Description\n",
        "\n",
        "1. Profile table\n",
        "\n",
        "> profile 데이터는 설문에 참여한 스타벅스 회원에 관련된 정보가 담겨 있습니다.\n",
        "\n",
        "\n",
        "2. transcript\n",
        "\n",
        "> 이벤트에 참여한 실제 유저들의 응답이 기록되어 있습니다.\n",
        "\n",
        "\n",
        "3. portfoilo\n",
        "\n",
        "> 이벤트를 운영했던 내역에 관한 정보가 담겨 있습니다."
      ]
    },
    {
      "cell_type": "markdown",
      "metadata": {
        "id": "5Xef-UaRU0LQ"
      },
      "source": [
        "### 1. 라이브러리 및 데이터 로드\n",
        "\n",
        "- 분석에 필요한 데이터와, 라이브러리를 불러옵니다."
      ]
    },
    {
      "cell_type": "code",
      "execution_count": null,
      "metadata": {
        "id": "MNeWut4AU0LR"
      },
      "outputs": [],
      "source": [
        "# 데이터 분석 필수 라이브러리 4종 세트 불러오기\n",
        "import pandas as pd\n",
        "import numpy as np\n",
        "import matplotlib.pyplot as plt\n",
        "%matplotlib inline\n",
        "import seaborn as sns\n",
        "\n",
        "import matplotlib as mpl"
      ]
    },
    {
      "cell_type": "code",
      "execution_count": null,
      "metadata": {
        "id": "HWxv85KIpHhO"
      },
      "outputs": [],
      "source": [
        "# Starbucks Customer Data 폴더안에 있는 데이터 3개를 불러오기\n",
        "transcript = pd.read_csv('./transcript.csv', index_col = 0)\n",
        "profile = pd.read_csv('./profile.csv', index_col = 0)\n",
        "portfolio = pd.read_csv('./portfolio.csv', index_col = 0)"
      ]
    },
    {
      "cell_type": "code",
      "source": [
        "##데이터 확인해 보기\n",
        "print(f\"transcript 데이터 : {transcript.shape}\")\n",
        "print(f\"profile 데이터 : {profile.shape}\")\n",
        "print(f\"portfolio 데이터 : {portfolio.shape}\")"
      ],
      "metadata": {
        "id": "EUrAXnEsVeyZ"
      },
      "execution_count": null,
      "outputs": []
    },
    {
      "cell_type": "code",
      "source": [
        "## 정보확인\n",
        "print(\"----------transcript----------\")\n",
        "display(transcript.info())\n",
        "print(\"----------profile----------\")\n",
        "display(profile.info())\n",
        "print(\"----------portfolio----------\")\n",
        "display(portfolio.info())"
      ],
      "metadata": {
        "id": "Pi0281h2We8x"
      },
      "execution_count": null,
      "outputs": []
    },
    {
      "cell_type": "markdown",
      "metadata": {
        "id": "PHbMXkqfU0LT"
      },
      "source": [
        "### 2. 데이터 전처리\n",
        "\n",
        "- 결측치가 존재하는 데이터를 찾아서, 결측치를 처리해줍니다."
      ]
    },
    {
      "cell_type": "code",
      "execution_count": null,
      "metadata": {
        "id": "So720kGoU0LU"
      },
      "outputs": [],
      "source": [
        "# 각 데이터에 결측치가 있는지 확인합니다.\n",
        "## 결측치 확인\n",
        "print(\"----------transcript----------\")\n",
        "display(transcript.isnull().sum())\n",
        "print(\"----------profile----------\")\n",
        "display(profile.isnull().sum())\n",
        "print(\"----------portfolio----------\")\n",
        "display(portfolio.isnull().sum())\n"
      ]
    },
    {
      "cell_type": "markdown",
      "source": [
        "transcript 와 portfolio에서는 결측치가 없으며, profile내의 gender와 income 에서 각각 2175 개의 결측치가 포함되어 있음."
      ],
      "metadata": {
        "id": "tETnHaTQXDMy"
      }
    },
    {
      "cell_type": "code",
      "execution_count": null,
      "metadata": {
        "id": "FaCFMHjKU0LV"
      },
      "outputs": [],
      "source": [
        "# 결측치를 포함하는 데이터들은 어떤 데이터들인지 확인합니다.\n",
        "## 결측치를 포함하는 profile내의 gender와 income의 데이터를 확인함\n",
        "## gender 데이터와 income 데이터 확인하기\n",
        "## gender 데이터는 nominal 데이터로 countplot을 통해서 확인함\n",
        "## income의 경우는 구간에 따라 달라지므로 histplot 통해서 확인함\n",
        "mpl.rc('font',size=12)\n",
        "fig, axes = plt.subplots(nrows=1,ncols=2)\n",
        "plt.tight_layout()\n",
        "fig.set_size_inches(11,5)\n",
        "\n",
        "## gender\n",
        "sns.countplot(x='gender', data=profile , ax=axes[0])\n",
        "axes[0].set(title = \"Gender\")\n",
        "\n",
        "## income\n",
        "sns.histplot(x='income', data=profile ,bins=20 ,ax=axes[1])\n",
        "axes[1].set(title = \"Income\")"
      ]
    },
    {
      "cell_type": "markdown",
      "source": [
        "gender 데이터에는 Female , Male 외에 O 라고 하는 값이 존재합니다.\n",
        "income은 수입을 나타내는 데이터로 단위는 $를 나타내는 것으로 보입니다. 20개의 구간으로 나누어 살펴 보았을 때 60,000 ~ 80,000 구간이 제일 많이 나타난 것을 볼수있습니다.\n"
      ],
      "metadata": {
        "id": "PBXCcYbiewcB"
      }
    },
    {
      "cell_type": "code",
      "execution_count": null,
      "metadata": {
        "id": "E3OiWXDpU0LV"
      },
      "outputs": [],
      "source": [
        "# 결측치를 처리해줍니다. # 평균과 같은 통계량으로 채워주거나, 버립니다.\n",
        "## 여기서는 결측치가 2175로 매우 많지만, 해당 통계량이 gender / income으로 gender의 경우는 평균이나 임의의 값으로 채우는 것이 쉽지 않으므로\n",
        "## 결측치가 있는 데이터는 버리는 방법을 선택함.\n",
        "\n",
        "print(f\"결측치 제거 전 data : { profile.shape} \")\n",
        "profile = profile.dropna(subset=['gender','income'],axis=0)\n",
        "print(f\"결측치 제거 후 data : { profile.shape} \")"
      ]
    },
    {
      "cell_type": "markdown",
      "metadata": {
        "id": "0EfjMOiBU0LW"
      },
      "source": [
        "### 3. profile 데이터 분석\n",
        "\n",
        "- 설문에 참여한 사람 중, 정상적인 데이터로 판단된 데이터에 대한 분석을 수행합니다.\n",
        "\n",
        "\n",
        "- 각 column마다 원하는 통계량을 찾은 뒤, 해당 통계량을 멋지게 시각화해 줄 plot을 seaborn에서 가져와 구현합니다."
      ]
    },
    {
      "cell_type": "code",
      "execution_count": null,
      "metadata": {
        "id": "DXpdXtEgU0LX"
      },
      "outputs": [],
      "source": [
        "# profile의 became_member_on 데이터를 시간 정보로 변환해줍니다.\n",
        "profile.became_member_on = pd.to_datetime(profile.became_member_on.astype(str), format='%Y%m%d')\n",
        "profile.info()"
      ]
    },
    {
      "cell_type": "markdown",
      "metadata": {
        "id": "Skm2AF1YU0LX"
      },
      "source": [
        "#### 성별에 관한 분석"
      ]
    },
    {
      "cell_type": "code",
      "source": [
        "def write_percent(ax,total_size):\n",
        "    for patch in ax.patches:\n",
        "        height = patch.get_height()\n",
        "        width = patch.get_width()\n",
        "#         도형의 왼쪽 테두리\n",
        "        left_coord = patch.get_x()\n",
        "#     전체에서 비율을 얼마나 차지하는지\n",
        "        percent = height / total_size * 100\n",
        "    \n",
        "#     (x,y) 좌표에 텍스트 입력\n",
        "        ax.text(\n",
        "            x=left_coord + width / 2,\n",
        "            y= height + total_size * 0.003,\n",
        "            s=f'{percent:1.1f}%',\n",
        "#             가운데정렬\n",
        "            ha='center'\n",
        "        )"
      ],
      "metadata": {
        "id": "fVq6h16Do0iC"
      },
      "execution_count": null,
      "outputs": []
    },
    {
      "cell_type": "code",
      "execution_count": null,
      "metadata": {
        "id": "gZ3ioDskU0LY"
      },
      "outputs": [],
      "source": [
        "## 성별에 대한 분석\n",
        "fig , ax = plt.subplots()\n",
        "fig.set_size_inches(7,5)\n",
        "\n",
        "ax=sns.countplot(x='gender' , data=profile )\n",
        "write_percent(ax,len(profile))\n",
        "ax.set(title='Gender')"
      ]
    },
    {
      "cell_type": "markdown",
      "source": [
        "셩별은 남자가 57.2%로 제일 많으며, O 라는 카테고리가 존재합니다"
      ],
      "metadata": {
        "id": "PvqtTakapdvQ"
      }
    },
    {
      "cell_type": "markdown",
      "metadata": {
        "id": "8toMSQ_0U0LY"
      },
      "source": [
        "#### 나이에 대한 분석"
      ]
    },
    {
      "cell_type": "code",
      "execution_count": null,
      "metadata": {
        "id": "8N8TRmIIU0LY"
      },
      "outputs": [],
      "source": [
        "## 나이에 대한 분석\n",
        "fig , ax = plt.subplots()\n",
        "fig.set_size_inches(25,5)\n",
        "\n",
        "ax=sns.countplot(x='age' , data=profile )\n",
        "# write_percent(ax,len(profile))\n",
        "ax.set(title='Age')\n",
        "ax.tick_params(axis='x' , labelrotation=45)"
      ]
    },
    {
      "cell_type": "markdown",
      "source": [
        "나이는 18 ~ 100살 이상까지 다양하게 분포되어 있으며, 가장 많은 연령층은 40 ~ 50 대로 보여집니다."
      ],
      "metadata": {
        "id": "gjUWHyZvrPKY"
      }
    },
    {
      "cell_type": "markdown",
      "metadata": {
        "id": "j3PDE0_6U0LY"
      },
      "source": [
        "#### 회원이 된 날짜에 대한 분석"
      ]
    },
    {
      "cell_type": "code",
      "execution_count": null,
      "metadata": {
        "id": "WWgs2zbSU0LZ"
      },
      "outputs": [],
      "source": [
        "## 회원이 된 날짜에 대한 분석\n",
        "## 시간데이터는 연속성이 있으므로 lineplot을 통해서 확인함.\n",
        "## 날짜는 값들이 많이 있으므로 년도만 구분하여 그래프를 통해 표현함.\n",
        "\n",
        "profile['became_member_on_year']=profile['became_member_on'].dt.year\n",
        "profile['became_member_on_month']=profile['became_member_on'].dt.month\n",
        "\n",
        "fig , axes = plt.subplots(nrows=3,ncols=1)\n",
        "# plt.tight_layout()\n",
        "fig.set_size_inches(25,25)\n",
        "plt.subplots_adjust(hspace=0.2)\n",
        "\n",
        "## 1) 연도별 그리기\n",
        "axes[0]=sns.countplot(x='became_member_on_year', data=profile ,ax=axes[0])\n",
        "write_percent(axes[0],len(profile))\n",
        "axes[0].set(title='Customer by Year')\n",
        "\n",
        "\n",
        "\n",
        "## 2) 연도별 월별 변화량 그리기\n",
        "## 필요한 데이터 생성하기\n",
        "grouped = profile.groupby(['became_member_on_year','became_member_on_month'],as_index=False).agg(\n",
        "    customer = ('became_member_on_month','count')\n",
        ")\n",
        "grouped['month'] = grouped['became_member_on_year'].astype('str') +\"-\"+grouped['became_member_on_month'].astype('str')\n",
        "\n",
        "## 연도별 월별 변화량 그리기\n",
        "axes[1]=sns.pointplot(x='became_member_on_month' , y='customer' ,data=grouped ,hue='became_member_on_year',ax=axes[1])\n",
        "axes[1].set(title='Customer by Year & Month')\n",
        "\n",
        "\n",
        "## 3) 연도 + 월별 합쳐서 하나로 그래프 그리기\n",
        "axes[2]=sns.pointplot(x='month' , y='customer' , data=grouped , ax=axes[2])\n",
        "axes[2].set(title='Customer by Year & Month')\n",
        "axes[2].tick_params(axis='x' , labelrotation=45)\n"
      ]
    },
    {
      "cell_type": "markdown",
      "source": [
        "--> 2017년에는 고객이 크게 증가했지만 2018년에는 고객 수가 감소 했다는 것을 알 수 있습니다. "
      ],
      "metadata": {
        "id": "srOTGKAv0ZJa"
      }
    },
    {
      "cell_type": "markdown",
      "metadata": {
        "id": "pJrB122xU0LZ"
      },
      "source": [
        "#### 수입에 대한 분석"
      ]
    },
    {
      "cell_type": "code",
      "execution_count": null,
      "metadata": {
        "id": "H_9IvSb1U0LZ"
      },
      "outputs": [],
      "source": [
        "## income\n",
        "fig , axes = plt.subplots(nrows=2 , ncols=1)\n",
        "plt.subplots_adjust(hspace=0.4)\n",
        "fig.set_size_inches(11,7)\n",
        "\n",
        "sns.histplot(x='income', data=profile ,bins=20,ax=axes[0])\n",
        "axes[0].set(title = \"Income\")\n",
        "\n",
        "sns.histplot(x='income', data=profile ,bins=20 , hue='gender' , multiple='dodge',shrink=0.8 ,ax=axes[1])\n",
        "axes[1].set(title = \"Income by gender\")"
      ]
    },
    {
      "cell_type": "markdown",
      "source": [
        "--> 대부분의 회원은 50,000 ~ 70,000 달러의 수입을 가지고 있으며, 80,000달러 보다 작은 구간에서는 남자회원들의 소득이 높으며, 그 이후의 구간에서는 여성의 수입이 더 높은 것을 확인할 수 있습니다."
      ],
      "metadata": {
        "id": "HG17nkMv02A8"
      }
    },
    {
      "cell_type": "markdown",
      "metadata": {
        "id": "OKxfMpaiU0La"
      },
      "source": [
        "#### profile 데이터에 대한 상관관계 분석"
      ]
    },
    {
      "cell_type": "markdown",
      "source": [
        "profile에서는 age에 따른 수입과 gender에 따른 수입을 비교해 볼 수 있습니다. 일반적으로 age가 낮을 경우 소득이 없다가 높아지면서 소득이 증가할 것이고, 나이가 매우 많이 들면 다시 낮아 질 것을 예상할 수 있습니다.\n",
        "\n",
        "또한 수입의 경우 위의 그래프 결과에서 80,000달러 보다 작은 경우 남성이 일반적으로 많지만 그 이상이 되면 여성이 많은 것을 볼 수 있습니다. 아래의 boxplot에서 살펴보면, 남자의 경우는 분포가 전반적으로 여자에 비해 낮게 되어있으므로, 120,000달러 근처에서의 수입을 이상치로 판단하고 있음을 알 수 있습니다."
      ],
      "metadata": {
        "id": "VXwtfES61tif"
      }
    },
    {
      "cell_type": "code",
      "execution_count": null,
      "metadata": {
        "id": "_XPN5W4zU0La"
      },
      "outputs": [],
      "source": [
        "mpl.rc('font',size=13)\n",
        "fig , axes = plt.subplots(nrows=2 , ncols=1)\n",
        "plt.subplots_adjust(hspace=0.5)\n",
        "fig.set_size_inches(11,15)\n",
        "\n",
        "## age vs income\n",
        "## ~20 수정\n",
        "profile['age_fil']=profile['age']\n",
        "profile.loc[profile['age']=='~20','age_fil'] = 10\n",
        "profile['age_fil'] = profile['age_fil'].astype('int')\n",
        "\n",
        "## 그래프생성\n",
        "profile.loc[ (profile['age_fil']) < 20 ,'age_class'] = '~20'\n",
        "profile.loc[ (profile['age_fil'] >= 20 ) & (profile['age_fil'] < 40 ),'age_class'] = '20~40'\n",
        "profile.loc[ (profile['age_fil'] >= 40 ) & (profile['age_fil'] < 60 ),'age_class'] = '40~60'\n",
        "profile.loc[ (profile['age_fil'] >= 60 ) & (profile['age_fil'] < 80 ),'age_class'] = '60~80'\n",
        "profile.loc[ (profile['age_fil'] >= 80 ) & (profile['age_fil'] < 100 ),'age_class'] = '80~100'\n",
        "profile.loc[ (profile['age_fil'] >= 100 ),'age_class'] = '100~'\n",
        "\n",
        "sns.boxplot(x='age_class', y='income', data=profile ,ax=axes[0], order=['~20','20~40','40~60','60~80','80~100','100~'],)\n",
        "axes[0].set(title = \"Age VS Income\")\n",
        "axes[0].tick_params(axis='x', labelrotation=45)\n",
        "\n",
        "\n",
        "## gender vs income\n",
        "sns.boxplot(x='gender', y='income', data=profile ,ax=axes[1])\n",
        "axes[1].set(title = \"Gender VS Income\")"
      ]
    },
    {
      "cell_type": "markdown",
      "metadata": {
        "id": "KAliXBzqU0La"
      },
      "source": [
        "### 4. transcript에 대한 분석\n",
        "\n",
        "- 각 column마다 원하는 통계량을 찾은 뒤, 해당 통계량을 멋지게 시각화해 줄 plot을 seaborn에서 가져와 구현합니다.\n",
        "\n",
        "\n",
        "- `person`과 `values` column은 분석 대상에서 제외합니다.\n",
        "\n",
        "\n",
        "> values에 대한 패턴이 궁금하다면, 아래 코드를 참고해보세요 ! (배우지 않은 내용이 있어, 어려울 수 있습니다)"
      ]
    },
    {
      "cell_type": "markdown",
      "metadata": {
        "id": "Zs3ByWYBU0La"
      },
      "source": [
        "#### event에 대한 분석"
      ]
    },
    {
      "cell_type": "code",
      "execution_count": null,
      "metadata": {
        "id": "fdU9BEIEU0Lb"
      },
      "outputs": [],
      "source": [
        "## person 과 values는 분석 대상에서 제외함\n",
        "## event에 대한 value 값을 확인함\n",
        "np.round(transcript['event'].value_counts() / transcript['event'].value_counts().sum() * 100,1)"
      ]
    },
    {
      "cell_type": "markdown",
      "source": [
        "event에 대한 값은 transction(거래)이 45.3%로 매우 많은 값을 나타내며, 그다음으로 offer_receive가 24.9로 많은 양을 나타내는 것을 볼 수 있습니다."
      ],
      "metadata": {
        "id": "l4unW_Sv6j0Y"
      }
    },
    {
      "cell_type": "code",
      "source": [
        "## 데이터 시각화\n",
        "mpl.rc('font',size=15)\n",
        "fig , ax = plt.subplots()\n",
        "fig.set_size_inches(11,7)\n",
        "\n",
        "ax=sns.countplot(x='event',data=transcript, order=transcript['event'].value_counts().sort_values(ascending=False).index)\n",
        "write_percent(ax,len(transcript))\n",
        "ax.set(title='Event Category')"
      ],
      "metadata": {
        "id": "mjmFbq4X6mSY"
      },
      "execution_count": null,
      "outputs": []
    },
    {
      "cell_type": "markdown",
      "metadata": {
        "id": "iP5BIZXvU0Lb"
      },
      "source": [
        "#### time에 대한 분석"
      ]
    },
    {
      "cell_type": "markdown",
      "source": [
        "time은 테스트 시작 이후의 시간을 의미한다는 것을 구글링을 통해서 알 수 있엇습니다. 결국 t=0 부터 시작하여 얼마간의 시간이 지났는 지를 의미합니다."
      ],
      "metadata": {
        "id": "WmHvK3Zf9IkH"
      }
    },
    {
      "cell_type": "code",
      "execution_count": null,
      "metadata": {
        "id": "enD3l0kJU0Lb"
      },
      "outputs": [],
      "source": [
        "transcript['time'].unique()"
      ]
    },
    {
      "cell_type": "code",
      "source": [
        "## pandas cut을 이용해서 총 8개의 구간으로 시간을 나눠 준다. 이 때 구간은 적절하게 8개로 나누어 준다.\n",
        "transcript['Timeout'] = pd.cut(x=transcript['time'], bins=[0, 100, 200, 300, 400, 500,600,700,800], include_lowest=True,\n",
        "                    labels=['0-100 days', '100-200 days', '200-300 days', '300-400 days', '400-500 days', '500-600 days', '600-700 days', '700-800 days'])\n",
        "\n",
        "##각각의 비율확인\n",
        "np.round(transcript['Timeout'].value_counts() / transcript['Timeout'].value_counts().sum() * 100,2)"
      ],
      "metadata": {
        "id": "ys-1zIId_cMz"
      },
      "execution_count": null,
      "outputs": []
    },
    {
      "cell_type": "code",
      "source": [
        "## 시각화\n",
        "mpl.rc('font',size=13)\n",
        "fig, ax = plt.subplots()\n",
        "fig.set_size_inches(11,10)\n",
        "\n",
        "ax=sns.countplot(x='Timeout', data=transcript)\n",
        "ax.set(title='Timeout Starbucks')\n",
        "ax.tick_params(axis='x', labelrotation=45)"
      ],
      "metadata": {
        "id": "wtyzkYlo_cKy"
      },
      "execution_count": null,
      "outputs": []
    },
    {
      "cell_type": "markdown",
      "metadata": {
        "id": "Hx_cZ0EwU0Lb"
      },
      "source": [
        "#### (Advanced, optional) value에 대한 분석 "
      ]
    },
    {
      "cell_type": "markdown",
      "source": [
        "--> 여기서 분석하려고 하는 것은 transcript 에 들어있는 user의 접속 기록들을 살펴보고 , 어떤 목적으로 접속했는 지에 대한 통계를 보는 것 입니다.\n",
        "\n",
        "-> 추가로 접속했을 때의 transcript 내의 value에 offer_id 또는 거래 금액에 대한 정보가 있으므로, offer id를 통해서 portpolio 내에 있는 각 offer_id와 비교하여 사용자가 어떤 목적으로 방문을 많이 했는 지를 찾을 수 있습니다."
      ],
      "metadata": {
        "id": "oQkCqnmqCk4B"
      }
    },
    {
      "cell_type": "code",
      "source": [
        "transcript"
      ],
      "metadata": {
        "id": "S8MLlL2ZC_Lb"
      },
      "execution_count": null,
      "outputs": []
    },
    {
      "cell_type": "code",
      "execution_count": null,
      "metadata": {
        "id": "9Lw9lFANU0Lb"
      },
      "outputs": [],
      "source": [
        "# str로 되어있는 데이터를 dictionary로 변환\n",
        "## string으로 형 변환된 것을 eval을 사용해서 코드화를 시킴.\n",
        "## literal_eval을 사용할 수도 있음\n",
        "\n",
        "transcript['value'] = transcript['value'].astype('str').apply(lambda x:eval(x))\n",
        "print(f\"type: {type(transcript['value'])}\")"
      ]
    },
    {
      "cell_type": "code",
      "execution_count": null,
      "metadata": {
        "id": "tHpYwZtsU0Lc"
      },
      "outputs": [],
      "source": [
        "# event에 따른 value의 차이 확인\n",
        "## value 안에 있는 항목을 분류하고, offer_id를 추출하기 위해서 key와 value 값을 분리하여 파생피처를 추가함.\n",
        "transcript[\"value_key\"] = transcript['value'].apply(lambda x:list(x.keys())[0])\n",
        "transcript[\"value_value\"] = transcript['value'].apply(lambda x:list(x.values())[0])\n",
        "transcript"
      ]
    },
    {
      "cell_type": "code",
      "execution_count": null,
      "metadata": {
        "id": "MDFJEVXKU0Lc"
      },
      "outputs": [],
      "source": [
        "## value category에 대한 분류 값을 확인함\n",
        "plt.figure(figsize=(8, 6))\n",
        "sns.countplot(data=transcript, x=\"value_key\")\n",
        "plt.show()"
      ]
    },
    {
      "cell_type": "code",
      "execution_count": null,
      "metadata": {
        "id": "-jyWEksRU0Ld"
      },
      "outputs": [],
      "source": [
        "## transcript 데이터에서 offer_id에 따른 접속목적을 확인하기 위해서 offer_id를 제공한 경우의 데이터를 필터링함\n",
        "\n",
        "temp = transcript.loc[transcript['value_key'] != \"amount\", \"value_value\"]\n",
        "temp_df = pd.DataFrame({\"id\" : temp.values})\n",
        "temp_df"
      ]
    },
    {
      "cell_type": "code",
      "execution_count": null,
      "metadata": {
        "id": "6LLj99QWU0Ld"
      },
      "outputs": [],
      "source": [
        "temp.value_counts()"
      ]
    },
    {
      "cell_type": "code",
      "execution_count": null,
      "metadata": {
        "id": "dd3Hm3LpU0Ld"
      },
      "outputs": [],
      "source": [
        "## portpolio 내에 있는 offer_id 정보와 합치기 위해서 아래와 같이 merge를 활용함.\n",
        "## how는 temp_df에 어느방향으로 붙이는 것이며, on은 어떤 피처를 기준으로 합칠지에 대한 것을 나타냄\n",
        "\n",
        "temp_portfolio = pd.merge(temp_df, portfolio, how=\"left\", on=\"id\")\n",
        "temp_portfolio"
      ]
    },
    {
      "cell_type": "code",
      "execution_count": null,
      "metadata": {
        "id": "DV0yrB0HU0Le"
      },
      "outputs": [],
      "source": [
        "## 실제 user가 접속할 때 제공받은 offer_id를 통해서 어떤 방법으로 접속했는지를 확인할 수 있음\n",
        "\n",
        "plt.figure(figsize=(18, 10))\n",
        "sns.countplot(data=temp_portfolio, x=\"channels\", palette=\"Set2\")\n",
        "plt.show()"
      ]
    }
  ],
  "metadata": {
    "colab": {
      "name": "Starbucks Survey EDA.ipynb",
      "private_outputs": true,
      "provenance": [],
      "collapsed_sections": []
    },
    "kernelspec": {
      "display_name": "Python 3 (ipykernel)",
      "language": "python",
      "name": "python3"
    },
    "language_info": {
      "codemirror_mode": {
        "name": "ipython",
        "version": 3
      },
      "file_extension": ".py",
      "mimetype": "text/x-python",
      "name": "python",
      "nbconvert_exporter": "python",
      "pygments_lexer": "ipython3",
      "version": "3.8.2"
    }
  },
  "nbformat": 4,
  "nbformat_minor": 0
}